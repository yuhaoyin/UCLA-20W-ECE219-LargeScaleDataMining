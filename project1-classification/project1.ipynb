{
 "cells": [
  {
   "cell_type": "code",
   "execution_count": 1,
   "metadata": {},
   "outputs": [],
   "source": [
    "from sklearn.datasets import fetch_20newsgroups\n",
    "import matplotlib.pyplot as plt\n",
    "\n",
    "import numpy as np\n",
    "np.random.seed(42)\n",
    "import random\n",
    "random.seed(42)"
   ]
  },
  {
   "cell_type": "markdown",
   "metadata": {},
   "source": [
    "# Question 1: Histogram of Training Documents"
   ]
  },
  {
   "cell_type": "code",
   "execution_count": 104,
   "metadata": {},
   "outputs": [
    {
     "data": {
      "image/png": "[encoded data removed]",
      "text/plain": [
       "<Figure size 432x288 with 1 Axes>"
      ]
     },
     "metadata": {
      "needs_background": "light"
     },
     "output_type": "display_data"
    }
   ],
   "source": [
    "newsgroups = fetch_20newsgroups(subset = 'train')\n",
    "\n",
    "plt.hist(newsgroups.target, bins=20, facecolor='blue', alpha = 0.7, edgecolor='black', linewidth=2)\n",
    "plt.xlabel('Document Category')\n",
    "plt.ylabel('Number of Documents')\n",
    "plt.title('Histogram of Training Documents', fontweight='bold')\n",
    "plt.show()\n",
    "# plt.savefig('hist.png')"
   ]
  },
  {
   "cell_type": "markdown",
   "metadata": {},
   "source": [
    "# Question 2: Feature Extraction"
   ]
  },
  {
   "cell_type": "code",
   "execution_count": 3,
   "metadata": {},
   "outputs": [],
   "source": [
    "categories = ['comp.graphics', 'comp.os.ms-windows.misc', 'comp.sys.ibm.pc.hardware', 'comp.sys.mac.hardware',\n",
    "'rec.autos', 'rec.motorcycles', 'rec.sport.baseball', 'rec.sport.hockey']\n",
    "\n",
    "train_dataset = fetch_20newsgroups(subset = 'train', categories = categories, shuffle = True, random_state = None)\n",
    "test_dataset = fetch_20newsgroups(subset = 'test', categories = categories, shuffle = True, random_state = None)"
   ]
  },
  {
   "cell_type": "code",
   "execution_count": 123,
   "metadata": {},
   "outputs": [],
   "source": [
    "import nltk\n",
    "# nltk.download('punkt')\n",
    "# nltk.download('averaged_perceptron_tagger')\n",
    "\n",
    "from nltk import pos_tag\n",
    "from nltk.tokenize import word_tokenize\n",
    "from nltk.stem.wordnet import WordNetLemmatizer\n",
    "\n",
    "from nltk.corpus import wordnet as wn\n",
    "from collections import defaultdict\n",
    "\n",
    "# pos_tags: treebank to wordnet\n",
    "tag_map = defaultdict(lambda: wn.NOUN)\n",
    "tag_map['J'] = wn.ADJ\n",
    "tag_map['V'] = wn.VERB\n",
    "tag_map['R'] = wn.ADV\n",
    "\n",
    "wnl = WordNetLemmatizer()\n",
    "\n",
    "    \n",
    "def lemmatize(data):\n",
    "    lemmatized = []\n",
    "    for doc in data:\n",
    "        tokens = word_tokenize(doc)\n",
    "        words = [wnl.lemmatize(word, tag_map[tag[0]]) for word,tag in pos_tag(tokens) \n",
    "                 if wnl.lemmatize(word, tag_map[tag[0]]).isalpha()]\n",
    "        sentence = ' '.join(words)\n",
    "        lemmatized.append(sentence)\n",
    "    return lemmatized"
   ]
  },
  {
   "cell_type": "code",
   "execution_count": 109,
   "metadata": {},
   "outputs": [],
   "source": [
    "train_dataset_lemmatized = lemmatize(train_dataset.data)\n",
    "test_dataset_lemmatized = lemmatize(test_dataset.data)"
   ]
  },
  {
   "cell_type": "code",
   "execution_count": 110,
   "metadata": {},
   "outputs": [],
   "source": [
    "from sklearn.feature_extraction.text import CountVectorizer\n",
    "from sklearn.feature_extraction.text import TfidfTransformer\n",
    "\n",
    "vectorizer = CountVectorizer(stop_words = 'english', min_df = 3)\n",
    "X_train_counts = vectorizer.fit_transform(train_dataset_lemmatized)\n",
    "X_test_counts = vectorizer.transform(test_dataset_lemmatized)\n",
    "\n",
    "tfidf_transformer = TfidfTransformer()\n",
    "X_train_tfidf = tfidf_transformer.fit_transform(X_train_counts)\n",
    "X_test_tfidf = tfidf_transformer.transform(X_test_counts)"
   ]
  },
  {
   "cell_type": "code",
   "execution_count": 111,
   "metadata": {},
   "outputs": [
    {
     "name": "stdout",
     "output_type": "stream",
     "text": [
      "(4732, 12609) (3150, 12609)\n"
     ]
    }
   ],
   "source": [
    "print(X_train_counts.shape, X_test_counts.shape)"
   ]
  },
  {
   "cell_type": "markdown",
   "metadata": {},
   "source": [
    "# Question 3: Dimensionality Reduction"
   ]
  },
  {
   "cell_type": "code",
   "execution_count": 124,
   "metadata": {},
   "outputs": [
    {
     "name": "stdout",
     "output_type": "stream",
     "text": [
      "Squared Frobenius Norm for LSI: 4120.021460301468\n"
     ]
    }
   ],
   "source": [
    "# Latent Semantic Indexing\n",
    "from sklearn.decomposition import TruncatedSVD\n",
    "\n",
    "lsi = TruncatedSVD(n_components = 50)\n",
    "X_train_LSI = lsi.fit_transform(X_train_tfidf)\n",
    "X_test_LSI = lsi.transform(X_test_tfidf)\n",
    "\n",
    "USigmaVt = lsi.inverse_transform(X_train_LSI)\n",
    "LSI_frobenius = np.sum(np.array(X_train_tfidf - USigmaVt)**2)\n",
    "print(\"Squared Frobenius Norm for LSI: \" + str(LSI_frobenius))"
   ]
  },
  {
   "cell_type": "code",
   "execution_count": 125,
   "metadata": {},
   "outputs": [
    {
     "name": "stdout",
     "output_type": "stream",
     "text": [
      "Squared Frobenius Norm for NMF: 4155.758160161303\n"
     ]
    }
   ],
   "source": [
    "# Non-negativee Matrix Factorization\n",
    "from sklearn.decomposition import NMF\n",
    "\n",
    "nmf = NMF(n_components=50)\n",
    "X_train_NMF = nmf.fit_transform(X_train_tfidf)\n",
    "X_test_NMF = nmf.transform(X_test_tfidf)\n",
    "\n",
    "WH = np.dot(X_train_NMF, nmf.components_)\n",
    "NMF_frobenius = np.sum(np.array(X_train_tfidf - WH)**2)\n",
    "print(\"Squared Frobenius Norm for NMF: \" + str(NMF_frobenius))"
   ]
  },
  {
   "cell_type": "markdown",
   "metadata": {},
   "source": [
    "# Question 4: Classification Algorithms SVM"
   ]
  },
  {
   "cell_type": "code",
   "execution_count": 116,
   "metadata": {},
   "outputs": [],
   "source": [
    "Y_train_binary = np.zeros(train_dataset.target.shape)\n",
    "Y_test_binary = np.zeros(test_dataset.target.shape)\n",
    "\n",
    "Y_train_binary[train_dataset.target > 3] = 1\n",
    "Y_test_binary[test_dataset.target > 3] = 1"
   ]
  },
  {
   "cell_type": "code",
   "execution_count": 131,
   "metadata": {},
   "outputs": [
    {
     "data": {
      "text/plain": [
       "array([6, 7, 4, 2, 1, 3, 0, 7, 5, 3, 0, 5, 5, 5, 3, 1, 3, 0, 0, 2])"
      ]
     },
     "execution_count": 131,
     "metadata": {},
     "output_type": "execute_result"
    }
   ],
   "source": [
    "train_dataset.target[:20]"
   ]
  },
  {
   "cell_type": "code",
   "execution_count": 132,
   "metadata": {},
   "outputs": [
    {
     "data": {
      "text/plain": [
       "array([1., 1., 1., 0., 0., 0., 0., 1., 1., 0., 0., 1., 1., 1., 0., 0., 0.,\n",
       "       0., 0., 0.])"
      ]
     },
     "execution_count": 132,
     "metadata": {},
     "output_type": "execute_result"
    }
   ],
   "source": [
    "Y_train_binary[:20]"
   ]
  },
  {
   "cell_type": "code",
   "execution_count": 118,
   "metadata": {},
   "outputs": [
    {
     "data": {
      "text/plain": [
       "SVC(C=0.0001, break_ties=False, cache_size=200, class_weight=None, coef0=0.0,\n",
       "    decision_function_shape='ovr', degree=3, gamma='scale', kernel='linear',\n",
       "    max_iter=-1, probability=False, random_state=None, shrinking=True,\n",
       "    tol=0.001, verbose=False)"
      ]
     },
     "execution_count": 118,
     "metadata": {},
     "output_type": "execute_result"
    }
   ],
   "source": [
    "from sklearn.svm import SVC\n",
    "\n",
    "svm_hard = SVC(C=1000, kernel='linear')\n",
    "svm_soft = SVC(C=0.0001, kernel='linear')\n",
    "\n",
    "# model training\n",
    "svm_hard.fit(X_train_LSI, Y_train_binary)\n",
    "svm_soft.fit(X_train_LSI, Y_train_binary)"
   ]
  },
  {
   "cell_type": "code",
   "execution_count": 119,
   "metadata": {},
   "outputs": [],
   "source": [
    "Y_test_prob_hard = svm_hard.decision_function(X_test_LSI)\n",
    "Y_test_label_hard = svm_hard.predict(X_test_LSI)\n",
    "Y_test_prob_soft = svm_soft.decision_function(X_test_LSI)\n",
    "Y_test_label_soft = svm_soft.predict(X_test_LSI)"
   ]
  },
  {
   "cell_type": "code",
   "execution_count": 120,
   "metadata": {},
   "outputs": [],
   "source": [
    "from sklearn.metrics import roc_curve\n",
    "\n",
    "fpr_hard, tpr_hard, _ = roc_curve(Y_test_binary, Y_test_prob_hard)\n",
    "fpr_soft, tpr_soft, _ = roc_curve(Y_test_binary, Y_test_prob_soft)"
   ]
  },
  {
   "cell_type": "code",
   "execution_count": 121,
   "metadata": {},
   "outputs": [
    {
     "data": {
      "image/png": "[encoded data removed]",
      "text/plain": [
       "<Figure size 432x288 with 1 Axes>"
      ]
     },
     "metadata": {
      "needs_background": "light"
     },
     "output_type": "display_data"
    }
   ],
   "source": [
    "plt.figure(1)\n",
    "plt.plot([0, 1], [0, 1], 'k--')\n",
    "plt.plot(fpr_hard, tpr_hard, label = 'Hard', color = 'r')\n",
    "plt.plot(fpr_soft, tpr_soft, label = 'SOFT', color = 'b')\n",
    "plt.xlabel('False Positive Rate')\n",
    "plt.ylabel('True Positive Rate')\n",
    "plt.title('ROC Curve')\n",
    "plt.legend(loc='best')\n",
    "plt.show()"
   ]
  },
  {
   "cell_type": "code",
   "execution_count": 122,
   "metadata": {},
   "outputs": [
    {
     "name": "stdout",
     "output_type": "stream",
     "text": [
      "Hard Margin Linear SVMs:\n",
      "confusion_matrix:\n",
      " [[1510   50]\n",
      " [  27 1563]]\n",
      "accuracy: 0.9755555555555555\n",
      "recall: 0.9830188679245283\n",
      "precision: 0.9690018598884067\n",
      "f1_score: 0.9759600374648767\n",
      "\n",
      "\n",
      "Soft Margin Linear SVMs:\n",
      "confusion_matrix:\n",
      " [[   0 1560]\n",
      " [   0 1590]]\n",
      "accuracy: 0.5047619047619047\n",
      "recall: 1.0\n",
      "precision: 0.5047619047619047\n",
      "f1_score: 0.6708860759493671\n"
     ]
    }
   ],
   "source": [
    "from sklearn.metrics import confusion_matrix\n",
    "from sklearn.metrics import accuracy_score\n",
    "from sklearn.metrics import recall_score\n",
    "from sklearn.metrics import precision_score\n",
    "from sklearn.metrics import f1_score\n",
    "\n",
    "print('Hard Margin Linear SVMs:')\n",
    "print('confusion_matrix:\\n', confusion_matrix(Y_test_binary, Y_test_label_hard))\n",
    "print('accuracy:', accuracy_score(Y_test_binary, Y_test_label_hard))\n",
    "print('recall:', recall_score(Y_test_binary, Y_test_label_hard))\n",
    "print('precision:', precision_score(Y_test_binary, Y_test_label_hard))\n",
    "print('f1_score:', f1_score(Y_test_binary, Y_test_label_hard))\n",
    "print('\\n')\n",
    "print('Soft Margin Linear SVMs:')\n",
    "print('confusion_matrix:\\n', confusion_matrix(Y_test_binary, Y_test_label_soft))\n",
    "print('accuracy:', accuracy_score(Y_test_binary, Y_test_label_soft))\n",
    "print('recall:', recall_score(Y_test_binary, Y_test_label_soft))\n",
    "print('precision:', precision_score(Y_test_binary, Y_test_label_soft))\n",
    "print('f1_score:', f1_score(Y_test_binary, Y_test_label_soft))"
   ]
  },
  {
   "cell_type": "code",
   "execution_count": 38,
   "metadata": {},
   "outputs": [
    {
     "data": {
      "image/png": "[encoded data removed]",
      "text/plain": [
       "<Figure size 432x288 with 2 Axes>"
      ]
     },
     "metadata": {
      "needs_background": "light"
     },
     "output_type": "display_data"
    }
   ],
   "source": [
    "from sklearn.metrics import plot_confusion_matrix\n",
    "\n",
    "class_names = ['Computer Technology', 'Recreational Activity']\n",
    "\n",
    "plot_confusion_matrix(svm_hard, X_test_LSI, Y_test_binary, display_labels=class_names, \n",
    "                             values_format='d', xticks_rotation=45, cmap=plt.cm.Blues)\n",
    "\n",
    "plt.title('COnfusion MATrix')\n",
    "plt.show()"
   ]
  },
  {
   "cell_type": "code",
   "execution_count": 39,
   "metadata": {},
   "outputs": [
    {
     "data": {
      "image/png": "[encoded data removed]",
      "text/plain": [
       "<Figure size 432x288 with 2 Axes>"
      ]
     },
     "metadata": {
      "needs_background": "light"
     },
     "output_type": "display_data"
    }
   ],
   "source": [
    "plot_confusion_matrix(svm_soft, X_test_LSI, Y_test_binary, display_labels=class_names, \n",
    "                             values_format='d', xticks_rotation=45, cmap=plt.cm.Blues)\n",
    "\n",
    "plt.title('COnfusion MATrix')\n",
    "plt.show()"
   ]
  },
  {
   "cell_type": "code",
   "execution_count": 40,
   "metadata": {},
   "outputs": [
    {
     "data": {
      "text/plain": [
       "GridSearchCV(cv=5, error_score=nan,\n",
       "             estimator=SVC(C=1.0, break_ties=False, cache_size=200,\n",
       "                           class_weight=None, coef0=0.0,\n",
       "                           decision_function_shape='ovr', degree=3,\n",
       "                           gamma='scale', kernel='linear', max_iter=-1,\n",
       "                           probability=True, random_state=None, shrinking=True,\n",
       "                           tol=0.001, verbose=False),\n",
       "             iid='deprecated', n_jobs=None,\n",
       "             param_grid={'C': [0.001, 0.01, 0.1, 1, 10, 100, 1000]},\n",
       "             pre_dispatch='2*n_jobs', refit=True, return_train_score=False,\n",
       "             scoring=None, verbose=0)"
      ]
     },
     "execution_count": 40,
     "metadata": {},
     "output_type": "execute_result"
    }
   ],
   "source": [
    "# Cross Validation\n",
    "from sklearn.model_selection import GridSearchCV\n",
    "\n",
    "svm_cv = GridSearchCV(estimator=SVC(kernel='linear', probability=True), \n",
    "                      param_grid={'C':[10**-3,10**-2,10**-1,10**0,10**1,10**2,10**3]}, cv=5)\n",
    "\n",
    "svm_cv.fit(X_train_LSI, Y_train_binary)"
   ]
  },
  {
   "cell_type": "code",
   "execution_count": 41,
   "metadata": {},
   "outputs": [
    {
     "data": {
      "text/html": [
       "<div>\n",
       "<style scoped>\n",
       "    .dataframe tbody tr th:only-of-type {\n",
       "        vertical-align: middle;\n",
       "    }\n",
       "\n",
       "    .dataframe tbody tr th {\n",
       "        vertical-align: top;\n",
       "    }\n",
       "\n",
       "    .dataframe thead th {\n",
       "        text-align: right;\n",
       "    }\n",
       "</style>\n",
       "<table border=\"1\" class=\"dataframe\">\n",
       "  <thead>\n",
       "    <tr style=\"text-align: right;\">\n",
       "      <th></th>\n",
       "      <th>param_C</th>\n",
       "      <th>mean_test_score</th>\n",
       "    </tr>\n",
       "  </thead>\n",
       "  <tbody>\n",
       "    <tr>\n",
       "      <th>0</th>\n",
       "      <td>0.001</td>\n",
       "      <td>0.504861</td>\n",
       "    </tr>\n",
       "    <tr>\n",
       "      <th>1</th>\n",
       "      <td>0.01</td>\n",
       "      <td>0.505283</td>\n",
       "    </tr>\n",
       "    <tr>\n",
       "      <th>2</th>\n",
       "      <td>0.1</td>\n",
       "      <td>0.963441</td>\n",
       "    </tr>\n",
       "    <tr>\n",
       "      <th>3</th>\n",
       "      <td>1</td>\n",
       "      <td>0.970415</td>\n",
       "    </tr>\n",
       "    <tr>\n",
       "      <th>4</th>\n",
       "      <td>10</td>\n",
       "      <td>0.971048</td>\n",
       "    </tr>\n",
       "    <tr>\n",
       "      <th>5</th>\n",
       "      <td>100</td>\n",
       "      <td>0.970835</td>\n",
       "    </tr>\n",
       "    <tr>\n",
       "      <th>6</th>\n",
       "      <td>1000</td>\n",
       "      <td>0.972316</td>\n",
       "    </tr>\n",
       "  </tbody>\n",
       "</table>\n",
       "</div>"
      ],
      "text/plain": [
       "  param_C  mean_test_score\n",
       "0   0.001         0.504861\n",
       "1    0.01         0.505283\n",
       "2     0.1         0.963441\n",
       "3       1         0.970415\n",
       "4      10         0.971048\n",
       "5     100         0.970835\n",
       "6    1000         0.972316"
      ]
     },
     "execution_count": 41,
     "metadata": {},
     "output_type": "execute_result"
    }
   ],
   "source": [
    "import pandas as pd\n",
    "pd.DataFrame(svm_cv.cv_results_)[['param_C','mean_test_score']] # best C: 10"
   ]
  },
  {
   "cell_type": "code",
   "execution_count": 42,
   "metadata": {},
   "outputs": [
    {
     "data": {
      "text/plain": [
       "SVC(C=1000, break_ties=False, cache_size=200, class_weight=None, coef0=0.0,\n",
       "    decision_function_shape='ovr', degree=3, gamma='scale', kernel='linear',\n",
       "    max_iter=-1, probability=False, random_state=None, shrinking=True,\n",
       "    tol=0.001, verbose=False)"
      ]
     },
     "execution_count": 42,
     "metadata": {},
     "output_type": "execute_result"
    }
   ],
   "source": [
    "svm_best = SVC(C=svm_cv.best_params_['C'], kernel='linear')\n",
    "svm_best.fit(X_train_LSI, Y_train_binary)"
   ]
  },
  {
   "cell_type": "code",
   "execution_count": 43,
   "metadata": {},
   "outputs": [
    {
     "name": "stdout",
     "output_type": "stream",
     "text": [
      "confusion_matrix:\n",
      " [[1501   59]\n",
      " [  44 1546]]\n",
      "accuracy: 0.9673015873015873\n",
      "recall: 0.9723270440251572\n",
      "precision: 0.9632398753894081\n",
      "f1_score: 0.9677621283255086\n"
     ]
    }
   ],
   "source": [
    "Y_test_label_best = svm_best.predict(X_test_LSI)\n",
    "Y_test_prob_best = svm_best.decision_function(X_test_LSI)\n",
    "\n",
    "print('confusion_matrix:\\n', confusion_matrix(Y_test_binary, Y_test_label_best))\n",
    "print('accuracy:', accuracy_score(Y_test_binary, Y_test_label_best))\n",
    "print('recall:', recall_score(Y_test_binary, Y_test_label_best))\n",
    "print('precision:', precision_score(Y_test_binary, Y_test_label_best))\n",
    "print('f1_score:', f1_score(Y_test_binary, Y_test_label_best))"
   ]
  },
  {
   "cell_type": "code",
   "execution_count": 44,
   "metadata": {},
   "outputs": [
    {
     "data": {
      "image/png": "[encoded data removed]",
      "text/plain": [
       "<Figure size 432x288 with 1 Axes>"
      ]
     },
     "metadata": {
      "needs_background": "light"
     },
     "output_type": "display_data"
    }
   ],
   "source": [
    "fpr_best, tpr_best, _ = roc_curve(Y_test_binary, Y_test_prob_best)\n",
    "\n",
    "plt.figure(1)\n",
    "plt.plot([0, 1], [0, 1], 'k--')\n",
    "plt.plot(fpr_hard, tpr_hard, label = 'Hard', color = 'r')\n",
    "plt.plot(fpr_soft, tpr_soft, label = 'SOFT', color = 'b')\n",
    "plt.plot(fpr_best, tpr_best, label = 'CV', color = 'k')\n",
    "plt.xlabel('False Positive Rate')\n",
    "plt.ylabel('True Positive Rate')\n",
    "plt.title('ROC Curve')\n",
    "plt.legend(loc='best')\n",
    "plt.show()"
   ]
  },
  {
   "cell_type": "markdown",
   "metadata": {},
   "source": [
    "# Question 5: Logistic Regression"
   ]
  },
  {
   "cell_type": "code",
   "execution_count": 45,
   "metadata": {},
   "outputs": [
    {
     "name": "stdout",
     "output_type": "stream",
     "text": [
      "confusion_matrix:\n",
      " [[1499   61]\n",
      " [  46 1544]]\n",
      "accuracy: 0.966031746031746\n",
      "recall: 0.9710691823899371\n",
      "precision: 0.9619937694704049\n",
      "f1_score: 0.9665101721439748\n"
     ]
    }
   ],
   "source": [
    "from sklearn.linear_model import LogisticRegression\n",
    "\n",
    "# without regularization\n",
    "logistic_raw = LogisticRegression(penalty='none', solver='newton-cg')\n",
    "logistic_raw.fit(X_train_LSI, Y_train_binary)\n",
    "\n",
    "Y_test_label_logistic = logistic_raw.predict(X_test_LSI)\n",
    "Y_test_prob_logistic = logistic_raw.decision_function(X_test_LSI)\n",
    "\n",
    "print('confusion_matrix:\\n', confusion_matrix(Y_test_binary, Y_test_label_logistic))\n",
    "print('accuracy:', accuracy_score(Y_test_binary, Y_test_label_logistic))\n",
    "print('recall:', recall_score(Y_test_binary, Y_test_label_logistic))\n",
    "print('precision:', precision_score(Y_test_binary, Y_test_label_logistic))\n",
    "print('f1_score:', f1_score(Y_test_binary, Y_test_label_logistic))"
   ]
  },
  {
   "cell_type": "code",
   "execution_count": 46,
   "metadata": {},
   "outputs": [
    {
     "data": {
      "image/png": "[encoded data removed]",
      "text/plain": [
       "<Figure size 432x288 with 1 Axes>"
      ]
     },
     "metadata": {
      "needs_background": "light"
     },
     "output_type": "display_data"
    }
   ],
   "source": [
    "fpr_logistic, tpr_logistic, _ = roc_curve(Y_test_binary, Y_test_prob_logistic)\n",
    "\n",
    "plt.figure(1)\n",
    "plt.plot([0, 1], [0, 1], 'k--')\n",
    "plt.plot(fpr_logistic, tpr_logistic, label = 'Raw', color = 'r')\n",
    "plt.xlabel('False Positive Rate')\n",
    "plt.ylabel('True Positive Rate')\n",
    "plt.title('ROC Curve')\n",
    "plt.legend(loc='best')\n",
    "plt.show()"
   ]
  },
  {
   "cell_type": "code",
   "execution_count": 49,
   "metadata": {},
   "outputs": [
    {
     "name": "stdout",
     "output_type": "stream",
     "text": [
      "confusion_matrix:\n",
      " [[1500   60]\n",
      " [  42 1548]]\n",
      "accuracy: 0.9676190476190476\n",
      "recall: 0.9735849056603774\n",
      "precision: 0.9626865671641791\n",
      "f1_score: 0.9681050656660413\n"
     ]
    }
   ],
   "source": [
    "# best logistic regression with l1 penalty \n",
    "\n",
    "logistic_l1_cv = GridSearchCV(estimator=LogisticRegression(penalty='l1', solver='liblinear'), \n",
    "                              param_grid={'C':[10**-3,10**-2,10**-1,10**0,10**1,10**2,10**3]}, cv=5)\n",
    "logistic_l1_cv.fit(X_train_LSI, Y_train_binary)\n",
    "\n",
    "logistic_l1_best = LogisticRegression(C=logistic_l1_cv.best_params_['C'], solver='liblinear')\n",
    "logistic_l1_best.fit(X_train_LSI, Y_train_binary)\n",
    "\n",
    "Y_test_label_logisticl1 = logistic_l1_best.predict(X_test_LSI)\n",
    "Y_test_prob_logisticl1 = logistic_l1_best.decision_function(X_test_LSI)\n",
    "\n",
    "print('confusion_matrix:\\n', confusion_matrix(Y_test_binary, Y_test_label_logisticl1))\n",
    "print('accuracy:', accuracy_score(Y_test_binary, Y_test_label_logisticl1))\n",
    "print('recall:', recall_score(Y_test_binary, Y_test_label_logisticl1))\n",
    "print('precision:', precision_score(Y_test_binary, Y_test_label_logisticl1))\n",
    "print('f1_score:', f1_score(Y_test_binary, Y_test_label_logisticl1))"
   ]
  },
  {
   "cell_type": "code",
   "execution_count": 50,
   "metadata": {},
   "outputs": [
    {
     "data": {
      "text/html": [
       "<div>\n",
       "<style scoped>\n",
       "    .dataframe tbody tr th:only-of-type {\n",
       "        vertical-align: middle;\n",
       "    }\n",
       "\n",
       "    .dataframe tbody tr th {\n",
       "        vertical-align: top;\n",
       "    }\n",
       "\n",
       "    .dataframe thead th {\n",
       "        text-align: right;\n",
       "    }\n",
       "</style>\n",
       "<table border=\"1\" class=\"dataframe\">\n",
       "  <thead>\n",
       "    <tr style=\"text-align: right;\">\n",
       "      <th></th>\n",
       "      <th>param_C</th>\n",
       "      <th>mean_test_score</th>\n",
       "    </tr>\n",
       "  </thead>\n",
       "  <tbody>\n",
       "    <tr>\n",
       "      <th>0</th>\n",
       "      <td>0.001</td>\n",
       "      <td>0.495139</td>\n",
       "    </tr>\n",
       "    <tr>\n",
       "      <th>1</th>\n",
       "      <td>0.01</td>\n",
       "      <td>0.896875</td>\n",
       "    </tr>\n",
       "    <tr>\n",
       "      <th>2</th>\n",
       "      <td>0.1</td>\n",
       "      <td>0.956045</td>\n",
       "    </tr>\n",
       "    <tr>\n",
       "      <th>3</th>\n",
       "      <td>1</td>\n",
       "      <td>0.967245</td>\n",
       "    </tr>\n",
       "    <tr>\n",
       "      <th>4</th>\n",
       "      <td>10</td>\n",
       "      <td>0.972527</td>\n",
       "    </tr>\n",
       "    <tr>\n",
       "      <th>5</th>\n",
       "      <td>100</td>\n",
       "      <td>0.973373</td>\n",
       "    </tr>\n",
       "    <tr>\n",
       "      <th>6</th>\n",
       "      <td>1000</td>\n",
       "      <td>0.973373</td>\n",
       "    </tr>\n",
       "  </tbody>\n",
       "</table>\n",
       "</div>"
      ],
      "text/plain": [
       "  param_C  mean_test_score\n",
       "0   0.001         0.495139\n",
       "1    0.01         0.896875\n",
       "2     0.1         0.956045\n",
       "3       1         0.967245\n",
       "4      10         0.972527\n",
       "5     100         0.973373\n",
       "6    1000         0.973373"
      ]
     },
     "execution_count": 50,
     "metadata": {},
     "output_type": "execute_result"
    }
   ],
   "source": [
    "pd.DataFrame(logistic_l1_cv.cv_results_)[['param_C','mean_test_score']]"
   ]
  },
  {
   "cell_type": "code",
   "execution_count": 51,
   "metadata": {},
   "outputs": [
    {
     "data": {
      "image/png": "[encoded data removed]",
      "text/plain": [
       "<Figure size 432x288 with 1 Axes>"
      ]
     },
     "metadata": {
      "needs_background": "light"
     },
     "output_type": "display_data"
    }
   ],
   "source": [
    "fpr_logisticl1, tpr_logisticl1, _ = roc_curve(Y_test_binary, Y_test_prob_logisticl1)\n",
    "\n",
    "plt.figure(1)\n",
    "plt.plot([0, 1], [0, 1], 'k--')\n",
    "plt.plot(fpr_logisticl1, tpr_logisticl1, label = 'L1 Logistic', color = 'r')\n",
    "plt.xlabel('False Positive Rate')\n",
    "plt.ylabel('True Positive Rate')\n",
    "plt.title('ROC Curve')\n",
    "plt.legend(loc='best')\n",
    "plt.show()"
   ]
  },
  {
   "cell_type": "code",
   "execution_count": 52,
   "metadata": {},
   "outputs": [
    {
     "name": "stdout",
     "output_type": "stream",
     "text": [
      "confusion_matrix:\n",
      " [[1500   60]\n",
      " [  42 1548]]\n",
      "accuracy: 0.9676190476190476\n",
      "recall: 0.9735849056603774\n",
      "precision: 0.9626865671641791\n",
      "f1_score: 0.9681050656660413\n"
     ]
    }
   ],
   "source": [
    "# best logistic regression with l2 penalty \n",
    "\n",
    "logistic_l2_cv = GridSearchCV(estimator=LogisticRegression(penalty='l2', solver='newton-cg'), \n",
    "                              param_grid={'C':[10**-3,10**-2,10**-1,10**0,10**1,10**2,10**3]}, cv=5)\n",
    "logistic_l2_cv.fit(X_train_LSI, Y_train_binary)\n",
    "\n",
    "logistic_l2_best = LogisticRegression(C=logistic_l2_cv.best_params_['C'], solver='newton-cg')\n",
    "logistic_l2_best.fit(X_train_LSI, Y_train_binary)\n",
    "\n",
    "Y_test_label_logisticl2 = logistic_l2_best.predict(X_test_LSI)\n",
    "Y_test_prob_logisticl2 = logistic_l2_best.decision_function(X_test_LSI)\n",
    "\n",
    "print('confusion_matrix:\\n', confusion_matrix(Y_test_binary, Y_test_label_logisticl2))\n",
    "print('accuracy:', accuracy_score(Y_test_binary, Y_test_label_logisticl2))\n",
    "print('recall:', recall_score(Y_test_binary, Y_test_label_logisticl2))\n",
    "print('precision:', precision_score(Y_test_binary, Y_test_label_logisticl2))\n",
    "print('f1_score:', f1_score(Y_test_binary, Y_test_label_logisticl2))"
   ]
  },
  {
   "cell_type": "code",
   "execution_count": 53,
   "metadata": {},
   "outputs": [
    {
     "data": {
      "text/html": [
       "<div>\n",
       "<style scoped>\n",
       "    .dataframe tbody tr th:only-of-type {\n",
       "        vertical-align: middle;\n",
       "    }\n",
       "\n",
       "    .dataframe tbody tr th {\n",
       "        vertical-align: top;\n",
       "    }\n",
       "\n",
       "    .dataframe thead th {\n",
       "        text-align: right;\n",
       "    }\n",
       "</style>\n",
       "<table border=\"1\" class=\"dataframe\">\n",
       "  <thead>\n",
       "    <tr style=\"text-align: right;\">\n",
       "      <th></th>\n",
       "      <th>param_C</th>\n",
       "      <th>mean_test_score</th>\n",
       "    </tr>\n",
       "  </thead>\n",
       "  <tbody>\n",
       "    <tr>\n",
       "      <th>0</th>\n",
       "      <td>0.001</td>\n",
       "      <td>0.520076</td>\n",
       "    </tr>\n",
       "    <tr>\n",
       "      <th>1</th>\n",
       "      <td>0.01</td>\n",
       "      <td>0.945478</td>\n",
       "    </tr>\n",
       "    <tr>\n",
       "      <th>2</th>\n",
       "      <td>0.1</td>\n",
       "      <td>0.963652</td>\n",
       "    </tr>\n",
       "    <tr>\n",
       "      <th>3</th>\n",
       "      <td>1</td>\n",
       "      <td>0.967877</td>\n",
       "    </tr>\n",
       "    <tr>\n",
       "      <th>4</th>\n",
       "      <td>10</td>\n",
       "      <td>0.971682</td>\n",
       "    </tr>\n",
       "    <tr>\n",
       "      <th>5</th>\n",
       "      <td>100</td>\n",
       "      <td>0.974217</td>\n",
       "    </tr>\n",
       "    <tr>\n",
       "      <th>6</th>\n",
       "      <td>1000</td>\n",
       "      <td>0.972950</td>\n",
       "    </tr>\n",
       "  </tbody>\n",
       "</table>\n",
       "</div>"
      ],
      "text/plain": [
       "  param_C  mean_test_score\n",
       "0   0.001         0.520076\n",
       "1    0.01         0.945478\n",
       "2     0.1         0.963652\n",
       "3       1         0.967877\n",
       "4      10         0.971682\n",
       "5     100         0.974217\n",
       "6    1000         0.972950"
      ]
     },
     "execution_count": 53,
     "metadata": {},
     "output_type": "execute_result"
    }
   ],
   "source": [
    "pd.DataFrame(logistic_l2_cv.cv_results_)[['param_C','mean_test_score']]"
   ]
  },
  {
   "cell_type": "code",
   "execution_count": 55,
   "metadata": {},
   "outputs": [
    {
     "data": {
      "image/png": "[encoded data removed]",
      "text/plain": [
       "<Figure size 432x288 with 1 Axes>"
      ]
     },
     "metadata": {
      "needs_background": "light"
     },
     "output_type": "display_data"
    }
   ],
   "source": [
    "fpr_logisticl2, tpr_logisticl2, _ = roc_curve(Y_test_binary, Y_test_prob_logisticl2)\n",
    "\n",
    "plt.figure(1)\n",
    "plt.plot([0, 1], [0, 1], 'k--')\n",
    "plt.plot(fpr_logisticl2, tpr_logisticl2, label = 'L2 Penalty', color = 'r')\n",
    "plt.plot(fpr_logisticl1, tpr_logisticl1, label = 'L1 Penalty', color = 'b')\n",
    "plt.plot(fpr_logistic, tpr_logistic, label = 'No Penalty', color = 'k')\n",
    "plt.xlabel('False Positive Rate')\n",
    "plt.ylabel('True Positive Rate')\n",
    "plt.title('ROC Curve')\n",
    "plt.xlim(0,0.1)\n",
    "plt.ylim(0.6,1)\n",
    "plt.legend(loc='best')\n",
    "plt.show()"
   ]
  },
  {
   "cell_type": "markdown",
   "metadata": {},
   "source": [
    "# Question 6: Naive Bayes"
   ]
  },
  {
   "cell_type": "code",
   "execution_count": 56,
   "metadata": {},
   "outputs": [
    {
     "name": "stdout",
     "output_type": "stream",
     "text": [
      "confusion_matrix:\n",
      " [[1217  343]\n",
      " [  66 1524]]\n",
      "accuracy: 0.8701587301587301\n",
      "recall: 0.9584905660377359\n",
      "precision: 0.8162828066416711\n",
      "f1_score: 0.8816893260052068\n"
     ]
    },
    {
     "data": {
      "image/png": "[encoded data removed]",
      "text/plain": [
       "<Figure size 432x288 with 1 Axes>"
      ]
     },
     "metadata": {
      "needs_background": "light"
     },
     "output_type": "display_data"
    }
   ],
   "source": [
    "from sklearn.naive_bayes import GaussianNB\n",
    "\n",
    "gauss_nb = GaussianNB()\n",
    "gauss_nb.fit(X_train_LSI, Y_train_binary)\n",
    "\n",
    "Y_test_label_nb = gauss_nb.predict(X_test_LSI)\n",
    "Y_test_prob_nb = gauss_nb.predict_proba(X_test_LSI)[:,1]\n",
    "\n",
    "\n",
    "print('confusion_matrix:\\n', confusion_matrix(Y_test_binary, Y_test_label_nb))\n",
    "print('accuracy:', accuracy_score(Y_test_binary, Y_test_label_nb))\n",
    "print('recall:', recall_score(Y_test_binary, Y_test_label_nb))\n",
    "print('precision:', precision_score(Y_test_binary, Y_test_label_nb))\n",
    "print('f1_score:', f1_score(Y_test_binary, Y_test_label_nb))\n",
    "\n",
    "\n",
    "fpr_nb, tpr_nb, _ = roc_curve(Y_test_binary, Y_test_prob_nb)\n",
    "\n",
    "plt.figure(1)\n",
    "plt.plot([0, 1], [0, 1], 'k--')\n",
    "plt.plot(fpr_nb, tpr_nb, label = 'Naive Bayes', color = 'b')\n",
    "plt.xlabel('False Positive Rate')\n",
    "plt.ylabel('True Positive Rate')\n",
    "plt.title('ROC Curve: Naive Bayes')\n",
    "plt.show()"
   ]
  },
  {
   "cell_type": "markdown",
   "metadata": {},
   "source": [
    "# Question 7: Grid Search of Parameters"
   ]
  },
  {
   "cell_type": "code",
   "execution_count": 95,
   "metadata": {},
   "outputs": [],
   "source": [
    "from sklearn.pipeline import Pipeline\n",
    "\n",
    "from tempfile import mkdtemp\n",
    "from shutil import rmtree\n",
    "from sklearn.externals.joblib import Memory\n",
    "\n",
    "\n",
    "cachedir = mkdtemp()\n",
    "# memory = Memory(cachedir=cachedir, verbose=10)\n",
    "\n",
    "\n",
    "pipeline = Pipeline([\n",
    "    #('lemmatize', lemmatize()),\n",
    "    ('vectorize', CountVectorizer(stop_words='english')),\n",
    "    ('tfidf', TfidfTransformer()),\n",
    "    ('reduceDim', TruncatedSVD(n_components=50)),\n",
    "    ('clf', SVC(C=svm_cv.best_params_['C'], kernel='linear')),\n",
    "])\n",
    "\n",
    "logistic_bestC = logistic_l1_best.C\n",
    "\n",
    "parameters = [\n",
    "    {\n",
    "        'vectorize__min_df': [3,5],\n",
    "        'reduceDim': [TruncatedSVD(n_components=50), NMF(n_components=50)],\n",
    "        'clf': [SVC(C=svm_cv.best_params_['C'], kernel='linear'), GaussianNB(),\n",
    "               LogisticRegression(C=logistic_l1_best.C, penalty = 'l1', solver='liblinear'),\n",
    "               LogisticRegression(C=logistic_l2_best.C, penalty = 'l2', solver='newton-cg')]\n",
    "    }\n",
    "]"
   ]
  },
  {
   "cell_type": "code",
   "execution_count": 96,
   "metadata": {},
   "outputs": [],
   "source": [
    "grid1 = GridSearchCV(pipeline, cv=5, n_jobs=4, param_grid=parameters, scoring='accuracy')"
   ]
  },
  {
   "cell_type": "code",
   "execution_count": 97,
   "metadata": {},
   "outputs": [
    {
     "name": "stdout",
     "output_type": "stream",
     "text": [
      "Fitting grid 1...\n",
      "Fit grid 1 in 180.102572 sec\n"
     ]
    }
   ],
   "source": [
    "import time\n",
    "\n",
    "print(\"Fitting grid 1...\")\n",
    "t1 = time.time()\n",
    "grid1.fit(train_dataset_lemmatized, Y_train_binary)\n",
    "print(\"Fit grid 1 in %f sec\" % (time.time() - t1))"
   ]
  },
  {
   "cell_type": "code",
   "execution_count": null,
   "metadata": {},
   "outputs": [],
   "source": []
  }
 ],
 "metadata": {
  "kernelspec": {
   "display_name": "Python 3",
   "language": "python",
   "name": "python3"
  },
  "language_info": {
   "codemirror_mode": {
    "name": "ipython",
    "version": 3
   },
   "file_extension": ".py",
   "mimetype": "text/x-python",
   "name": "python",
   "nbconvert_exporter": "python",
   "pygments_lexer": "ipython3",
   "version": "3.7.4"
  }
 },
 "nbformat": 4,
 "nbformat_minor": 2
}
