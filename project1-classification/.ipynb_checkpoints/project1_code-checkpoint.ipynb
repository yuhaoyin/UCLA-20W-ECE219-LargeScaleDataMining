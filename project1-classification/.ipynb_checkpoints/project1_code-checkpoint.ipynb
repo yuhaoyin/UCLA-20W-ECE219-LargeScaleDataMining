{
 "cells": [
  {
   "cell_type": "code",
   "execution_count": 1,
   "metadata": {},
   "outputs": [],
   "source": [
    "from sklearn.datasets import fetch_20newsgroups\n",
    "import matplotlib.pyplot as plt\n",
    "\n",
    "import numpy as np\n",
    "np.random.seed(42)\n",
    "import random\n",
    "random.seed(42)"
   ]
  },
  {
   "cell_type": "markdown",
   "metadata": {},
   "source": [
    "# Question 1: Histogram of Training Documents"
   ]
  },
  {
   "cell_type": "code",
   "execution_count": 2,
   "metadata": {},
   "outputs": [
    {
     "data": {
      "image/png": "[encoded data removed]",
      "text/plain": [
       "<Figure size 432x288 with 1 Axes>"
      ]
     },
     "metadata": {
      "needs_background": "light"
     },
     "output_type": "display_data"
    }
   ],
   "source": [
    "newsgroups = fetch_20newsgroups(subset = 'train')\n",
    "\n",
    "plt.hist(newsgroups.target, bins=20, facecolor='blue', alpha = 0.7, edgecolor='black', linewidth=2)\n",
    "plt.xlabel('Document Category')\n",
    "plt.ylabel('Number of Documents')\n",
    "plt.title('Histogram of Training Documents', fontweight='bold')\n",
    "plt.show()\n",
    "# plt.savefig('hist.png')"
   ]
  },
  {
   "cell_type": "markdown",
   "metadata": {},
   "source": [
    "# Question 2: Feature Extraction"
   ]
  },
  {
   "cell_type": "code",
   "execution_count": 3,
   "metadata": {},
   "outputs": [],
   "source": [
    "categories = ['comp.graphics', 'comp.os.ms-windows.misc', 'comp.sys.ibm.pc.hardware', 'comp.sys.mac.hardware',\n",
    "'rec.autos', 'rec.motorcycles', 'rec.sport.baseball', 'rec.sport.hockey']\n",
    "\n",
    "train_dataset = fetch_20newsgroups(subset = 'train', categories = categories, shuffle = True, random_state = None)\n",
    "test_dataset = fetch_20newsgroups(subset = 'test', categories = categories, shuffle = True, random_state = None)"
   ]
  },
  {
   "cell_type": "code",
   "execution_count": 4,
   "metadata": {},
   "outputs": [],
   "source": [
    "import nltk\n",
    "# nltk.download('punkt')\n",
    "# nltk.download('averaged_perceptron_tagger')\n",
    "\n",
    "from nltk import pos_tag\n",
    "from nltk.tokenize import word_tokenize\n",
    "from nltk.stem.wordnet import WordNetLemmatizer\n",
    "\n",
    "from nltk.corpus import wordnet as wn\n",
    "from collections import defaultdict\n",
    "\n",
    "# pos_tags: treebank to wordnet\n",
    "tag_map = defaultdict(lambda: wn.NOUN)\n",
    "tag_map['J'] = wn.ADJ\n",
    "tag_map['V'] = wn.VERB\n",
    "tag_map['R'] = wn.ADV\n",
    "\n",
    "wnl = WordNetLemmatizer()\n",
    "\n",
    "    \n",
    "def lemmatize(data):\n",
    "    lemmatized = []\n",
    "    for doc in data:\n",
    "        tokens = word_tokenize(doc)\n",
    "        words = [wnl.lemmatize(word, tag_map[tag[0]]) for word,tag in pos_tag(tokens) \n",
    "                 if wnl.lemmatize(word, tag_map[tag[0]]).isalpha()]\n",
    "        sentence = ' '.join(words)\n",
    "        lemmatized.append(sentence)\n",
    "    return lemmatized"
   ]
  },
  {
   "cell_type": "code",
   "execution_count": null,
   "metadata": {},
   "outputs": [],
   "source": [
    "train_dataset_lemmatized = lemmatize(train_dataset.data)\n",
    "test_dataset_lemmatized = lemmatize(test_dataset.data)"
   ]
  },
  {
   "cell_type": "code",
   "execution_count": null,
   "metadata": {},
   "outputs": [],
   "source": [
    "from sklearn.feature_extraction.text import CountVectorizer\n",
    "from sklearn.feature_extraction.text import TfidfTransformer\n",
    "\n",
    "vectorizer = CountVectorizer(stop_words = 'english', min_df = 3)\n",
    "X_train_counts = vectorizer.fit_transform(train_dataset_lemmatized)\n",
    "X_test_counts = vectorizer.transform(test_dataset_lemmatized)\n",
    "\n",
    "tfidf_transformer = TfidfTransformer()\n",
    "X_train_tfidf = tfidf_transformer.fit_transform(X_train_counts)\n",
    "X_test_tfidf = tfidf_transformer.transform(X_test_counts)"
   ]
  },
  {
   "cell_type": "code",
   "execution_count": null,
   "metadata": {},
   "outputs": [],
   "source": [
    "print(X_train_counts.shape, X_test_counts.shape)"
   ]
  },
  {
   "cell_type": "markdown",
   "metadata": {},
   "source": [
    "# Question 3: Dimensionality Reduction"
   ]
  },
  {
   "cell_type": "code",
   "execution_count": null,
   "metadata": {},
   "outputs": [],
   "source": [
    "# Latent Semantic Indexing\n",
    "from sklearn.decomposition import TruncatedSVD\n",
    "\n",
    "lsi = TruncatedSVD(n_components = 50)\n",
    "X_train_LSI = lsi.fit_transform(X_train_tfidf)\n",
    "X_test_LSI = lsi.transform(X_test_tfidf)\n",
    "\n",
    "USigmaVt = lsi.inverse_transform(X_train_LSI)\n",
    "LSI_frobenius = np.sum(np.array(X_train_tfidf - USigmaVt)**2)\n",
    "print(\"Squared Frobenius Norm for LSI: \" + str(LSI_frobenius))"
   ]
  },
  {
   "cell_type": "code",
   "execution_count": null,
   "metadata": {},
   "outputs": [],
   "source": [
    "# Non-negativee Matrix Factorization\n",
    "from sklearn.decomposition import NMF\n",
    "\n",
    "nmf = NMF(n_components=50)\n",
    "X_train_NMF = nmf.fit_transform(X_train_tfidf)\n",
    "X_test_NMF = nmf.transform(X_test_tfidf)\n",
    "\n",
    "WH = np.dot(X_train_NMF, nmf.components_)\n",
    "NMF_frobenius = np.sum(np.array(X_train_tfidf - WH)**2)\n",
    "print(\"Squared Frobenius Norm for NMF: \" + str(NMF_frobenius))"
   ]
  },
  {
   "cell_type": "markdown",
   "metadata": {},
   "source": [
    "# Question 4: Classification Algorithms SVM"
   ]
  },
  {
   "cell_type": "code",
   "execution_count": null,
   "metadata": {},
   "outputs": [],
   "source": [
    "# convert to binary classes\n",
    "Y_train_binary = np.zeros(train_dataset.target.shape)\n",
    "Y_test_binary = np.zeros(test_dataset.target.shape)\n",
    "\n",
    "Y_train_binary[train_dataset.target > 3] = 1\n",
    "Y_test_binary[test_dataset.target > 3] = 1"
   ]
  },
  {
   "cell_type": "code",
   "execution_count": null,
   "metadata": {},
   "outputs": [],
   "source": [
    "from sklearn.svm import SVC\n",
    "\n",
    "svm_hard = SVC(C=1000, kernel='linear')\n",
    "svm_soft = SVC(C=0.0001, kernel='linear')\n",
    "\n",
    "svm_hard.fit(X_train_LSI, Y_train_binary)\n",
    "svm_soft.fit(X_train_LSI, Y_train_binary)\n",
    "\n",
    "Y_test_prob_hard = svm_hard.decision_function(X_test_LSI)\n",
    "Y_test_label_hard = svm_hard.predict(X_test_LSI)\n",
    "Y_test_prob_soft = svm_soft.decision_function(X_test_LSI)\n",
    "Y_test_label_soft = svm_soft.predict(X_test_LSI)"
   ]
  },
  {
   "cell_type": "code",
   "execution_count": null,
   "metadata": {},
   "outputs": [],
   "source": [
    "from sklearn.metrics import roc_curve\n",
    "\n",
    "fpr_hard, tpr_hard, _ = roc_curve(Y_test_binary, Y_test_prob_hard)\n",
    "fpr_soft, tpr_soft, _ = roc_curve(Y_test_binary, Y_test_prob_soft)"
   ]
  },
  {
   "cell_type": "code",
   "execution_count": null,
   "metadata": {},
   "outputs": [],
   "source": [
    "from sklearn.metrics import confusion_matrix\n",
    "from sklearn.metrics import accuracy_score\n",
    "from sklearn.metrics import recall_score\n",
    "from sklearn.metrics import precision_score\n",
    "from sklearn.metrics import f1_score\n",
    "\n",
    "print('Hard Margin Linear SVMs:')\n",
    "print('confusion_matrix:\\n', confusion_matrix(Y_test_binary, Y_test_label_hard))\n",
    "print('accuracy:', accuracy_score(Y_test_binary, Y_test_label_hard))\n",
    "print('recall:', recall_score(Y_test_binary, Y_test_label_hard))\n",
    "print('precision:', precision_score(Y_test_binary, Y_test_label_hard))\n",
    "print('f1_score:', f1_score(Y_test_binary, Y_test_label_hard))\n",
    "print('\\n')\n",
    "print('Soft Margin Linear SVMs:')\n",
    "print('confusion_matrix:\\n', confusion_matrix(Y_test_binary, Y_test_label_soft))\n",
    "print('accuracy:', accuracy_score(Y_test_binary, Y_test_label_soft))\n",
    "print('recall:', recall_score(Y_test_binary, Y_test_label_soft))\n",
    "print('precision:', precision_score(Y_test_binary, Y_test_label_soft))\n",
    "print('f1_score:', f1_score(Y_test_binary, Y_test_label_soft))"
   ]
  },
  {
   "cell_type": "code",
   "execution_count": null,
   "metadata": {},
   "outputs": [],
   "source": [
    "from sklearn.metrics import plot_confusion_matrix\n",
    "\n",
    "class_names = ['Computer \\n Technology', 'Recreational \\n Activity']\n",
    "\n",
    "plot_confusion_matrix(svm_hard, X_test_LSI, Y_test_binary, display_labels=class_names, \n",
    "                             values_format='d', xticks_rotation=45, cmap=plt.cm.Greys)\n",
    "plt.tight_layout()\n",
    "plt.title('Confusion Matrix for Hard Margin SVM', fontweight='bold')\n",
    "plt.show()\n",
    "# plt.savefig('cm_hard.png')"
   ]
  },
  {
   "cell_type": "code",
   "execution_count": null,
   "metadata": {},
   "outputs": [],
   "source": [
    "plot_confusion_matrix(svm_soft, X_test_LSI, Y_test_binary, display_labels=class_names, \n",
    "                             values_format='d', xticks_rotation=45, cmap=plt.cm.Greys)\n",
    "plt.tight_layout()\n",
    "plt.title('Confusion Matrix for Soft Margin SVM', fontweight='bold')\n",
    "plt.show()\n",
    "# plt.savefig('cm_soft.png')"
   ]
  },
  {
   "cell_type": "code",
   "execution_count": null,
   "metadata": {},
   "outputs": [],
   "source": [
    "# Cross Validation\n",
    "from sklearn.model_selection import GridSearchCV\n",
    "\n",
    "svm_cv = GridSearchCV(estimator=SVC(kernel='linear', probability=True), \n",
    "                      param_grid={'C':[10**-3,10**-2,10**-1,10**0,10**1,10**2,10**3]}, cv=5)\n",
    "\n",
    "svm_cv.fit(X_train_LSI, Y_train_binary)"
   ]
  },
  {
   "cell_type": "code",
   "execution_count": null,
   "metadata": {},
   "outputs": [],
   "source": [
    "import pandas as pd\n",
    "\n",
    "pd.DataFrame(svm_cv.cv_results_)[['param_C','mean_test_score']]"
   ]
  },
  {
   "cell_type": "code",
   "execution_count": null,
   "metadata": {},
   "outputs": [],
   "source": [
    "svm_best = SVC(C=svm_cv.best_params_['C'], kernel='linear')\n",
    "svm_best.fit(X_train_LSI, Y_train_binary)\n",
    "\n",
    "Y_test_label_best = svm_best.predict(X_test_LSI)\n",
    "Y_test_prob_best = svm_best.decision_function(X_test_LSI)\n",
    "\n",
    "print('Best Linear SVMs:')\n",
    "print('confusion_matrix:\\n', confusion_matrix(Y_test_binary, Y_test_label_best))\n",
    "print('accuracy:', accuracy_score(Y_test_binary, Y_test_label_best))\n",
    "print('recall:', recall_score(Y_test_binary, Y_test_label_best))\n",
    "print('precision:', precision_score(Y_test_binary, Y_test_label_best))\n",
    "print('f1_score:', f1_score(Y_test_binary, Y_test_label_best))"
   ]
  },
  {
   "cell_type": "code",
   "execution_count": null,
   "metadata": {},
   "outputs": [],
   "source": [
    "plot_confusion_matrix(svm_best, X_test_LSI, Y_test_binary, display_labels=class_names, \n",
    "                             values_format='d', xticks_rotation=45, cmap=plt.cm.Greys)\n",
    "plt.tight_layout()\n",
    "plt.title('Confusion Matrix for Best Linear SVM', fontweight='bold')\n",
    "plt.show()\n",
    "# plt.savefig('cm_best.png')"
   ]
  },
  {
   "cell_type": "code",
   "execution_count": null,
   "metadata": {},
   "outputs": [],
   "source": [
    "fpr_best, tpr_best, _ = roc_curve(Y_test_binary, Y_test_prob_best)\n",
    "\n",
    "plt.plot([0, 1], [0, 1], 'k--')\n",
    "plt.plot(fpr_hard, tpr_hard, label = 'Hard', color = 'b')\n",
    "plt.plot(fpr_soft, tpr_soft, label = 'Soft', color = 'r')\n",
    "plt.plot(fpr_best, tpr_best, label = 'Best', color = 'm')\n",
    "plt.xlabel('False Positive Rate')\n",
    "plt.ylabel('True Positive Rate')\n",
    "plt.legend(loc='lower right')\n",
    "plt.xlim(0,0.2)\n",
    "plt.ylim(0.8,1)\n",
    "plt.title('Zoomed-in ROC Curves for Linear SVMs', fontweight=\"bold\")\n",
    "plt.show()\n",
    "# plt.savefig('ROC_SVMs_details.png')"
   ]
  },
  {
   "cell_type": "markdown",
   "metadata": {},
   "source": [
    "# Question 5: Logistic Regression"
   ]
  },
  {
   "cell_type": "code",
   "execution_count": null,
   "metadata": {},
   "outputs": [],
   "source": [
    "from sklearn.linear_model import LogisticRegression\n",
    "\n",
    "# without regularization\n",
    "logistic_raw = LogisticRegression(C=10**15, solver='newton-cg')\n",
    "logistic_raw.fit(X_train_LSI, Y_train_binary)\n",
    "\n",
    "Y_test_label_logistic = logistic_raw.predict(X_test_LSI)\n",
    "Y_test_prob_logistic = logistic_raw.decision_function(X_test_LSI)\n",
    "\n",
    "print('confusion_matrix:\\n', confusion_matrix(Y_test_binary, Y_test_label_logistic))\n",
    "print('accuracy:', accuracy_score(Y_test_binary, Y_test_label_logistic))\n",
    "print('recall:', recall_score(Y_test_binary, Y_test_label_logistic))\n",
    "print('precision:', precision_score(Y_test_binary, Y_test_label_logistic))\n",
    "print('f1_score:', f1_score(Y_test_binary, Y_test_label_logistic))"
   ]
  },
  {
   "cell_type": "code",
   "execution_count": null,
   "metadata": {},
   "outputs": [],
   "source": [
    "plot_confusion_matrix(logistic_raw, X_test_LSI, Y_test_binary, display_labels=class_names, \n",
    "                             values_format='d', xticks_rotation=45, cmap=plt.cm.Greys)\n",
    "plt.tight_layout()\n",
    "plt.title('Confusion Matrix for Logistic Regression No Penalty', fontweight='bold')\n",
    "plt.show()\n",
    "# plt.savefig('cm_lr_no.png')"
   ]
  },
  {
   "cell_type": "code",
   "execution_count": null,
   "metadata": {},
   "outputs": [],
   "source": [
    "# best logistic regression with l1 penalty \n",
    "logistic_l1_cv = GridSearchCV(estimator=LogisticRegression(penalty='l1', solver='liblinear'), \n",
    "                              param_grid={'C':[10**-3,10**-2,10**-1,10**0,10**1,10**2,10**3]}, cv=5)\n",
    "logistic_l1_cv.fit(X_train_LSI, Y_train_binary)\n",
    "\n",
    "pd.DataFrame(logistic_l1_cv.cv_results_)[['param_C','mean_test_score']]"
   ]
  },
  {
   "cell_type": "code",
   "execution_count": null,
   "metadata": {},
   "outputs": [],
   "source": [
    "logistic_l1_best = LogisticRegression(penalty='l1', C=logistic_l1_cv.best_params_['C'], solver='liblinear')\n",
    "logistic_l1_best.fit(X_train_LSI, Y_train_binary)\n",
    "\n",
    "Y_test_label_logisticl1 = logistic_l1_best.predict(X_test_LSI)\n",
    "Y_test_prob_logisticl1 = logistic_l1_best.decision_function(X_test_LSI)\n",
    "\n",
    "print('confusion_matrix:\\n', confusion_matrix(Y_test_binary, Y_test_label_logisticl1))\n",
    "print('accuracy:', accuracy_score(Y_test_binary, Y_test_label_logisticl1))\n",
    "print('recall:', recall_score(Y_test_binary, Y_test_label_logisticl1))\n",
    "print('precision:', precision_score(Y_test_binary, Y_test_label_logisticl1))\n",
    "print('f1_score:', f1_score(Y_test_binary, Y_test_label_logisticl1))"
   ]
  },
  {
   "cell_type": "code",
   "execution_count": null,
   "metadata": {},
   "outputs": [],
   "source": [
    "plot_confusion_matrix(logistic_l1_best, X_test_LSI, Y_test_binary, display_labels=class_names, \n",
    "                             values_format='d', xticks_rotation=45, cmap=plt.cm.Greys)\n",
    "plt.tight_layout()\n",
    "plt.title('Confusion Matrix for Logistic Regression L1 Penalty', fontweight='bold')\n",
    "plt.show()\n",
    "# plt.savefig('cm_lr_l1.png')"
   ]
  },
  {
   "cell_type": "code",
   "execution_count": null,
   "metadata": {},
   "outputs": [],
   "source": [
    "# best logistic regression with l2 penalty \n",
    "\n",
    "logistic_l2_cv = GridSearchCV(estimator=LogisticRegression(penalty='l2', solver='newton-cg'), \n",
    "                              param_grid={'C':[10**-3,10**-2,10**-1,10**0,10**1,10**2,10**3]}, cv=5)\n",
    "logistic_l2_cv.fit(X_train_LSI, Y_train_binary)\n",
    "\n",
    "pd.DataFrame(logistic_l2_cv.cv_results_)[['param_C','mean_test_score']]"
   ]
  },
  {
   "cell_type": "code",
   "execution_count": null,
   "metadata": {},
   "outputs": [],
   "source": [
    "logistic_l2_best = LogisticRegression(penalty='l2', C=logistic_l2_cv.best_params_['C'], solver='newton-cg')\n",
    "logistic_l2_best.fit(X_train_LSI, Y_train_binary)\n",
    "\n",
    "Y_test_label_logisticl2 = logistic_l2_best.predict(X_test_LSI)\n",
    "Y_test_prob_logisticl2 = logistic_l2_best.decision_function(X_test_LSI)\n",
    "\n",
    "print('confusion_matrix:\\n', confusion_matrix(Y_test_binary, Y_test_label_logisticl2))\n",
    "print('accuracy:', accuracy_score(Y_test_binary, Y_test_label_logisticl2))\n",
    "print('recall:', recall_score(Y_test_binary, Y_test_label_logisticl2))\n",
    "print('precision:', precision_score(Y_test_binary, Y_test_label_logisticl2))\n",
    "print('f1_score:', f1_score(Y_test_binary, Y_test_label_logisticl2))"
   ]
  },
  {
   "cell_type": "code",
   "execution_count": null,
   "metadata": {},
   "outputs": [],
   "source": [
    "plot_confusion_matrix(logistic_l2_best, X_test_LSI, Y_test_binary, display_labels=class_names, \n",
    "                             values_format='d', xticks_rotation=45, cmap=plt.cm.Greys)\n",
    "plt.tight_layout()\n",
    "plt.title('Confusion Matrix for Logistic Regression L2 Penalty', fontweight='bold')\n",
    "plt.show()\n",
    "# plt.savefig('cm_lr_l2.png')"
   ]
  },
  {
   "cell_type": "code",
   "execution_count": null,
   "metadata": {},
   "outputs": [],
   "source": [
    "fpr_logistic, tpr_logistic, _ = roc_curve(Y_test_binary, Y_test_prob_logistic)\n",
    "fpr_logisticl1, tpr_logisticl1, _ = roc_curve(Y_test_binary, Y_test_prob_logisticl1)\n",
    "fpr_logisticl2, tpr_logisticl2, _ = roc_curve(Y_test_binary, Y_test_prob_logisticl2)\n",
    "\n",
    "plt.plot([0, 1], [0, 1], 'k--')\n",
    "plt.plot(fpr_logistic, tpr_logistic, label = 'No Penalty', color = 'b')\n",
    "plt.plot(fpr_logisticl1, tpr_logisticl1, label = 'L1 Penalty', color = 'r')\n",
    "plt.plot(fpr_logisticl2, tpr_logisticl2, label = 'L2 Penalty', color = 'm')\n",
    "plt.xlabel('False Positive Rate')\n",
    "plt.ylabel('True Positive Rate')\n",
    "plt.title('Zoomed-in ROC Curves for Logistic Regressions', fontweight='bold')\n",
    "plt.xlim(0,0.2)\n",
    "plt.ylim(0.8,1)\n",
    "plt.legend(loc='lower right')\n",
    "plt.show()\n",
    "# plt.savefig('ROC_LRs_detail.png')"
   ]
  },
  {
   "cell_type": "markdown",
   "metadata": {},
   "source": [
    "# Question 6: Naive Bayes"
   ]
  },
  {
   "cell_type": "code",
   "execution_count": null,
   "metadata": {},
   "outputs": [],
   "source": [
    "from sklearn.naive_bayes import GaussianNB\n",
    "\n",
    "gauss_nb = GaussianNB()\n",
    "gauss_nb.fit(X_train_LSI, Y_train_binary)\n",
    "\n",
    "Y_test_label_nb = gauss_nb.predict(X_test_LSI)\n",
    "Y_test_prob_nb = gauss_nb.predict_proba(X_test_LSI)[:,1]\n",
    "\n",
    "\n",
    "print('confusion_matrix:\\n', confusion_matrix(Y_test_binary, Y_test_label_nb))\n",
    "print('accuracy:', accuracy_score(Y_test_binary, Y_test_label_nb))\n",
    "print('recall:', recall_score(Y_test_binary, Y_test_label_nb))\n",
    "print('precision:', precision_score(Y_test_binary, Y_test_label_nb))\n",
    "print('f1_score:', f1_score(Y_test_binary, Y_test_label_nb))"
   ]
  },
  {
   "cell_type": "code",
   "execution_count": null,
   "metadata": {},
   "outputs": [],
   "source": [
    "plot_confusion_matrix(gauss_nb, X_test_LSI, Y_test_binary, display_labels=class_names, \n",
    "                             values_format='d', xticks_rotation=45, cmap=plt.cm.Greys)\n",
    "plt.tight_layout()\n",
    "plt.title('Confusion Matrix for GaussianNB', fontweight='bold')\n",
    "plt.show()\n",
    "# plt.savefig('cm_gaussnb.png')"
   ]
  },
  {
   "cell_type": "code",
   "execution_count": null,
   "metadata": {},
   "outputs": [],
   "source": [
    "fpr_nb, tpr_nb, _ = roc_curve(Y_test_binary, Y_test_prob_nb)\n",
    "\n",
    "\n",
    "plt.plot([0, 1], [0, 1], 'k--')\n",
    "plt.plot(fpr_nb, tpr_nb, label = 'Naive Bayes', color = 'k')\n",
    "plt.xlabel('False Positive Rate')\n",
    "plt.ylabel('True Positive Rate')\n",
    "plt.title('ROC Curve for GaussianNB', fontweight='bold')\n",
    "plt.show()\n",
    "# plt.savefig('ROC_NB.png')"
   ]
  },
  {
   "cell_type": "markdown",
   "metadata": {},
   "source": [
    "# Question 7: Grid Search of Parameters"
   ]
  },
  {
   "cell_type": "code",
   "execution_count": null,
   "metadata": {},
   "outputs": [],
   "source": [
    "from sklearn.pipeline import Pipeline\n",
    "\n",
    "pipeline = Pipeline([\n",
    "    ('vectorize', CountVectorizer(stop_words='english')),\n",
    "    ('tfidf', TfidfTransformer()),\n",
    "    ('reduce_dim', TruncatedSVD()),\n",
    "    ('clf', SVC()),\n",
    "])\n",
    "\n",
    "parameters = [\n",
    "    {\n",
    "        'vectorize__min_df': [3,5],\n",
    "        'reduce_dim': [TruncatedSVD(n_components=50), NMF(n_components=50)],\n",
    "        'clf': [SVC(C=svm_cv.best_params_['C'], kernel='linear'), GaussianNB(),\n",
    "               LogisticRegression(C=logistic_l1_best.C, penalty = 'l1', solver='liblinear'),\n",
    "               LogisticRegression(C=logistic_l2_best.C, penalty = 'l2', solver='newton-cg')]\n",
    "    }\n",
    "]"
   ]
  },
  {
   "cell_type": "code",
   "execution_count": null,
   "metadata": {},
   "outputs": [],
   "source": [
    "# With Headers and Footers\n",
    "grid1 = GridSearchCV(pipeline, cv=5, n_jobs=-1, param_grid = parameters, scoring='accuracy')\n",
    "grid1.fit(train_dataset.data, Y_train_binary)\n",
    "result_w_hf = pd.DataFrame(grid1.cv_results_)\n",
    "result_w_hf['lemmatized'] = False\n",
    "result_w_hf['with_headers_footers'] = True\n",
    "\n",
    "grid2 = GridSearchCV(pipeline, cv=5, n_jobs=-1, param_grid = parameters, scoring='accuracy')\n",
    "grid2.fit(train_dataset_lemmatized, Y_train_binary)\n",
    "result_lemm_w_hf = pd.DataFrame(grid2.cv_results_)\n",
    "result_lemm_w_hf['lemmatized'] = True\n",
    "result_lemm_w_hf['with_headers_footers'] = True\n",
    "\n",
    "# Without Headers and Footers\n",
    "train_dataset_wo_hf = fetch_20newsgroups(subset = 'train', categories = categories, \n",
    "                                         remove = ('headers','footers'), shuffle = True, random_state = None)\n",
    "\n",
    "Y_train_binary_wo_hf = np.zeros(train_dataset_wo_hf.target.shape)\n",
    "Y_train_binary_wo_hf[train_dataset_wo_hf.target > 3] = 1\n",
    "\n",
    "\n",
    "grid3 = GridSearchCV(pipeline, cv=5, n_jobs=-1, param_grid = parameters, scoring='accuracy')\n",
    "grid3.fit(train_dataset_wo_hf.data, Y_train_binary_wo_hf)\n",
    "result_wo_hf = pd.DataFrame(grid3.cv_results_)\n",
    "result_wo_hf['lemmatized'] = False\n",
    "result_wo_hf['with_headers_footers'] = False\n",
    "\n",
    "grid4 = GridSearchCV(pipeline, cv=5, n_jobs=-1, param_grid = parameters, scoring='accuracy')\n",
    "grid4.fit(lemmatize(train_dataset_wo_hf.data), Y_train_binary_wo_hf)\n",
    "result_lemm_wo_hf = pd.DataFrame(grid4.cv_results_)\n",
    "result_lemm_wo_hf['lemmatized'] = True\n",
    "result_lemm_wo_hf['with_headers_footers'] = False"
   ]
  },
  {
   "cell_type": "code",
   "execution_count": null,
   "metadata": {},
   "outputs": [],
   "source": [
    "results = pd.concat([result_w_hf, result_lemm_w_hf, result_wo_hf, result_lemm_wo_hf])\n",
    "results = results[['mean_test_score', 'param_clf', 'param_reduce_dim','param_vectorize__min_df',\n",
    "                   'lemmatized', 'with_headers_footers']].sort_values(by=['mean_test_score'], ascending=False)\n",
    "results = results.reset_index(drop=True)"
   ]
  },
  {
   "cell_type": "code",
   "execution_count": null,
   "metadata": {},
   "outputs": [],
   "source": [
    "pd.set_option('display.max_colwidth', -1)"
   ]
  },
  {
   "cell_type": "code",
   "execution_count": null,
   "metadata": {},
   "outputs": [],
   "source": [
    "results.head()"
   ]
  },
  {
   "cell_type": "markdown",
   "metadata": {},
   "source": [
    "# Question 8: Multiclass Classification"
   ]
  },
  {
   "cell_type": "code",
   "execution_count": null,
   "metadata": {},
   "outputs": [],
   "source": [
    "mclass_categories = ['comp.sys.ibm.pc.hardware', 'comp.sys.mac.hardware', 'misc.forsale', 'soc.religion.christian']\n",
    "\n",
    "mclass_train_dataset = fetch_20newsgroups(subset = 'train', categories = mclass_categories, shuffle = True, random_state = None)\n",
    "mclass_test_dataset = fetch_20newsgroups(subset = 'test', categories = mclass_categories, shuffle = True, random_state = None)"
   ]
  },
  {
   "cell_type": "code",
   "execution_count": null,
   "metadata": {},
   "outputs": [],
   "source": [
    "# lemmatization\n",
    "mclass_train_dataset_lemmatized = lemmatize(mclass_train_dataset.data)\n",
    "mclass_test_dataset_lemmatized = lemmatize(mclass_test_dataset.data)\n",
    "\n",
    "# CountVectorizer\n",
    "mclass_count = CountVectorizer(stop_words = 'english', min_df = 3)\n",
    "mclass_X_train_count = mclass_count.fit_transform(mclass_train_dataset_lemmatized)\n",
    "mclass_X_test_count = mclass_count.transform(mclass_test_dataset_lemmatized)\n",
    "\n",
    "# TF-IDF\n",
    "mclass_tfidf = TfidfTransformer()\n",
    "mclass_X_train_tfidf = mclass_tfidf.fit_transform(mclass_X_train_count).toarray()\n",
    "mclass_X_test_tfidf = mclass_tfidf.transform(mclass_X_test_count).toarray()\n",
    "\n",
    "# LSI\n",
    "mclass_lsi = TruncatedSVD(n_components = 50)\n",
    "mclass_X_train_LSI = mclass_lsi.fit_transform(mclass_X_train_tfidf)\n",
    "mclass_X_test_LSI = mclass_lsi.transform(mclass_X_test_tfidf)\n",
    "\n",
    "# NMF\n",
    "mclass_nmf = NMF(n_components=50)\n",
    "mclass_X_train_NMF = mclass_nmf.fit_transform(mclass_X_train_tfidf)\n",
    "mclass_X_test_NMF = mclass_nmf.transform(mclass_X_test_tfidf)"
   ]
  },
  {
   "cell_type": "code",
   "execution_count": null,
   "metadata": {},
   "outputs": [],
   "source": [
    "# Naive Bayes with TF-IDF\n",
    "mclass_gauss_nb = GaussianNB()\n",
    "mclass_gauss_nb.fit(mclass_X_train_tfidf, mclass_train_dataset.target)\n",
    "mclass_Y_test_pred_nb = mclass_gauss_nb.predict(mclass_X_test_tfidf)\n",
    "\n",
    "print('confusion_matrix:\\n', confusion_matrix(mclass_test_dataset.target, mclass_Y_test_pred_nb))\n",
    "print('accuracy:', accuracy_score(mclass_test_dataset.target, mclass_Y_test_pred_nb))\n",
    "print('recall:', recall_score(mclass_test_dataset.target, mclass_Y_test_pred_nb, average='macro'))\n",
    "print('precision:', precision_score(mclass_test_dataset.target, mclass_Y_test_pred_nb, average='macro'))\n",
    "print('f1_score:', f1_score(mclass_test_dataset.target, mclass_Y_test_pred_nb, average='macro'))\n",
    "\n",
    "plot_confusion_matrix(mclass_gauss_nb, mclass_X_test_tfidf, mclass_test_dataset.target, display_labels=mclass_categories, \n",
    "                             values_format='d', xticks_rotation=45, cmap=plt.cm.Greys)\n",
    "plt.tight_layout()\n",
    "plt.title('Naive Bayes with TF-IDF Features', fontweight='bold')\n",
    "plt.show()"
   ]
  },
  {
   "cell_type": "code",
   "execution_count": null,
   "metadata": {},
   "outputs": [],
   "source": [
    "# Naive Bayes with LSI\n",
    "mclass_gauss_nb = GaussianNB()\n",
    "mclass_gauss_nb.fit(mclass_X_train_LSI, mclass_train_dataset.target)\n",
    "mclass_Y_test_pred_nb = mclass_gauss_nb.predict(mclass_X_test_LSI)\n",
    "\n",
    "print('confusion_matrix:\\n', confusion_matrix(mclass_test_dataset.target, mclass_Y_test_pred_nb))\n",
    "print('accuracy:', accuracy_score(mclass_test_dataset.target, mclass_Y_test_pred_nb))\n",
    "print('recall:', recall_score(mclass_test_dataset.target, mclass_Y_test_pred_nb, average='macro'))\n",
    "print('precision:', precision_score(mclass_test_dataset.target, mclass_Y_test_pred_nb, average='macro'))\n",
    "print('f1_score:', f1_score(mclass_test_dataset.target, mclass_Y_test_pred_nb, average='macro'))\n",
    "\n",
    "plot_confusion_matrix(mclass_gauss_nb, mclass_X_test_LSI, mclass_test_dataset.target, display_labels=mclass_categories, \n",
    "                             values_format='d', xticks_rotation=45, cmap=plt.cm.Greys)\n",
    "plt.tight_layout()\n",
    "plt.title('Naive Bayes with LSI Features', fontweight='bold')\n",
    "plt.show()"
   ]
  },
  {
   "cell_type": "code",
   "execution_count": null,
   "metadata": {},
   "outputs": [],
   "source": [
    "# Naive Bayes with NMF\n",
    "mclass_gauss_nb = GaussianNB()\n",
    "mclass_gauss_nb.fit(mclass_X_train_NMF, mclass_train_dataset.target)\n",
    "mclass_Y_test_pred_nb = mclass_gauss_nb.predict(mclass_X_test_NMF)\n",
    "\n",
    "print('confusion_matrix:\\n', confusion_matrix(mclass_test_dataset.target, mclass_Y_test_pred_nb))\n",
    "print('accuracy:', accuracy_score(mclass_test_dataset.target, mclass_Y_test_pred_nb))\n",
    "print('recall:', recall_score(mclass_test_dataset.target, mclass_Y_test_pred_nb, average='macro'))\n",
    "print('precision:', precision_score(mclass_test_dataset.target, mclass_Y_test_pred_nb, average='macro'))\n",
    "print('f1_score:', f1_score(mclass_test_dataset.target, mclass_Y_test_pred_nb, average='macro'))\n",
    "\n",
    "plot_confusion_matrix(mclass_gauss_nb, mclass_X_test_NMF, mclass_test_dataset.target, display_labels=mclass_categories, \n",
    "                             values_format='d', xticks_rotation=45, cmap=plt.cm.Greys)\n",
    "plt.tight_layout()\n",
    "plt.title('Naive Bayes with NMF Features', fontweight='bold')\n",
    "plt.show()"
   ]
  },
  {
   "cell_type": "code",
   "execution_count": null,
   "metadata": {},
   "outputs": [],
   "source": [
    "# One-Vs-One Linear SVM with TF-IDF\n",
    "from sklearn.multiclass import OneVsOneClassifier\n",
    "\n",
    "mclass_svm_ovo = OneVsOneClassifier(SVC(kernel='linear'))\n",
    "mclass_svm_ovo.fit(mclass_X_train_tfidf, mclass_train_dataset.target)\n",
    "mclass_Y_test_pred_ovo = mclass_svm_ovo.predict(mclass_X_test_tfidf)\n",
    "\n",
    "print('confusion_matrix:\\n', confusion_matrix(mclass_test_dataset.target, mclass_Y_test_pred_ovo))\n",
    "print('accuracy:', accuracy_score(mclass_test_dataset.target, mclass_Y_test_pred_ovo))\n",
    "print('recall:', recall_score(mclass_test_dataset.target, mclass_Y_test_pred_ovo, average='macro'))\n",
    "print('precision:', precision_score(mclass_test_dataset.target, mclass_Y_test_pred_ovo, average='macro'))\n",
    "print('f1_score:', f1_score(mclass_test_dataset.target, mclass_Y_test_pred_ovo, average='macro'))\n",
    "\n",
    "plot_confusion_matrix(mclass_svm_ovo, mclass_X_test_tfidf, mclass_test_dataset.target, display_labels=mclass_categories, \n",
    "                             values_format='d', xticks_rotation=45, cmap=plt.cm.Greys)\n",
    "plt.tight_layout()\n",
    "plt.title('One-Vs-One SVM with TF-IDF Features', fontweight='bold')\n",
    "plt.show()"
   ]
  },
  {
   "cell_type": "code",
   "execution_count": null,
   "metadata": {},
   "outputs": [],
   "source": [
    "# One-Vs-One Linear SVM with LSI\n",
    "\n",
    "mclass_svm_ovo = OneVsOneClassifier(SVC(kernel='linear'))\n",
    "mclass_svm_ovo.fit(mclass_X_train_LSI, mclass_train_dataset.target)\n",
    "mclass_Y_test_pred_ovo = mclass_svm_ovo.predict(mclass_X_test_LSI)\n",
    "\n",
    "print('confusion_matrix:\\n', confusion_matrix(mclass_test_dataset.target, mclass_Y_test_pred_ovo))\n",
    "print('accuracy:', accuracy_score(mclass_test_dataset.target, mclass_Y_test_pred_ovo))\n",
    "print('recall:', recall_score(mclass_test_dataset.target, mclass_Y_test_pred_ovo, average='macro'))\n",
    "print('precision:', precision_score(mclass_test_dataset.target, mclass_Y_test_pred_ovo, average='macro'))\n",
    "print('f1_score:', f1_score(mclass_test_dataset.target, mclass_Y_test_pred_ovo, average='macro'))\n",
    "\n",
    "plot_confusion_matrix(mclass_svm_ovo, mclass_X_test_LSI, mclass_test_dataset.target, display_labels=mclass_categories, \n",
    "                             values_format='d', xticks_rotation=45, cmap=plt.cm.Greys)\n",
    "plt.tight_layout()\n",
    "plt.title('One-Vs-One SVM with LSI Features', fontweight='bold')\n",
    "plt.show()"
   ]
  },
  {
   "cell_type": "code",
   "execution_count": null,
   "metadata": {},
   "outputs": [],
   "source": [
    "# One-Vs-One Linear SVM with NMF\n",
    "\n",
    "mclass_svm_ovo = OneVsOneClassifier(SVC(kernel='linear'))\n",
    "mclass_svm_ovo.fit(mclass_X_train_NMF, mclass_train_dataset.target)\n",
    "mclass_Y_test_pred_ovo = mclass_svm_ovo.predict(mclass_X_test_NMF)\n",
    "\n",
    "print('confusion_matrix:\\n', confusion_matrix(mclass_test_dataset.target, mclass_Y_test_pred_ovo))\n",
    "print('accuracy:', accuracy_score(mclass_test_dataset.target, mclass_Y_test_pred_ovo))\n",
    "print('recall:', recall_score(mclass_test_dataset.target, mclass_Y_test_pred_ovo, average='macro'))\n",
    "print('precision:', precision_score(mclass_test_dataset.target, mclass_Y_test_pred_ovo, average='macro'))\n",
    "print('f1_score:', f1_score(mclass_test_dataset.target, mclass_Y_test_pred_ovo, average='macro'))\n",
    "\n",
    "plot_confusion_matrix(mclass_svm_ovo, mclass_X_test_NMF, mclass_test_dataset.target, display_labels=mclass_categories, \n",
    "                             values_format='d', xticks_rotation=45, cmap=plt.cm.Greys)\n",
    "plt.tight_layout()\n",
    "plt.title('One-Vs-One SVM with NMF Features', fontweight='bold')\n",
    "plt.show()"
   ]
  },
  {
   "cell_type": "code",
   "execution_count": null,
   "metadata": {},
   "outputs": [],
   "source": [
    "# One-Vs-Rest Linear SVM with TF-IDF\n",
    "from sklearn.multiclass import OneVsRestClassifier\n",
    "\n",
    "mclass_svm_ovr = OneVsRestClassifier(SVC(kernel='linear'))\n",
    "mclass_svm_ovr.fit(mclass_X_train_tfidf, mclass_train_dataset.target)\n",
    "mclass_Y_test_pred_ovr = mclass_svm_ovr.predict(mclass_X_test_tfidf)\n",
    "\n",
    "print('confusion_matrix:\\n', confusion_matrix(mclass_test_dataset.target, mclass_Y_test_pred_ovr))\n",
    "print('accuracy:', accuracy_score(mclass_test_dataset.target, mclass_Y_test_pred_ovr))\n",
    "print('recall:', recall_score(mclass_test_dataset.target, mclass_Y_test_pred_ovr, average='macro'))\n",
    "print('precision:', precision_score(mclass_test_dataset.target, mclass_Y_test_pred_ovr, average='macro'))\n",
    "print('f1_score:', f1_score(mclass_test_dataset.target, mclass_Y_test_pred_ovr, average='macro'))\n",
    "\n",
    "plot_confusion_matrix(mclass_svm_ovr, mclass_X_test_tfidf, mclass_test_dataset.target, display_labels=mclass_categories, \n",
    "                             values_format='d', xticks_rotation=45, cmap=plt.cm.Greys)\n",
    "plt.tight_layout()\n",
    "plt.title('One-Vs-Rest SVM with TF-IDF Features', fontweight='bold')\n",
    "plt.show()"
   ]
  },
  {
   "cell_type": "code",
   "execution_count": null,
   "metadata": {},
   "outputs": [],
   "source": [
    "# One-Vs-Rest Linear SVM with LSI\n",
    "\n",
    "mclass_svm_ovr = OneVsRestClassifier(SVC(kernel='linear'))\n",
    "mclass_svm_ovr.fit(mclass_X_train_LSI, mclass_train_dataset.target)\n",
    "mclass_Y_test_pred_ovr = mclass_svm_ovr.predict(mclass_X_test_LSI)\n",
    "\n",
    "print('confusion_matrix:\\n', confusion_matrix(mclass_test_dataset.target, mclass_Y_test_pred_ovr))\n",
    "print('accuracy:', accuracy_score(mclass_test_dataset.target, mclass_Y_test_pred_ovr))\n",
    "print('recall:', recall_score(mclass_test_dataset.target, mclass_Y_test_pred_ovr, average='macro'))\n",
    "print('precision:', precision_score(mclass_test_dataset.target, mclass_Y_test_pred_ovr, average='macro'))\n",
    "print('f1_score:', f1_score(mclass_test_dataset.target, mclass_Y_test_pred_ovr, average='macro'))\n",
    "\n",
    "plot_confusion_matrix(mclass_svm_ovr, mclass_X_test_LSI, mclass_test_dataset.target, display_labels=mclass_categories, \n",
    "                             values_format='d', xticks_rotation=45, cmap=plt.cm.Greys)\n",
    "plt.tight_layout()\n",
    "plt.title('One-Vs-Rest SVM with LSI Features', fontweight='bold')\n",
    "plt.show()"
   ]
  },
  {
   "cell_type": "code",
   "execution_count": null,
   "metadata": {},
   "outputs": [],
   "source": [
    "# One-Vs-Rest Linear SVM with NMF\n",
    "\n",
    "mclass_svm_ovr = OneVsRestClassifier(SVC(kernel='linear'))\n",
    "mclass_svm_ovr.fit(mclass_X_train_NMF, mclass_train_dataset.target)\n",
    "mclass_Y_test_pred_ovr = mclass_svm_ovr.predict(mclass_X_test_NMF)\n",
    "\n",
    "print('confusion_matrix:\\n', confusion_matrix(mclass_test_dataset.target, mclass_Y_test_pred_ovr))\n",
    "print('accuracy:', accuracy_score(mclass_test_dataset.target, mclass_Y_test_pred_ovr))\n",
    "print('recall:', recall_score(mclass_test_dataset.target, mclass_Y_test_pred_ovr, average='macro'))\n",
    "print('precision:', precision_score(mclass_test_dataset.target, mclass_Y_test_pred_ovr, average='macro'))\n",
    "print('f1_score:', f1_score(mclass_test_dataset.target, mclass_Y_test_pred_ovr, average='macro'))\n",
    "\n",
    "plot_confusion_matrix(mclass_svm_ovr, mclass_X_test_NMF, mclass_test_dataset.target, display_labels=mclass_categories, \n",
    "                             values_format='d', xticks_rotation=45, cmap=plt.cm.Greys)\n",
    "plt.tight_layout()\n",
    "plt.title('One-Vs-Rest SVM with NMF Features', fontweight='bold')\n",
    "plt.show()"
   ]
  },
  {
   "cell_type": "code",
   "execution_count": null,
   "metadata": {},
   "outputs": [],
   "source": []
  }
 ],
 "metadata": {
  "kernelspec": {
   "display_name": "Python 3",
   "language": "python",
   "name": "python3"
  },
  "language_info": {
   "codemirror_mode": {
    "name": "ipython",
    "version": 3
   },
   "file_extension": ".py",
   "mimetype": "text/x-python",
   "name": "python",
   "nbconvert_exporter": "python",
   "pygments_lexer": "ipython3",
   "version": "3.7.6"
  }
 },
 "nbformat": 4,
 "nbformat_minor": 2
}
