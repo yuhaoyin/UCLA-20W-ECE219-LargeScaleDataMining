{
 "cells": [
  {
   "cell_type": "code",
   "execution_count": 1,
   "metadata": {},
   "outputs": [],
   "source": [
    "import pandas as pd\n",
    "\n",
    "video_df = pd.read_csv('online-video-dataset/transcoding_mesurment.tsv', delimiter='\\t')\n",
    "video_df = video_df.drop(['id', 'b_size', 'umem'], axis=1)"
   ]
  },
  {
   "cell_type": "markdown",
   "metadata": {},
   "source": [
    "<font size=4> **Question 1**: Plot a heatmap of Pearson correlation matrix of dataset columns. Report which features have the highest absolute correlation with the target variable and what that implies.</font>"
   ]
  },
  {
   "cell_type": "code",
   "execution_count": 2,
   "metadata": {},
   "outputs": [
    {
     "data": {
      "text/html": [
       "<div>\n",
       "<style scoped>\n",
       "    .dataframe tbody tr th:only-of-type {\n",
       "        vertical-align: middle;\n",
       "    }\n",
       "\n",
       "    .dataframe tbody tr th {\n",
       "        vertical-align: top;\n",
       "    }\n",
       "\n",
       "    .dataframe thead th {\n",
       "        text-align: right;\n",
       "    }\n",
       "</style>\n",
       "<table border=\"1\" class=\"dataframe\">\n",
       "  <thead>\n",
       "    <tr style=\"text-align: right;\">\n",
       "      <th></th>\n",
       "      <th>duration</th>\n",
       "      <th>width</th>\n",
       "      <th>height</th>\n",
       "      <th>bitrate</th>\n",
       "      <th>framerate</th>\n",
       "      <th>i</th>\n",
       "      <th>p</th>\n",
       "      <th>b</th>\n",
       "      <th>frames</th>\n",
       "      <th>i_size</th>\n",
       "      <th>p_size</th>\n",
       "      <th>size</th>\n",
       "      <th>o_bitrate</th>\n",
       "      <th>o_framerate</th>\n",
       "      <th>o_width</th>\n",
       "      <th>o_height</th>\n",
       "      <th>utime</th>\n",
       "    </tr>\n",
       "  </thead>\n",
       "  <tbody>\n",
       "    <tr>\n",
       "      <th>duration</th>\n",
       "      <td>1.000000</td>\n",
       "      <td>0.072634</td>\n",
       "      <td>0.050446</td>\n",
       "      <td>0.004759</td>\n",
       "      <td>-0.030559</td>\n",
       "      <td>0.773659</td>\n",
       "      <td>0.850175</td>\n",
       "      <td>0.061523</td>\n",
       "      <td>0.851053</td>\n",
       "      <td>0.426600</td>\n",
       "      <td>0.406651</td>\n",
       "      <td>0.416951</td>\n",
       "      <td>0.000149</td>\n",
       "      <td>0.000698</td>\n",
       "      <td>0.000377</td>\n",
       "      <td>0.000577</td>\n",
       "      <td>0.005533</td>\n",
       "    </tr>\n",
       "    <tr>\n",
       "      <th>width</th>\n",
       "      <td>0.072634</td>\n",
       "      <td>1.000000</td>\n",
       "      <td>0.990467</td>\n",
       "      <td>0.815328</td>\n",
       "      <td>0.396052</td>\n",
       "      <td>0.077829</td>\n",
       "      <td>0.238482</td>\n",
       "      <td>-0.063823</td>\n",
       "      <td>0.235592</td>\n",
       "      <td>0.601446</td>\n",
       "      <td>0.560013</td>\n",
       "      <td>0.575222</td>\n",
       "      <td>-0.001025</td>\n",
       "      <td>-0.000245</td>\n",
       "      <td>-0.000088</td>\n",
       "      <td>-0.000061</td>\n",
       "      <td>0.129861</td>\n",
       "    </tr>\n",
       "    <tr>\n",
       "      <th>height</th>\n",
       "      <td>0.050446</td>\n",
       "      <td>0.990467</td>\n",
       "      <td>1.000000</td>\n",
       "      <td>0.799082</td>\n",
       "      <td>0.456310</td>\n",
       "      <td>0.093377</td>\n",
       "      <td>0.234470</td>\n",
       "      <td>-0.069076</td>\n",
       "      <td>0.231766</td>\n",
       "      <td>0.592107</td>\n",
       "      <td>0.534646</td>\n",
       "      <td>0.550593</td>\n",
       "      <td>-0.001004</td>\n",
       "      <td>-0.000204</td>\n",
       "      <td>-0.000028</td>\n",
       "      <td>-0.000012</td>\n",
       "      <td>0.128479</td>\n",
       "    </tr>\n",
       "    <tr>\n",
       "      <th>bitrate</th>\n",
       "      <td>0.004759</td>\n",
       "      <td>0.815328</td>\n",
       "      <td>0.799082</td>\n",
       "      <td>1.000000</td>\n",
       "      <td>0.255464</td>\n",
       "      <td>0.059262</td>\n",
       "      <td>0.112427</td>\n",
       "      <td>-0.045938</td>\n",
       "      <td>0.111137</td>\n",
       "      <td>0.446320</td>\n",
       "      <td>0.616313</td>\n",
       "      <td>0.615846</td>\n",
       "      <td>-0.001328</td>\n",
       "      <td>-0.000284</td>\n",
       "      <td>-0.000096</td>\n",
       "      <td>-0.000088</td>\n",
       "      <td>0.155200</td>\n",
       "    </tr>\n",
       "    <tr>\n",
       "      <th>framerate</th>\n",
       "      <td>-0.030559</td>\n",
       "      <td>0.396052</td>\n",
       "      <td>0.456310</td>\n",
       "      <td>0.255464</td>\n",
       "      <td>1.000000</td>\n",
       "      <td>0.263127</td>\n",
       "      <td>0.332138</td>\n",
       "      <td>0.026759</td>\n",
       "      <td>0.331983</td>\n",
       "      <td>0.306534</td>\n",
       "      <td>0.196526</td>\n",
       "      <td>0.209523</td>\n",
       "      <td>-0.001684</td>\n",
       "      <td>0.000189</td>\n",
       "      <td>0.000102</td>\n",
       "      <td>0.000100</td>\n",
       "      <td>0.079336</td>\n",
       "    </tr>\n",
       "    <tr>\n",
       "      <th>i</th>\n",
       "      <td>0.773659</td>\n",
       "      <td>0.077829</td>\n",
       "      <td>0.093377</td>\n",
       "      <td>0.059262</td>\n",
       "      <td>0.263127</td>\n",
       "      <td>1.000000</td>\n",
       "      <td>0.831221</td>\n",
       "      <td>0.122470</td>\n",
       "      <td>0.836373</td>\n",
       "      <td>0.537019</td>\n",
       "      <td>0.393288</td>\n",
       "      <td>0.413247</td>\n",
       "      <td>-0.000739</td>\n",
       "      <td>0.000139</td>\n",
       "      <td>0.001220</td>\n",
       "      <td>0.001239</td>\n",
       "      <td>0.018489</td>\n",
       "    </tr>\n",
       "    <tr>\n",
       "      <th>p</th>\n",
       "      <td>0.850175</td>\n",
       "      <td>0.238482</td>\n",
       "      <td>0.234470</td>\n",
       "      <td>0.112427</td>\n",
       "      <td>0.332138</td>\n",
       "      <td>0.831221</td>\n",
       "      <td>1.000000</td>\n",
       "      <td>0.065422</td>\n",
       "      <td>0.999844</td>\n",
       "      <td>0.665995</td>\n",
       "      <td>0.605745</td>\n",
       "      <td>0.623506</td>\n",
       "      <td>-0.001788</td>\n",
       "      <td>0.000240</td>\n",
       "      <td>0.000393</td>\n",
       "      <td>0.000482</td>\n",
       "      <td>0.033201</td>\n",
       "    </tr>\n",
       "    <tr>\n",
       "      <th>b</th>\n",
       "      <td>0.061523</td>\n",
       "      <td>-0.063823</td>\n",
       "      <td>-0.069076</td>\n",
       "      <td>-0.045938</td>\n",
       "      <td>0.026759</td>\n",
       "      <td>0.122470</td>\n",
       "      <td>0.065422</td>\n",
       "      <td>1.000000</td>\n",
       "      <td>0.081321</td>\n",
       "      <td>-0.030969</td>\n",
       "      <td>-0.026488</td>\n",
       "      <td>-0.026406</td>\n",
       "      <td>0.002408</td>\n",
       "      <td>0.000263</td>\n",
       "      <td>0.000804</td>\n",
       "      <td>0.000835</td>\n",
       "      <td>0.005140</td>\n",
       "    </tr>\n",
       "    <tr>\n",
       "      <th>frames</th>\n",
       "      <td>0.851053</td>\n",
       "      <td>0.235592</td>\n",
       "      <td>0.231766</td>\n",
       "      <td>0.111137</td>\n",
       "      <td>0.331983</td>\n",
       "      <td>0.836373</td>\n",
       "      <td>0.999844</td>\n",
       "      <td>0.081321</td>\n",
       "      <td>1.000000</td>\n",
       "      <td>0.664543</td>\n",
       "      <td>0.603138</td>\n",
       "      <td>0.620952</td>\n",
       "      <td>-0.001740</td>\n",
       "      <td>0.000243</td>\n",
       "      <td>0.000417</td>\n",
       "      <td>0.000505</td>\n",
       "      <td>0.033115</td>\n",
       "    </tr>\n",
       "    <tr>\n",
       "      <th>i_size</th>\n",
       "      <td>0.426600</td>\n",
       "      <td>0.601446</td>\n",
       "      <td>0.592107</td>\n",
       "      <td>0.446320</td>\n",
       "      <td>0.306534</td>\n",
       "      <td>0.537019</td>\n",
       "      <td>0.665995</td>\n",
       "      <td>-0.030969</td>\n",
       "      <td>0.664543</td>\n",
       "      <td>1.000000</td>\n",
       "      <td>0.713713</td>\n",
       "      <td>0.751780</td>\n",
       "      <td>-0.002398</td>\n",
       "      <td>-0.000285</td>\n",
       "      <td>0.000226</td>\n",
       "      <td>0.000182</td>\n",
       "      <td>0.064711</td>\n",
       "    </tr>\n",
       "    <tr>\n",
       "      <th>p_size</th>\n",
       "      <td>0.406651</td>\n",
       "      <td>0.560013</td>\n",
       "      <td>0.534646</td>\n",
       "      <td>0.616313</td>\n",
       "      <td>0.196526</td>\n",
       "      <td>0.393288</td>\n",
       "      <td>0.605745</td>\n",
       "      <td>-0.026488</td>\n",
       "      <td>0.603138</td>\n",
       "      <td>0.713713</td>\n",
       "      <td>1.000000</td>\n",
       "      <td>0.998433</td>\n",
       "      <td>-0.003661</td>\n",
       "      <td>-0.000096</td>\n",
       "      <td>0.000218</td>\n",
       "      <td>0.000208</td>\n",
       "      <td>0.097644</td>\n",
       "    </tr>\n",
       "    <tr>\n",
       "      <th>size</th>\n",
       "      <td>0.416951</td>\n",
       "      <td>0.575222</td>\n",
       "      <td>0.550593</td>\n",
       "      <td>0.615846</td>\n",
       "      <td>0.209523</td>\n",
       "      <td>0.413247</td>\n",
       "      <td>0.623506</td>\n",
       "      <td>-0.026406</td>\n",
       "      <td>0.620952</td>\n",
       "      <td>0.751780</td>\n",
       "      <td>0.998433</td>\n",
       "      <td>1.000000</td>\n",
       "      <td>-0.003631</td>\n",
       "      <td>-0.000115</td>\n",
       "      <td>0.000222</td>\n",
       "      <td>0.000209</td>\n",
       "      <td>0.097096</td>\n",
       "    </tr>\n",
       "    <tr>\n",
       "      <th>o_bitrate</th>\n",
       "      <td>0.000149</td>\n",
       "      <td>-0.001025</td>\n",
       "      <td>-0.001004</td>\n",
       "      <td>-0.001328</td>\n",
       "      <td>-0.001684</td>\n",
       "      <td>-0.000739</td>\n",
       "      <td>-0.001788</td>\n",
       "      <td>0.002408</td>\n",
       "      <td>-0.001740</td>\n",
       "      <td>-0.002398</td>\n",
       "      <td>-0.003661</td>\n",
       "      <td>-0.003631</td>\n",
       "      <td>1.000000</td>\n",
       "      <td>-0.000338</td>\n",
       "      <td>0.000048</td>\n",
       "      <td>0.000081</td>\n",
       "      <td>0.155479</td>\n",
       "    </tr>\n",
       "    <tr>\n",
       "      <th>o_framerate</th>\n",
       "      <td>0.000698</td>\n",
       "      <td>-0.000245</td>\n",
       "      <td>-0.000204</td>\n",
       "      <td>-0.000284</td>\n",
       "      <td>0.000189</td>\n",
       "      <td>0.000139</td>\n",
       "      <td>0.000240</td>\n",
       "      <td>0.000263</td>\n",
       "      <td>0.000243</td>\n",
       "      <td>-0.000285</td>\n",
       "      <td>-0.000096</td>\n",
       "      <td>-0.000115</td>\n",
       "      <td>-0.000338</td>\n",
       "      <td>1.000000</td>\n",
       "      <td>0.000534</td>\n",
       "      <td>0.000542</td>\n",
       "      <td>0.104043</td>\n",
       "    </tr>\n",
       "    <tr>\n",
       "      <th>o_width</th>\n",
       "      <td>0.000377</td>\n",
       "      <td>-0.000088</td>\n",
       "      <td>-0.000028</td>\n",
       "      <td>-0.000096</td>\n",
       "      <td>0.000102</td>\n",
       "      <td>0.001220</td>\n",
       "      <td>0.000393</td>\n",
       "      <td>0.000804</td>\n",
       "      <td>0.000417</td>\n",
       "      <td>0.000226</td>\n",
       "      <td>0.000218</td>\n",
       "      <td>0.000222</td>\n",
       "      <td>0.000048</td>\n",
       "      <td>0.000534</td>\n",
       "      <td>1.000000</td>\n",
       "      <td>0.994492</td>\n",
       "      <td>0.523388</td>\n",
       "    </tr>\n",
       "    <tr>\n",
       "      <th>o_height</th>\n",
       "      <td>0.000577</td>\n",
       "      <td>-0.000061</td>\n",
       "      <td>-0.000012</td>\n",
       "      <td>-0.000088</td>\n",
       "      <td>0.000100</td>\n",
       "      <td>0.001239</td>\n",
       "      <td>0.000482</td>\n",
       "      <td>0.000835</td>\n",
       "      <td>0.000505</td>\n",
       "      <td>0.000182</td>\n",
       "      <td>0.000208</td>\n",
       "      <td>0.000209</td>\n",
       "      <td>0.000081</td>\n",
       "      <td>0.000542</td>\n",
       "      <td>0.994492</td>\n",
       "      <td>1.000000</td>\n",
       "      <td>0.519649</td>\n",
       "    </tr>\n",
       "    <tr>\n",
       "      <th>utime</th>\n",
       "      <td>0.005533</td>\n",
       "      <td>0.129861</td>\n",
       "      <td>0.128479</td>\n",
       "      <td>0.155200</td>\n",
       "      <td>0.079336</td>\n",
       "      <td>0.018489</td>\n",
       "      <td>0.033201</td>\n",
       "      <td>0.005140</td>\n",
       "      <td>0.033115</td>\n",
       "      <td>0.064711</td>\n",
       "      <td>0.097644</td>\n",
       "      <td>0.097096</td>\n",
       "      <td>0.155479</td>\n",
       "      <td>0.104043</td>\n",
       "      <td>0.523388</td>\n",
       "      <td>0.519649</td>\n",
       "      <td>1.000000</td>\n",
       "    </tr>\n",
       "  </tbody>\n",
       "</table>\n",
       "</div>"
      ],
      "text/plain": [
       "             duration     width    height   bitrate  framerate         i  \\\n",
       "duration     1.000000  0.072634  0.050446  0.004759  -0.030559  0.773659   \n",
       "width        0.072634  1.000000  0.990467  0.815328   0.396052  0.077829   \n",
       "height       0.050446  0.990467  1.000000  0.799082   0.456310  0.093377   \n",
       "bitrate      0.004759  0.815328  0.799082  1.000000   0.255464  0.059262   \n",
       "framerate   -0.030559  0.396052  0.456310  0.255464   1.000000  0.263127   \n",
       "i            0.773659  0.077829  0.093377  0.059262   0.263127  1.000000   \n",
       "p            0.850175  0.238482  0.234470  0.112427   0.332138  0.831221   \n",
       "b            0.061523 -0.063823 -0.069076 -0.045938   0.026759  0.122470   \n",
       "frames       0.851053  0.235592  0.231766  0.111137   0.331983  0.836373   \n",
       "i_size       0.426600  0.601446  0.592107  0.446320   0.306534  0.537019   \n",
       "p_size       0.406651  0.560013  0.534646  0.616313   0.196526  0.393288   \n",
       "size         0.416951  0.575222  0.550593  0.615846   0.209523  0.413247   \n",
       "o_bitrate    0.000149 -0.001025 -0.001004 -0.001328  -0.001684 -0.000739   \n",
       "o_framerate  0.000698 -0.000245 -0.000204 -0.000284   0.000189  0.000139   \n",
       "o_width      0.000377 -0.000088 -0.000028 -0.000096   0.000102  0.001220   \n",
       "o_height     0.000577 -0.000061 -0.000012 -0.000088   0.000100  0.001239   \n",
       "utime        0.005533  0.129861  0.128479  0.155200   0.079336  0.018489   \n",
       "\n",
       "                    p         b    frames    i_size    p_size      size  \\\n",
       "duration     0.850175  0.061523  0.851053  0.426600  0.406651  0.416951   \n",
       "width        0.238482 -0.063823  0.235592  0.601446  0.560013  0.575222   \n",
       "height       0.234470 -0.069076  0.231766  0.592107  0.534646  0.550593   \n",
       "bitrate      0.112427 -0.045938  0.111137  0.446320  0.616313  0.615846   \n",
       "framerate    0.332138  0.026759  0.331983  0.306534  0.196526  0.209523   \n",
       "i            0.831221  0.122470  0.836373  0.537019  0.393288  0.413247   \n",
       "p            1.000000  0.065422  0.999844  0.665995  0.605745  0.623506   \n",
       "b            0.065422  1.000000  0.081321 -0.030969 -0.026488 -0.026406   \n",
       "frames       0.999844  0.081321  1.000000  0.664543  0.603138  0.620952   \n",
       "i_size       0.665995 -0.030969  0.664543  1.000000  0.713713  0.751780   \n",
       "p_size       0.605745 -0.026488  0.603138  0.713713  1.000000  0.998433   \n",
       "size         0.623506 -0.026406  0.620952  0.751780  0.998433  1.000000   \n",
       "o_bitrate   -0.001788  0.002408 -0.001740 -0.002398 -0.003661 -0.003631   \n",
       "o_framerate  0.000240  0.000263  0.000243 -0.000285 -0.000096 -0.000115   \n",
       "o_width      0.000393  0.000804  0.000417  0.000226  0.000218  0.000222   \n",
       "o_height     0.000482  0.000835  0.000505  0.000182  0.000208  0.000209   \n",
       "utime        0.033201  0.005140  0.033115  0.064711  0.097644  0.097096   \n",
       "\n",
       "             o_bitrate  o_framerate   o_width  o_height     utime  \n",
       "duration      0.000149     0.000698  0.000377  0.000577  0.005533  \n",
       "width        -0.001025    -0.000245 -0.000088 -0.000061  0.129861  \n",
       "height       -0.001004    -0.000204 -0.000028 -0.000012  0.128479  \n",
       "bitrate      -0.001328    -0.000284 -0.000096 -0.000088  0.155200  \n",
       "framerate    -0.001684     0.000189  0.000102  0.000100  0.079336  \n",
       "i            -0.000739     0.000139  0.001220  0.001239  0.018489  \n",
       "p            -0.001788     0.000240  0.000393  0.000482  0.033201  \n",
       "b             0.002408     0.000263  0.000804  0.000835  0.005140  \n",
       "frames       -0.001740     0.000243  0.000417  0.000505  0.033115  \n",
       "i_size       -0.002398    -0.000285  0.000226  0.000182  0.064711  \n",
       "p_size       -0.003661    -0.000096  0.000218  0.000208  0.097644  \n",
       "size         -0.003631    -0.000115  0.000222  0.000209  0.097096  \n",
       "o_bitrate     1.000000    -0.000338  0.000048  0.000081  0.155479  \n",
       "o_framerate  -0.000338     1.000000  0.000534  0.000542  0.104043  \n",
       "o_width       0.000048     0.000534  1.000000  0.994492  0.523388  \n",
       "o_height      0.000081     0.000542  0.994492  1.000000  0.519649  \n",
       "utime         0.155479     0.104043  0.523388  0.519649  1.000000  "
      ]
     },
     "execution_count": 2,
     "metadata": {},
     "output_type": "execute_result"
    }
   ],
   "source": [
    "video_corr = video_df.corr()\n",
    "video_corr"
   ]
  },
  {
   "cell_type": "code",
   "execution_count": 4,
   "metadata": {},
   "outputs": [
    {
     "data": {
      "text/plain": [
       "<matplotlib.axes._subplots.AxesSubplot at 0x11bd4f8d0>"
      ]
     },
     "execution_count": 4,
     "metadata": {},
     "output_type": "execute_result"
    },
    {
     "data": {
      "image/png": "[encoded data removed]",
      "text/plain": [
       "<Figure size 1080x864 with 2 Axes>"
      ]
     },
     "metadata": {
      "needs_background": "light"
     },
     "output_type": "display_data"
    }
   ],
   "source": [
    "import seaborn as sb\n",
    "import matplotlib.pyplot as plt\n",
    "\n",
    "plt.figure(figsize=(15,12))\n",
    "sb.heatmap(video_corr,\n",
    "            xticklabels=video_corr.columns,\n",
    "            yticklabels=video_corr.columns,\n",
    "            cmap='RdBu_r',\n",
    "            annot=True,\n",
    "            linewidth=0.5)"
   ]
  },
  {
   "cell_type": "markdown",
   "metadata": {},
   "source": [
    "<font size=4> **Question 2**: Plot the histogram of numerical features. What preprocessing can be done if the distribution of a feature has high skewness? </font>"
   ]
  },
  {
   "cell_type": "code",
   "execution_count": 4,
   "metadata": {},
   "outputs": [],
   "source": [
    "xs = video_df.iloc[:, :-1]\n",
    "ys = video_df.iloc[:, -1]"
   ]
  },
  {
   "cell_type": "code",
   "execution_count": 5,
   "metadata": {},
   "outputs": [
    {
     "data": {
      "text/plain": [
       "Index(['duration', 'codec', 'width', 'height', 'bitrate', 'framerate', 'i',\n",
       "       'p', 'b', 'frames', 'i_size', 'p_size', 'size', 'o_codec', 'o_bitrate',\n",
       "       'o_framerate', 'o_width', 'o_height'],\n",
       "      dtype='object')"
      ]
     },
     "execution_count": 5,
     "metadata": {},
     "output_type": "execute_result"
    }
   ],
   "source": [
    "xs.columns"
   ]
  },
  {
   "cell_type": "code",
   "execution_count": 6,
   "metadata": {},
   "outputs": [
    {
     "data": {
      "image/png": "[encoded data removed]",
      "text/plain": [
       "<Figure size 432x288 with 1 Axes>"
      ]
     },
     "metadata": {
      "needs_background": "light"
     },
     "output_type": "display_data"
    },
    {
     "data": {
      "text/plain": [
       "<Figure size 432x288 with 0 Axes>"
      ]
     },
     "metadata": {},
     "output_type": "display_data"
    },
    {
     "data": {
      "image/png": "[encoded data removed]",
      "text/plain": [
       "<Figure size 432x288 with 1 Axes>"
      ]
     },
     "metadata": {
      "needs_background": "light"
     },
     "output_type": "display_data"
    },
    {
     "data": {
      "image/png": "[encoded data removed]",
      "text/plain": [
       "<Figure size 432x288 with 1 Axes>"
      ]
     },
     "metadata": {
      "needs_background": "light"
     },
     "output_type": "display_data"
    },
    {
     "data": {
      "image/png": "[encoded data removed]",
      "text/plain": [
       "<Figure size 432x288 with 1 Axes>"
      ]
     },
     "metadata": {
      "needs_background": "light"
     },
     "output_type": "display_data"
    },
    {
     "data": {
      "image/png": "[encoded data removed]",
      "text/plain": [
       "<Figure size 432x288 with 1 Axes>"
      ]
     },
     "metadata": {
      "needs_background": "light"
     },
     "output_type": "display_data"
    },
    {
     "data": {
      "image/png": "[encoded data removed]",
      "text/plain": [
       "<Figure size 432x288 with 1 Axes>"
      ]
     },
     "metadata": {
      "needs_background": "light"
     },
     "output_type": "display_data"
    },
    {
     "data": {
      "image/png": "[encoded data removed]",
      "text/plain": [
       "<Figure size 432x288 with 1 Axes>"
      ]
     },
     "metadata": {
      "needs_background": "light"
     },
     "output_type": "display_data"
    },
    {
     "data": {
      "image/png": "[encoded data removed]",
      "text/plain": [
       "<Figure size 432x288 with 1 Axes>"
      ]
     },
     "metadata": {
      "needs_background": "light"
     },
     "output_type": "display_data"
    },
    {
     "data": {
      "image/png": "[encoded data removed]",
      "text/plain": [
       "<Figure size 432x288 with 1 Axes>"
      ]
     },
     "metadata": {
      "needs_background": "light"
     },
     "output_type": "display_data"
    },
    {
     "data": {
      "image/png": "[encoded data removed]",
      "text/plain": [
       "<Figure size 432x288 with 1 Axes>"
      ]
     },
     "metadata": {
      "needs_background": "light"
     },
     "output_type": "display_data"
    },
    {
     "data": {
      "image/png": "[encoded data removed]",
      "text/plain": [
       "<Figure size 432x288 with 1 Axes>"
      ]
     },
     "metadata": {
      "needs_background": "light"
     },
     "output_type": "display_data"
    },
    {
     "data": {
      "image/png": "[encoded data removed]",
      "text/plain": [
       "<Figure size 432x288 with 1 Axes>"
      ]
     },
     "metadata": {
      "needs_background": "light"
     },
     "output_type": "display_data"
    },
    {
     "data": {
      "text/plain": [
       "<Figure size 432x288 with 0 Axes>"
      ]
     },
     "metadata": {},
     "output_type": "display_data"
    },
    {
     "data": {
      "image/png": "[encoded data removed]",
      "text/plain": [
       "<Figure size 432x288 with 1 Axes>"
      ]
     },
     "metadata": {
      "needs_background": "light"
     },
     "output_type": "display_data"
    },
    {
     "data": {
      "image/png": "[encoded data removed]",
      "text/plain": [
       "<Figure size 432x288 with 1 Axes>"
      ]
     },
     "metadata": {
      "needs_background": "light"
     },
     "output_type": "display_data"
    },
    {
     "data": {
      "image/png": "[encoded data removed]",
      "text/plain": [
       "<Figure size 432x288 with 1 Axes>"
      ]
     },
     "metadata": {
      "needs_background": "light"
     },
     "output_type": "display_data"
    },
    {
     "data": {
      "image/png": "[encoded data removed]",
      "text/plain": [
       "<Figure size 432x288 with 1 Axes>"
      ]
     },
     "metadata": {
      "needs_background": "light"
     },
     "output_type": "display_data"
    }
   ],
   "source": [
    "for i in range(xs.shape[1]):\n",
    "    plt.figure()\n",
    "    if type(xs.iloc[0,i]) != str:\n",
    "        plt.hist(xs.iloc[:,i], bins=20, edgecolor='k', facecolor='b', linewidth=1.5, alpha=0.8)\n",
    "        plt.xlabel(xs.columns[i])\n",
    "        plt.ylabel('Frequency')\n",
    "        plt.show()"
   ]
  },
  {
   "cell_type": "markdown",
   "metadata": {},
   "source": [
    "<font size=4> **Question 3**: Inspect box plot of categorical features vs target variable. What intuition do you get? </font>"
   ]
  },
  {
   "cell_type": "code",
   "execution_count": 7,
   "metadata": {},
   "outputs": [
    {
     "data": {
      "image/png": "[encoded data removed]",
      "text/plain": [
       "<Figure size 432x288 with 1 Axes>"
      ]
     },
     "metadata": {
      "needs_background": "light"
     },
     "output_type": "display_data"
    },
    {
     "data": {
      "image/png": "[encoded data removed]",
      "text/plain": [
       "<Figure size 432x288 with 1 Axes>"
      ]
     },
     "metadata": {
      "needs_background": "light"
     },
     "output_type": "display_data"
    }
   ],
   "source": [
    "sb.boxplot(xs['codec'], ys, order=list(set(xs['codec'])))\n",
    "plt.figure()\n",
    "sb.boxplot(xs['o_codec'], ys, order=list(set(xs['o_codec'])))\n",
    "plt.show()"
   ]
  },
  {
   "cell_type": "markdown",
   "metadata": {},
   "source": [
    "<font size=4> **Question 5**: For video transcoding time dataset, plot the distribution of video transcoding times, what can you observe? Report mean and median transcoding times. </font>"
   ]
  },
  {
   "cell_type": "code",
   "execution_count": 8,
   "metadata": {},
   "outputs": [
    {
     "data": {
      "text/plain": [
       "(9.996354820888579, 4.408)"
      ]
     },
     "execution_count": 8,
     "metadata": {},
     "output_type": "execute_result"
    },
    {
     "data": {
      "image/png": "[encoded data removed]",
      "text/plain": [
       "<Figure size 432x288 with 1 Axes>"
      ]
     },
     "metadata": {
      "needs_background": "light"
     },
     "output_type": "display_data"
    }
   ],
   "source": [
    "import numpy as np\n",
    "\n",
    "sb.distplot(ys, color='b')\n",
    "np.mean(ys), np.median(ys)"
   ]
  },
  {
   "cell_type": "markdown",
   "metadata": {},
   "source": [
    "<font size=4> **Question 6**: Handling categorical features: *One-hot Encoding*. </font>"
   ]
  },
  {
   "cell_type": "code",
   "execution_count": 9,
   "metadata": {},
   "outputs": [],
   "source": [
    "xs_onehot = pd.concat([xs,pd.get_dummies(xs[['codec', 'o_codec']],prefix=['codec', 'o_codec'],drop_first=True)],axis=1).drop(['codec', 'o_codec'],axis=1)"
   ]
  },
  {
   "cell_type": "code",
   "execution_count": 10,
   "metadata": {},
   "outputs": [
    {
     "data": {
      "text/html": [
       "<div>\n",
       "<style scoped>\n",
       "    .dataframe tbody tr th:only-of-type {\n",
       "        vertical-align: middle;\n",
       "    }\n",
       "\n",
       "    .dataframe tbody tr th {\n",
       "        vertical-align: top;\n",
       "    }\n",
       "\n",
       "    .dataframe thead th {\n",
       "        text-align: right;\n",
       "    }\n",
       "</style>\n",
       "<table border=\"1\" class=\"dataframe\">\n",
       "  <thead>\n",
       "    <tr style=\"text-align: right;\">\n",
       "      <th></th>\n",
       "      <th>duration</th>\n",
       "      <th>width</th>\n",
       "      <th>height</th>\n",
       "      <th>bitrate</th>\n",
       "      <th>framerate</th>\n",
       "      <th>i</th>\n",
       "      <th>p</th>\n",
       "      <th>b</th>\n",
       "      <th>frames</th>\n",
       "      <th>i_size</th>\n",
       "      <th>...</th>\n",
       "      <th>o_bitrate</th>\n",
       "      <th>o_framerate</th>\n",
       "      <th>o_width</th>\n",
       "      <th>o_height</th>\n",
       "      <th>codec_h264</th>\n",
       "      <th>codec_mpeg4</th>\n",
       "      <th>codec_vp8</th>\n",
       "      <th>o_codec_h264</th>\n",
       "      <th>o_codec_mpeg4</th>\n",
       "      <th>o_codec_vp8</th>\n",
       "    </tr>\n",
       "  </thead>\n",
       "  <tbody>\n",
       "    <tr>\n",
       "      <th>0</th>\n",
       "      <td>130.35667</td>\n",
       "      <td>176</td>\n",
       "      <td>144</td>\n",
       "      <td>54590</td>\n",
       "      <td>12.0</td>\n",
       "      <td>27</td>\n",
       "      <td>1537</td>\n",
       "      <td>0</td>\n",
       "      <td>1564</td>\n",
       "      <td>64483</td>\n",
       "      <td>...</td>\n",
       "      <td>56000</td>\n",
       "      <td>12.0</td>\n",
       "      <td>176</td>\n",
       "      <td>144</td>\n",
       "      <td>0</td>\n",
       "      <td>1</td>\n",
       "      <td>0</td>\n",
       "      <td>0</td>\n",
       "      <td>1</td>\n",
       "      <td>0</td>\n",
       "    </tr>\n",
       "    <tr>\n",
       "      <th>1</th>\n",
       "      <td>130.35667</td>\n",
       "      <td>176</td>\n",
       "      <td>144</td>\n",
       "      <td>54590</td>\n",
       "      <td>12.0</td>\n",
       "      <td>27</td>\n",
       "      <td>1537</td>\n",
       "      <td>0</td>\n",
       "      <td>1564</td>\n",
       "      <td>64483</td>\n",
       "      <td>...</td>\n",
       "      <td>56000</td>\n",
       "      <td>12.0</td>\n",
       "      <td>320</td>\n",
       "      <td>240</td>\n",
       "      <td>0</td>\n",
       "      <td>1</td>\n",
       "      <td>0</td>\n",
       "      <td>0</td>\n",
       "      <td>1</td>\n",
       "      <td>0</td>\n",
       "    </tr>\n",
       "    <tr>\n",
       "      <th>2</th>\n",
       "      <td>130.35667</td>\n",
       "      <td>176</td>\n",
       "      <td>144</td>\n",
       "      <td>54590</td>\n",
       "      <td>12.0</td>\n",
       "      <td>27</td>\n",
       "      <td>1537</td>\n",
       "      <td>0</td>\n",
       "      <td>1564</td>\n",
       "      <td>64483</td>\n",
       "      <td>...</td>\n",
       "      <td>56000</td>\n",
       "      <td>12.0</td>\n",
       "      <td>480</td>\n",
       "      <td>360</td>\n",
       "      <td>0</td>\n",
       "      <td>1</td>\n",
       "      <td>0</td>\n",
       "      <td>0</td>\n",
       "      <td>1</td>\n",
       "      <td>0</td>\n",
       "    </tr>\n",
       "    <tr>\n",
       "      <th>3</th>\n",
       "      <td>130.35667</td>\n",
       "      <td>176</td>\n",
       "      <td>144</td>\n",
       "      <td>54590</td>\n",
       "      <td>12.0</td>\n",
       "      <td>27</td>\n",
       "      <td>1537</td>\n",
       "      <td>0</td>\n",
       "      <td>1564</td>\n",
       "      <td>64483</td>\n",
       "      <td>...</td>\n",
       "      <td>56000</td>\n",
       "      <td>12.0</td>\n",
       "      <td>640</td>\n",
       "      <td>480</td>\n",
       "      <td>0</td>\n",
       "      <td>1</td>\n",
       "      <td>0</td>\n",
       "      <td>0</td>\n",
       "      <td>1</td>\n",
       "      <td>0</td>\n",
       "    </tr>\n",
       "    <tr>\n",
       "      <th>4</th>\n",
       "      <td>130.35667</td>\n",
       "      <td>176</td>\n",
       "      <td>144</td>\n",
       "      <td>54590</td>\n",
       "      <td>12.0</td>\n",
       "      <td>27</td>\n",
       "      <td>1537</td>\n",
       "      <td>0</td>\n",
       "      <td>1564</td>\n",
       "      <td>64483</td>\n",
       "      <td>...</td>\n",
       "      <td>56000</td>\n",
       "      <td>12.0</td>\n",
       "      <td>1280</td>\n",
       "      <td>720</td>\n",
       "      <td>0</td>\n",
       "      <td>1</td>\n",
       "      <td>0</td>\n",
       "      <td>0</td>\n",
       "      <td>1</td>\n",
       "      <td>0</td>\n",
       "    </tr>\n",
       "  </tbody>\n",
       "</table>\n",
       "<p>5 rows × 22 columns</p>\n",
       "</div>"
      ],
      "text/plain": [
       "    duration  width  height  bitrate  framerate   i     p  b  frames  i_size  \\\n",
       "0  130.35667    176     144    54590       12.0  27  1537  0    1564   64483   \n",
       "1  130.35667    176     144    54590       12.0  27  1537  0    1564   64483   \n",
       "2  130.35667    176     144    54590       12.0  27  1537  0    1564   64483   \n",
       "3  130.35667    176     144    54590       12.0  27  1537  0    1564   64483   \n",
       "4  130.35667    176     144    54590       12.0  27  1537  0    1564   64483   \n",
       "\n",
       "   ...  o_bitrate  o_framerate  o_width  o_height  codec_h264  codec_mpeg4  \\\n",
       "0  ...      56000         12.0      176       144           0            1   \n",
       "1  ...      56000         12.0      320       240           0            1   \n",
       "2  ...      56000         12.0      480       360           0            1   \n",
       "3  ...      56000         12.0      640       480           0            1   \n",
       "4  ...      56000         12.0     1280       720           0            1   \n",
       "\n",
       "   codec_vp8  o_codec_h264  o_codec_mpeg4  o_codec_vp8  \n",
       "0          0             0              1            0  \n",
       "1          0             0              1            0  \n",
       "2          0             0              1            0  \n",
       "3          0             0              1            0  \n",
       "4          0             0              1            0  \n",
       "\n",
       "[5 rows x 22 columns]"
      ]
     },
     "execution_count": 10,
     "metadata": {},
     "output_type": "execute_result"
    }
   ],
   "source": [
    "xs_onehot.head()"
   ]
  },
  {
   "cell_type": "markdown",
   "metadata": {},
   "source": [
    "<font size=4> **Question 7**: Standardize feature columns and prepare them for training. </font>"
   ]
  },
  {
   "cell_type": "code",
   "execution_count": 11,
   "metadata": {},
   "outputs": [],
   "source": [
    "from sklearn import preprocessing\n",
    "\n",
    "xs_standard = preprocessing.scale(xs_onehot)"
   ]
  },
  {
   "cell_type": "markdown",
   "metadata": {},
   "source": [
    "<font size=4> **Question 8**: You may select most important features using mutual information or F-scores. How does this step affect the performance of your models in terms of test RMSE? </font>"
   ]
  },
  {
   "cell_type": "code",
   "execution_count": 12,
   "metadata": {},
   "outputs": [],
   "source": [
    "from sklearn.feature_selection import mutual_info_regression\n",
    "from sklearn.feature_selection import f_regression\n",
    "\n",
    "MutualInfo = mutual_info_regression(xs_standard, ys)\n",
    "Fscore = f_regression(xs_standard, ys)"
   ]
  },
  {
   "cell_type": "code",
   "execution_count": 13,
   "metadata": {},
   "outputs": [],
   "source": [
    "# select 5 most important variables \n",
    "\n",
    "top5_MI = np.argsort(MutualInfo)[::-1][:5]\n",
    "top5_FS = np.argsort(Fscore[0])[::-1][:5]\n",
    "\n",
    "xs_top5_MI = xs_onehot.iloc[:, top5_MI]\n",
    "xs_top5_FS = xs_onehot.iloc[:, top5_FS]"
   ]
  },
  {
   "cell_type": "code",
   "execution_count": 14,
   "metadata": {},
   "outputs": [
    {
     "data": {
      "text/plain": [
       "Index(['o_width', 'o_height', 'o_codec_h264', 'o_codec_mpeg4', 'o_bitrate'], dtype='object')"
      ]
     },
     "execution_count": 14,
     "metadata": {},
     "output_type": "execute_result"
    }
   ],
   "source": [
    "xs_onehot.columns[top5_FS]"
   ]
  },
  {
   "cell_type": "markdown",
   "metadata": {},
   "source": [
    "## Linear Regression"
   ]
  },
  {
   "cell_type": "markdown",
   "metadata": {},
   "source": [
    "<font size=4> **Question 9-11**: Train ordinary least squares, as well as Lasso and Ridge regression, and compare their performances. </font>"
   ]
  },
  {
   "cell_type": "code",
   "execution_count": 15,
   "metadata": {},
   "outputs": [],
   "source": [
    "from sklearn.pipeline import Pipeline\n",
    "from sklearn import preprocessing\n",
    "from sklearn.model_selection import cross_validate\n",
    "from sklearn.linear_model import LinearRegression\n",
    "\n",
    "pipe_lr_standard = Pipeline([\n",
    "    ('standardize', preprocessing.StandardScaler()),\n",
    "    ('model', LinearRegression())\n",
    "])\n",
    "\n",
    "pipe_lr_nonstandard = Pipeline([\n",
    "    ('model', LinearRegression())\n",
    "])\n",
    "\n",
    "lr_train_score = []\n",
    "lr_test_score = []\n",
    "xs = [xs_top5_MI, xs_top5_FS]\n",
    "\n",
    "for x in xs:\n",
    "    cv_results = cross_validate(pipe_lr_nonstandard, x, ys, scoring='neg_root_mean_squared_error', \n",
    "                                return_train_score=True, cv=10)\n",
    "    lr_train_score.append(np.mean(cv_results['train_score']))\n",
    "    lr_test_score.append(np.mean(cv_results['test_score']))\n",
    "    cv_results = cross_validate(pipe_lr_standard, x, ys, scoring='neg_root_mean_squared_error', \n",
    "                                return_train_score=True, cv=10)\n",
    "    lr_train_score.append(np.mean(cv_results['train_score']))\n",
    "    lr_test_score.append(np.mean(cv_results['test_score']))"
   ]
  },
  {
   "cell_type": "code",
   "execution_count": 16,
   "metadata": {},
   "outputs": [],
   "source": [
    "lr_results = pd.DataFrame(data={'mean_test_score': lr_test_score, 'mean_train_score': lr_train_score,\n",
    "                                'param_model': 'LinearRegression()', 'param_model__alpha': 'NA', \n",
    "                                'Standardize': [False, True, False, True], \n",
    "                                'Feature Selection': ['Mutual Information', 'Mutual Information', 'F Scores', 'F Scores']})"
   ]
  },
  {
   "cell_type": "code",
   "execution_count": 17,
   "metadata": {},
   "outputs": [
    {
     "data": {
      "text/html": [
       "<div>\n",
       "<style scoped>\n",
       "    .dataframe tbody tr th:only-of-type {\n",
       "        vertical-align: middle;\n",
       "    }\n",
       "\n",
       "    .dataframe tbody tr th {\n",
       "        vertical-align: top;\n",
       "    }\n",
       "\n",
       "    .dataframe thead th {\n",
       "        text-align: right;\n",
       "    }\n",
       "</style>\n",
       "<table border=\"1\" class=\"dataframe\">\n",
       "  <thead>\n",
       "    <tr style=\"text-align: right;\">\n",
       "      <th></th>\n",
       "      <th>mean_test_score</th>\n",
       "      <th>mean_train_score</th>\n",
       "      <th>param_model</th>\n",
       "      <th>param_model__alpha</th>\n",
       "      <th>Standardize</th>\n",
       "      <th>Feature Selection</th>\n",
       "    </tr>\n",
       "  </thead>\n",
       "  <tbody>\n",
       "    <tr>\n",
       "      <th>0</th>\n",
       "      <td>-15.879762</td>\n",
       "      <td>-15.903696</td>\n",
       "      <td>LinearRegression()</td>\n",
       "      <td>NA</td>\n",
       "      <td>False</td>\n",
       "      <td>Mutual Information</td>\n",
       "    </tr>\n",
       "    <tr>\n",
       "      <th>1</th>\n",
       "      <td>-15.879762</td>\n",
       "      <td>-15.903696</td>\n",
       "      <td>LinearRegression()</td>\n",
       "      <td>NA</td>\n",
       "      <td>True</td>\n",
       "      <td>Mutual Information</td>\n",
       "    </tr>\n",
       "    <tr>\n",
       "      <th>2</th>\n",
       "      <td>-11.851535</td>\n",
       "      <td>-11.856084</td>\n",
       "      <td>LinearRegression()</td>\n",
       "      <td>NA</td>\n",
       "      <td>False</td>\n",
       "      <td>F Scores</td>\n",
       "    </tr>\n",
       "    <tr>\n",
       "      <th>3</th>\n",
       "      <td>-11.851535</td>\n",
       "      <td>-11.856084</td>\n",
       "      <td>LinearRegression()</td>\n",
       "      <td>NA</td>\n",
       "      <td>True</td>\n",
       "      <td>F Scores</td>\n",
       "    </tr>\n",
       "  </tbody>\n",
       "</table>\n",
       "</div>"
      ],
      "text/plain": [
       "   mean_test_score  mean_train_score         param_model param_model__alpha  \\\n",
       "0       -15.879762        -15.903696  LinearRegression()                 NA   \n",
       "1       -15.879762        -15.903696  LinearRegression()                 NA   \n",
       "2       -11.851535        -11.856084  LinearRegression()                 NA   \n",
       "3       -11.851535        -11.856084  LinearRegression()                 NA   \n",
       "\n",
       "   Standardize   Feature Selection  \n",
       "0        False  Mutual Information  \n",
       "1         True  Mutual Information  \n",
       "2        False            F Scores  \n",
       "3         True            F Scores  "
      ]
     },
     "execution_count": 17,
     "metadata": {},
     "output_type": "execute_result"
    }
   ],
   "source": [
    "lr_results"
   ]
  },
  {
   "cell_type": "code",
   "execution_count": 18,
   "metadata": {},
   "outputs": [],
   "source": [
    "from sklearn.pipeline import Pipeline\n",
    "from sklearn.model_selection import GridSearchCV\n",
    "from sklearn import preprocessing\n",
    "from sklearn.linear_model import LinearRegression, Ridge, Lasso\n",
    "\n",
    "pipe_standard = Pipeline([\n",
    "    ('standardize', preprocessing.StandardScaler()),\n",
    "    ('model', LinearRegression())\n",
    "])\n",
    "\n",
    "pipe_nonstandard = Pipeline([\n",
    "    ('model', LinearRegression())\n",
    "])\n",
    "\n",
    "param_grid = {\n",
    "    'model': [Ridge(random_state=42, max_iter=10000), Lasso(random_state=42, max_iter=10000)],\n",
    "    'model__alpha': [10.0**x for x in np.arange(-3,4)]\n",
    "}"
   ]
  },
  {
   "cell_type": "code",
   "execution_count": 19,
   "metadata": {},
   "outputs": [
    {
     "name": "stdout",
     "output_type": "stream",
     "text": [
      "Fitting 10 folds for each of 14 candidates, totalling 140 fits\n"
     ]
    },
    {
     "name": "stderr",
     "output_type": "stream",
     "text": [
      "[Parallel(n_jobs=-1)]: Using backend LokyBackend with 4 concurrent workers.\n",
      "[Parallel(n_jobs=-1)]: Done  99 tasks      | elapsed:  1.5min\n",
      "[Parallel(n_jobs=-1)]: Done 140 out of 140 | elapsed:  2.4min finished\n"
     ]
    }
   ],
   "source": [
    "grid1 = GridSearchCV(pipe_nonstandard, param_grid=param_grid, cv=10, n_jobs=-1, verbose=1, \n",
    "                     scoring='neg_root_mean_squared_error', return_train_score=True).fit(xs_top5_MI, ys)"
   ]
  },
  {
   "cell_type": "code",
   "execution_count": 20,
   "metadata": {},
   "outputs": [
    {
     "name": "stdout",
     "output_type": "stream",
     "text": [
      "Fitting 10 folds for each of 14 candidates, totalling 140 fits\n"
     ]
    },
    {
     "name": "stderr",
     "output_type": "stream",
     "text": [
      "[Parallel(n_jobs=-1)]: Using backend LokyBackend with 4 concurrent workers.\n",
      "[Parallel(n_jobs=-1)]: Done 140 out of 140 | elapsed:   11.1s finished\n"
     ]
    }
   ],
   "source": [
    "grid2 = GridSearchCV(pipe_nonstandard, param_grid=param_grid, cv=10, n_jobs=-1, verbose=1, \n",
    "                     scoring='neg_root_mean_squared_error', return_train_score=True).fit(xs_top5_FS, ys)"
   ]
  },
  {
   "cell_type": "code",
   "execution_count": 21,
   "metadata": {},
   "outputs": [
    {
     "name": "stderr",
     "output_type": "stream",
     "text": [
      "[Parallel(n_jobs=-1)]: Using backend LokyBackend with 4 concurrent workers.\n"
     ]
    },
    {
     "name": "stdout",
     "output_type": "stream",
     "text": [
      "Fitting 10 folds for each of 14 candidates, totalling 140 fits\n"
     ]
    },
    {
     "name": "stderr",
     "output_type": "stream",
     "text": [
      "[Parallel(n_jobs=-1)]: Done 140 out of 140 | elapsed:   16.9s finished\n"
     ]
    }
   ],
   "source": [
    "grid3 = GridSearchCV(pipe_standard, param_grid=param_grid, cv=10, n_jobs=-1, verbose=1, \n",
    "                     scoring='neg_root_mean_squared_error', return_train_score=True).fit(xs_top5_MI, ys)"
   ]
  },
  {
   "cell_type": "code",
   "execution_count": 22,
   "metadata": {},
   "outputs": [
    {
     "name": "stderr",
     "output_type": "stream",
     "text": [
      "[Parallel(n_jobs=-1)]: Using backend LokyBackend with 4 concurrent workers.\n"
     ]
    },
    {
     "name": "stdout",
     "output_type": "stream",
     "text": [
      "Fitting 10 folds for each of 14 candidates, totalling 140 fits\n"
     ]
    },
    {
     "name": "stderr",
     "output_type": "stream",
     "text": [
      "[Parallel(n_jobs=-1)]: Done 140 out of 140 | elapsed:    2.9s finished\n"
     ]
    }
   ],
   "source": [
    "grid4 = GridSearchCV(pipe_standard, param_grid=param_grid, cv=10, n_jobs=-1, verbose=1, \n",
    "                     scoring='neg_root_mean_squared_error', return_train_score=True).fit(xs_top5_FS, ys)"
   ]
  },
  {
   "cell_type": "code",
   "execution_count": 23,
   "metadata": {},
   "outputs": [],
   "source": [
    "lr_reg_result1 = pd.DataFrame(grid1.cv_results_)[['mean_test_score', 'mean_train_score', 'param_model', 'param_model__alpha']]\n",
    "lr_reg_result1['Standardize'] = False\n",
    "lr_reg_result1['Feature Selection'] = 'Mutual Information'\n",
    "\n",
    "lr_reg_result2 = pd.DataFrame(grid2.cv_results_)[['mean_test_score', 'mean_train_score', 'param_model', 'param_model__alpha']]\n",
    "lr_reg_result2['Standardize'] = False\n",
    "lr_reg_result2['Feature Selection'] = 'F Scores'\n",
    "\n",
    "lr_reg_result3 = pd.DataFrame(grid3.cv_results_)[['mean_test_score', 'mean_train_score', 'param_model', 'param_model__alpha']]\n",
    "lr_reg_result3['Standardize'] = True\n",
    "lr_reg_result3['Feature Selection'] = 'Mutual Information'\n",
    "\n",
    "lr_reg_result4 = pd.DataFrame(grid4.cv_results_)[['mean_test_score', 'mean_train_score', 'param_model', 'param_model__alpha']]\n",
    "lr_reg_result4['Standardize'] = True\n",
    "lr_reg_result4['Feature Selection'] = 'F Scores'"
   ]
  },
  {
   "cell_type": "code",
   "execution_count": 24,
   "metadata": {},
   "outputs": [
    {
     "data": {
      "text/html": [
       "<div>\n",
       "<style scoped>\n",
       "    .dataframe tbody tr th:only-of-type {\n",
       "        vertical-align: middle;\n",
       "    }\n",
       "\n",
       "    .dataframe tbody tr th {\n",
       "        vertical-align: top;\n",
       "    }\n",
       "\n",
       "    .dataframe thead th {\n",
       "        text-align: right;\n",
       "    }\n",
       "</style>\n",
       "<table border=\"1\" class=\"dataframe\">\n",
       "  <thead>\n",
       "    <tr style=\"text-align: right;\">\n",
       "      <th></th>\n",
       "      <th>mean_test_score</th>\n",
       "      <th>mean_train_score</th>\n",
       "      <th>param_model</th>\n",
       "      <th>param_model__alpha</th>\n",
       "      <th>Standardize</th>\n",
       "      <th>Feature Selection</th>\n",
       "    </tr>\n",
       "  </thead>\n",
       "  <tbody>\n",
       "    <tr>\n",
       "      <th>0</th>\n",
       "      <td>-11.851441</td>\n",
       "      <td>-11.856209</td>\n",
       "      <td>Ridge(alpha=1.0, copy_X=True, fit_intercept=Tr...</td>\n",
       "      <td>100</td>\n",
       "      <td>False</td>\n",
       "      <td>F Scores</td>\n",
       "    </tr>\n",
       "    <tr>\n",
       "      <th>1</th>\n",
       "      <td>-11.851460</td>\n",
       "      <td>-11.856118</td>\n",
       "      <td>Lasso(alpha=0.1, copy_X=True, fit_intercept=Tr...</td>\n",
       "      <td>0.01</td>\n",
       "      <td>False</td>\n",
       "      <td>F Scores</td>\n",
       "    </tr>\n",
       "    <tr>\n",
       "      <th>2</th>\n",
       "      <td>-11.851514</td>\n",
       "      <td>-11.856085</td>\n",
       "      <td>Ridge(alpha=1.0, copy_X=True, fit_intercept=Tr...</td>\n",
       "      <td>10</td>\n",
       "      <td>False</td>\n",
       "      <td>F Scores</td>\n",
       "    </tr>\n",
       "    <tr>\n",
       "      <th>3</th>\n",
       "      <td>-11.851524</td>\n",
       "      <td>-11.856085</td>\n",
       "      <td>Lasso(alpha=0.1, copy_X=True, fit_intercept=Tr...</td>\n",
       "      <td>0.001</td>\n",
       "      <td>False</td>\n",
       "      <td>F Scores</td>\n",
       "    </tr>\n",
       "    <tr>\n",
       "      <th>4</th>\n",
       "      <td>-11.851533</td>\n",
       "      <td>-11.856084</td>\n",
       "      <td>Ridge(alpha=1.0, copy_X=True, fit_intercept=Tr...</td>\n",
       "      <td>1</td>\n",
       "      <td>False</td>\n",
       "      <td>F Scores</td>\n",
       "    </tr>\n",
       "    <tr>\n",
       "      <th>5</th>\n",
       "      <td>-11.851534</td>\n",
       "      <td>-11.856084</td>\n",
       "      <td>Ridge(alpha=1.0, copy_X=True, fit_intercept=Tr...</td>\n",
       "      <td>1</td>\n",
       "      <td>True</td>\n",
       "      <td>F Scores</td>\n",
       "    </tr>\n",
       "    <tr>\n",
       "      <th>6</th>\n",
       "      <td>-11.851535</td>\n",
       "      <td>-11.856096</td>\n",
       "      <td>Ridge(alpha=1.0, copy_X=True, fit_intercept=Tr...</td>\n",
       "      <td>10</td>\n",
       "      <td>True</td>\n",
       "      <td>F Scores</td>\n",
       "    </tr>\n",
       "    <tr>\n",
       "      <th>7</th>\n",
       "      <td>-11.851535</td>\n",
       "      <td>-11.856084</td>\n",
       "      <td>Ridge(alpha=1.0, copy_X=True, fit_intercept=Tr...</td>\n",
       "      <td>0.1</td>\n",
       "      <td>False</td>\n",
       "      <td>F Scores</td>\n",
       "    </tr>\n",
       "    <tr>\n",
       "      <th>8</th>\n",
       "      <td>-11.851535</td>\n",
       "      <td>-11.856084</td>\n",
       "      <td>Ridge(alpha=1.0, copy_X=True, fit_intercept=Tr...</td>\n",
       "      <td>0.1</td>\n",
       "      <td>True</td>\n",
       "      <td>F Scores</td>\n",
       "    </tr>\n",
       "    <tr>\n",
       "      <th>9</th>\n",
       "      <td>-11.851535</td>\n",
       "      <td>-11.856084</td>\n",
       "      <td>Ridge(alpha=1.0, copy_X=True, fit_intercept=Tr...</td>\n",
       "      <td>0.01</td>\n",
       "      <td>False</td>\n",
       "      <td>F Scores</td>\n",
       "    </tr>\n",
       "    <tr>\n",
       "      <th>10</th>\n",
       "      <td>-11.851535</td>\n",
       "      <td>-11.856084</td>\n",
       "      <td>Ridge(alpha=1.0, copy_X=True, fit_intercept=Tr...</td>\n",
       "      <td>0.01</td>\n",
       "      <td>True</td>\n",
       "      <td>F Scores</td>\n",
       "    </tr>\n",
       "    <tr>\n",
       "      <th>11</th>\n",
       "      <td>-11.851535</td>\n",
       "      <td>-11.856084</td>\n",
       "      <td>Ridge(alpha=1.0, copy_X=True, fit_intercept=Tr...</td>\n",
       "      <td>0.001</td>\n",
       "      <td>False</td>\n",
       "      <td>F Scores</td>\n",
       "    </tr>\n",
       "    <tr>\n",
       "      <th>12</th>\n",
       "      <td>-11.851535</td>\n",
       "      <td>-11.856084</td>\n",
       "      <td>Ridge(alpha=1.0, copy_X=True, fit_intercept=Tr...</td>\n",
       "      <td>0.001</td>\n",
       "      <td>True</td>\n",
       "      <td>F Scores</td>\n",
       "    </tr>\n",
       "    <tr>\n",
       "      <th>13</th>\n",
       "      <td>-11.851535</td>\n",
       "      <td>-11.856084</td>\n",
       "      <td>LinearRegression()</td>\n",
       "      <td>NA</td>\n",
       "      <td>False</td>\n",
       "      <td>F Scores</td>\n",
       "    </tr>\n",
       "    <tr>\n",
       "      <th>14</th>\n",
       "      <td>-11.851535</td>\n",
       "      <td>-11.856084</td>\n",
       "      <td>LinearRegression()</td>\n",
       "      <td>NA</td>\n",
       "      <td>True</td>\n",
       "      <td>F Scores</td>\n",
       "    </tr>\n",
       "    <tr>\n",
       "      <th>15</th>\n",
       "      <td>-11.851541</td>\n",
       "      <td>-11.856100</td>\n",
       "      <td>Lasso(alpha=0.1, copy_X=True, fit_intercept=Tr...</td>\n",
       "      <td>0.001</td>\n",
       "      <td>True</td>\n",
       "      <td>F Scores</td>\n",
       "    </tr>\n",
       "    <tr>\n",
       "      <th>16</th>\n",
       "      <td>-11.852156</td>\n",
       "      <td>-11.856813</td>\n",
       "      <td>Ridge(alpha=1.0, copy_X=True, fit_intercept=Tr...</td>\n",
       "      <td>100</td>\n",
       "      <td>True</td>\n",
       "      <td>F Scores</td>\n",
       "    </tr>\n",
       "    <tr>\n",
       "      <th>17</th>\n",
       "      <td>-11.852200</td>\n",
       "      <td>-11.856863</td>\n",
       "      <td>Lasso(alpha=0.1, copy_X=True, fit_intercept=Tr...</td>\n",
       "      <td>0.01</td>\n",
       "      <td>True</td>\n",
       "      <td>F Scores</td>\n",
       "    </tr>\n",
       "    <tr>\n",
       "      <th>18</th>\n",
       "      <td>-11.852557</td>\n",
       "      <td>-11.858324</td>\n",
       "      <td>Lasso(alpha=0.1, copy_X=True, fit_intercept=Tr...</td>\n",
       "      <td>0.1</td>\n",
       "      <td>True</td>\n",
       "      <td>F Scores</td>\n",
       "    </tr>\n",
       "    <tr>\n",
       "      <th>19</th>\n",
       "      <td>-11.853828</td>\n",
       "      <td>-11.859461</td>\n",
       "      <td>Lasso(alpha=0.1, copy_X=True, fit_intercept=Tr...</td>\n",
       "      <td>0.1</td>\n",
       "      <td>False</td>\n",
       "      <td>F Scores</td>\n",
       "    </tr>\n",
       "    <tr>\n",
       "      <th>20</th>\n",
       "      <td>-11.859083</td>\n",
       "      <td>-11.864573</td>\n",
       "      <td>Ridge(alpha=1.0, copy_X=True, fit_intercept=Tr...</td>\n",
       "      <td>1000</td>\n",
       "      <td>True</td>\n",
       "      <td>F Scores</td>\n",
       "    </tr>\n",
       "    <tr>\n",
       "      <th>21</th>\n",
       "      <td>-11.860023</td>\n",
       "      <td>-11.866594</td>\n",
       "      <td>Ridge(alpha=1.0, copy_X=True, fit_intercept=Tr...</td>\n",
       "      <td>1000</td>\n",
       "      <td>False</td>\n",
       "      <td>F Scores</td>\n",
       "    </tr>\n",
       "    <tr>\n",
       "      <th>22</th>\n",
       "      <td>-11.982361</td>\n",
       "      <td>-12.000326</td>\n",
       "      <td>Lasso(alpha=0.1, copy_X=True, fit_intercept=Tr...</td>\n",
       "      <td>1</td>\n",
       "      <td>True</td>\n",
       "      <td>F Scores</td>\n",
       "    </tr>\n",
       "    <tr>\n",
       "      <th>23</th>\n",
       "      <td>-12.083403</td>\n",
       "      <td>-12.097649</td>\n",
       "      <td>Lasso(alpha=0.1, copy_X=True, fit_intercept=Tr...</td>\n",
       "      <td>1</td>\n",
       "      <td>False</td>\n",
       "      <td>F Scores</td>\n",
       "    </tr>\n",
       "    <tr>\n",
       "      <th>24</th>\n",
       "      <td>-13.469525</td>\n",
       "      <td>-13.493168</td>\n",
       "      <td>Lasso(alpha=0.1, copy_X=True, fit_intercept=Tr...</td>\n",
       "      <td>10</td>\n",
       "      <td>False</td>\n",
       "      <td>F Scores</td>\n",
       "    </tr>\n",
       "    <tr>\n",
       "      <th>25</th>\n",
       "      <td>-13.469741</td>\n",
       "      <td>-13.494154</td>\n",
       "      <td>Lasso(alpha=0.1, copy_X=True, fit_intercept=Tr...</td>\n",
       "      <td>100</td>\n",
       "      <td>False</td>\n",
       "      <td>F Scores</td>\n",
       "    </tr>\n",
       "    <tr>\n",
       "      <th>26</th>\n",
       "      <td>-13.560747</td>\n",
       "      <td>-13.592401</td>\n",
       "      <td>Lasso(alpha=0.1, copy_X=True, fit_intercept=Tr...</td>\n",
       "      <td>1000</td>\n",
       "      <td>False</td>\n",
       "      <td>F Scores</td>\n",
       "    </tr>\n",
       "    <tr>\n",
       "      <th>27</th>\n",
       "      <td>-15.861583</td>\n",
       "      <td>-15.909418</td>\n",
       "      <td>Lasso(alpha=0.1, copy_X=True, fit_intercept=Tr...</td>\n",
       "      <td>0.1</td>\n",
       "      <td>True</td>\n",
       "      <td>Mutual Information</td>\n",
       "    </tr>\n",
       "    <tr>\n",
       "      <th>28</th>\n",
       "      <td>-15.863965</td>\n",
       "      <td>-15.907130</td>\n",
       "      <td>Ridge(alpha=1.0, copy_X=True, fit_intercept=Tr...</td>\n",
       "      <td>1000</td>\n",
       "      <td>True</td>\n",
       "      <td>Mutual Information</td>\n",
       "    </tr>\n",
       "    <tr>\n",
       "      <th>29</th>\n",
       "      <td>-15.865016</td>\n",
       "      <td>-15.907285</td>\n",
       "      <td>Lasso(alpha=0.1, copy_X=True, fit_intercept=Tr...</td>\n",
       "      <td>0.01</td>\n",
       "      <td>True</td>\n",
       "      <td>Mutual Information</td>\n",
       "    </tr>\n",
       "    <tr>\n",
       "      <th>30</th>\n",
       "      <td>-15.866414</td>\n",
       "      <td>-15.905134</td>\n",
       "      <td>Ridge(alpha=1.0, copy_X=True, fit_intercept=Tr...</td>\n",
       "      <td>100</td>\n",
       "      <td>True</td>\n",
       "      <td>Mutual Information</td>\n",
       "    </tr>\n",
       "    <tr>\n",
       "      <th>31</th>\n",
       "      <td>-15.869226</td>\n",
       "      <td>-15.904129</td>\n",
       "      <td>Lasso(alpha=0.1, copy_X=True, fit_intercept=Tr...</td>\n",
       "      <td>100</td>\n",
       "      <td>False</td>\n",
       "      <td>Mutual Information</td>\n",
       "    </tr>\n",
       "    <tr>\n",
       "      <th>32</th>\n",
       "      <td>-15.869298</td>\n",
       "      <td>-15.904108</td>\n",
       "      <td>Lasso(alpha=0.1, copy_X=True, fit_intercept=Tr...</td>\n",
       "      <td>10</td>\n",
       "      <td>False</td>\n",
       "      <td>Mutual Information</td>\n",
       "    </tr>\n",
       "    <tr>\n",
       "      <th>33</th>\n",
       "      <td>-15.870720</td>\n",
       "      <td>-15.904073</td>\n",
       "      <td>Lasso(alpha=0.1, copy_X=True, fit_intercept=Tr...</td>\n",
       "      <td>0.001</td>\n",
       "      <td>True</td>\n",
       "      <td>Mutual Information</td>\n",
       "    </tr>\n",
       "    <tr>\n",
       "      <th>34</th>\n",
       "      <td>-15.871346</td>\n",
       "      <td>-15.906183</td>\n",
       "      <td>Lasso(alpha=0.1, copy_X=True, fit_intercept=Tr...</td>\n",
       "      <td>1000</td>\n",
       "      <td>False</td>\n",
       "      <td>Mutual Information</td>\n",
       "    </tr>\n",
       "    <tr>\n",
       "      <th>35</th>\n",
       "      <td>-15.871356</td>\n",
       "      <td>-15.903893</td>\n",
       "      <td>Ridge(alpha=1.0, copy_X=True, fit_intercept=Tr...</td>\n",
       "      <td>10</td>\n",
       "      <td>True</td>\n",
       "      <td>Mutual Information</td>\n",
       "    </tr>\n",
       "    <tr>\n",
       "      <th>36</th>\n",
       "      <td>-15.875791</td>\n",
       "      <td>-15.903729</td>\n",
       "      <td>Lasso(alpha=0.1, copy_X=True, fit_intercept=Tr...</td>\n",
       "      <td>1</td>\n",
       "      <td>False</td>\n",
       "      <td>Mutual Information</td>\n",
       "    </tr>\n",
       "    <tr>\n",
       "      <th>37</th>\n",
       "      <td>-15.876847</td>\n",
       "      <td>-15.903709</td>\n",
       "      <td>Lasso(alpha=0.1, copy_X=True, fit_intercept=Tr...</td>\n",
       "      <td>0.1</td>\n",
       "      <td>False</td>\n",
       "      <td>Mutual Information</td>\n",
       "    </tr>\n",
       "    <tr>\n",
       "      <th>38</th>\n",
       "      <td>-15.876948</td>\n",
       "      <td>-15.903708</td>\n",
       "      <td>Lasso(alpha=0.1, copy_X=True, fit_intercept=Tr...</td>\n",
       "      <td>0.01</td>\n",
       "      <td>False</td>\n",
       "      <td>Mutual Information</td>\n",
       "    </tr>\n",
       "    <tr>\n",
       "      <th>39</th>\n",
       "      <td>-15.876958</td>\n",
       "      <td>-15.903708</td>\n",
       "      <td>Lasso(alpha=0.1, copy_X=True, fit_intercept=Tr...</td>\n",
       "      <td>0.001</td>\n",
       "      <td>False</td>\n",
       "      <td>Mutual Information</td>\n",
       "    </tr>\n",
       "    <tr>\n",
       "      <th>40</th>\n",
       "      <td>-15.877389</td>\n",
       "      <td>-15.903705</td>\n",
       "      <td>Ridge(alpha=1.0, copy_X=True, fit_intercept=Tr...</td>\n",
       "      <td>1</td>\n",
       "      <td>True</td>\n",
       "      <td>Mutual Information</td>\n",
       "    </tr>\n",
       "    <tr>\n",
       "      <th>41</th>\n",
       "      <td>-15.879467</td>\n",
       "      <td>-15.903696</td>\n",
       "      <td>Ridge(alpha=1.0, copy_X=True, fit_intercept=Tr...</td>\n",
       "      <td>0.1</td>\n",
       "      <td>True</td>\n",
       "      <td>Mutual Information</td>\n",
       "    </tr>\n",
       "    <tr>\n",
       "      <th>42</th>\n",
       "      <td>-15.879732</td>\n",
       "      <td>-15.903696</td>\n",
       "      <td>Ridge(alpha=1.0, copy_X=True, fit_intercept=Tr...</td>\n",
       "      <td>0.01</td>\n",
       "      <td>True</td>\n",
       "      <td>Mutual Information</td>\n",
       "    </tr>\n",
       "    <tr>\n",
       "      <th>43</th>\n",
       "      <td>-15.879759</td>\n",
       "      <td>-15.903696</td>\n",
       "      <td>Ridge(alpha=1.0, copy_X=True, fit_intercept=Tr...</td>\n",
       "      <td>0.001</td>\n",
       "      <td>True</td>\n",
       "      <td>Mutual Information</td>\n",
       "    </tr>\n",
       "    <tr>\n",
       "      <th>44</th>\n",
       "      <td>-15.879762</td>\n",
       "      <td>-15.903696</td>\n",
       "      <td>Ridge(alpha=1.0, copy_X=True, fit_intercept=Tr...</td>\n",
       "      <td>1000</td>\n",
       "      <td>False</td>\n",
       "      <td>Mutual Information</td>\n",
       "    </tr>\n",
       "    <tr>\n",
       "      <th>45</th>\n",
       "      <td>-15.879762</td>\n",
       "      <td>-15.903696</td>\n",
       "      <td>Ridge(alpha=1.0, copy_X=True, fit_intercept=Tr...</td>\n",
       "      <td>100</td>\n",
       "      <td>False</td>\n",
       "      <td>Mutual Information</td>\n",
       "    </tr>\n",
       "    <tr>\n",
       "      <th>46</th>\n",
       "      <td>-15.879762</td>\n",
       "      <td>-15.903696</td>\n",
       "      <td>Ridge(alpha=1.0, copy_X=True, fit_intercept=Tr...</td>\n",
       "      <td>10</td>\n",
       "      <td>False</td>\n",
       "      <td>Mutual Information</td>\n",
       "    </tr>\n",
       "    <tr>\n",
       "      <th>47</th>\n",
       "      <td>-15.879762</td>\n",
       "      <td>-15.903696</td>\n",
       "      <td>Ridge(alpha=1.0, copy_X=True, fit_intercept=Tr...</td>\n",
       "      <td>1</td>\n",
       "      <td>False</td>\n",
       "      <td>Mutual Information</td>\n",
       "    </tr>\n",
       "    <tr>\n",
       "      <th>48</th>\n",
       "      <td>-15.879762</td>\n",
       "      <td>-15.903696</td>\n",
       "      <td>Ridge(alpha=1.0, copy_X=True, fit_intercept=Tr...</td>\n",
       "      <td>0.1</td>\n",
       "      <td>False</td>\n",
       "      <td>Mutual Information</td>\n",
       "    </tr>\n",
       "    <tr>\n",
       "      <th>49</th>\n",
       "      <td>-15.879762</td>\n",
       "      <td>-15.903696</td>\n",
       "      <td>Ridge(alpha=1.0, copy_X=True, fit_intercept=Tr...</td>\n",
       "      <td>0.01</td>\n",
       "      <td>False</td>\n",
       "      <td>Mutual Information</td>\n",
       "    </tr>\n",
       "    <tr>\n",
       "      <th>50</th>\n",
       "      <td>-15.879762</td>\n",
       "      <td>-15.903696</td>\n",
       "      <td>Ridge(alpha=1.0, copy_X=True, fit_intercept=Tr...</td>\n",
       "      <td>0.001</td>\n",
       "      <td>False</td>\n",
       "      <td>Mutual Information</td>\n",
       "    </tr>\n",
       "    <tr>\n",
       "      <th>51</th>\n",
       "      <td>-15.879762</td>\n",
       "      <td>-15.903696</td>\n",
       "      <td>LinearRegression()</td>\n",
       "      <td>NA</td>\n",
       "      <td>True</td>\n",
       "      <td>Mutual Information</td>\n",
       "    </tr>\n",
       "    <tr>\n",
       "      <th>52</th>\n",
       "      <td>-15.879762</td>\n",
       "      <td>-15.903696</td>\n",
       "      <td>LinearRegression()</td>\n",
       "      <td>NA</td>\n",
       "      <td>False</td>\n",
       "      <td>Mutual Information</td>\n",
       "    </tr>\n",
       "    <tr>\n",
       "      <th>53</th>\n",
       "      <td>-15.891806</td>\n",
       "      <td>-15.942337</td>\n",
       "      <td>Lasso(alpha=0.1, copy_X=True, fit_intercept=Tr...</td>\n",
       "      <td>1</td>\n",
       "      <td>True</td>\n",
       "      <td>Mutual Information</td>\n",
       "    </tr>\n",
       "    <tr>\n",
       "      <th>54</th>\n",
       "      <td>-16.056461</td>\n",
       "      <td>-16.106140</td>\n",
       "      <td>Lasso(alpha=0.1, copy_X=True, fit_intercept=Tr...</td>\n",
       "      <td>1000</td>\n",
       "      <td>True</td>\n",
       "      <td>Mutual Information</td>\n",
       "    </tr>\n",
       "    <tr>\n",
       "      <th>55</th>\n",
       "      <td>-16.056461</td>\n",
       "      <td>-16.106140</td>\n",
       "      <td>Lasso(alpha=0.1, copy_X=True, fit_intercept=Tr...</td>\n",
       "      <td>100</td>\n",
       "      <td>True</td>\n",
       "      <td>Mutual Information</td>\n",
       "    </tr>\n",
       "    <tr>\n",
       "      <th>56</th>\n",
       "      <td>-16.056461</td>\n",
       "      <td>-16.106140</td>\n",
       "      <td>Lasso(alpha=0.1, copy_X=True, fit_intercept=Tr...</td>\n",
       "      <td>10</td>\n",
       "      <td>True</td>\n",
       "      <td>Mutual Information</td>\n",
       "    </tr>\n",
       "    <tr>\n",
       "      <th>57</th>\n",
       "      <td>-16.056461</td>\n",
       "      <td>-16.106140</td>\n",
       "      <td>Lasso(alpha=0.1, copy_X=True, fit_intercept=Tr...</td>\n",
       "      <td>10</td>\n",
       "      <td>True</td>\n",
       "      <td>F Scores</td>\n",
       "    </tr>\n",
       "    <tr>\n",
       "      <th>58</th>\n",
       "      <td>-16.056461</td>\n",
       "      <td>-16.106140</td>\n",
       "      <td>Lasso(alpha=0.1, copy_X=True, fit_intercept=Tr...</td>\n",
       "      <td>100</td>\n",
       "      <td>True</td>\n",
       "      <td>F Scores</td>\n",
       "    </tr>\n",
       "    <tr>\n",
       "      <th>59</th>\n",
       "      <td>-16.056461</td>\n",
       "      <td>-16.106140</td>\n",
       "      <td>Lasso(alpha=0.1, copy_X=True, fit_intercept=Tr...</td>\n",
       "      <td>1000</td>\n",
       "      <td>True</td>\n",
       "      <td>F Scores</td>\n",
       "    </tr>\n",
       "  </tbody>\n",
       "</table>\n",
       "</div>"
      ],
      "text/plain": [
       "    mean_test_score  mean_train_score  \\\n",
       "0        -11.851441        -11.856209   \n",
       "1        -11.851460        -11.856118   \n",
       "2        -11.851514        -11.856085   \n",
       "3        -11.851524        -11.856085   \n",
       "4        -11.851533        -11.856084   \n",
       "5        -11.851534        -11.856084   \n",
       "6        -11.851535        -11.856096   \n",
       "7        -11.851535        -11.856084   \n",
       "8        -11.851535        -11.856084   \n",
       "9        -11.851535        -11.856084   \n",
       "10       -11.851535        -11.856084   \n",
       "11       -11.851535        -11.856084   \n",
       "12       -11.851535        -11.856084   \n",
       "13       -11.851535        -11.856084   \n",
       "14       -11.851535        -11.856084   \n",
       "15       -11.851541        -11.856100   \n",
       "16       -11.852156        -11.856813   \n",
       "17       -11.852200        -11.856863   \n",
       "18       -11.852557        -11.858324   \n",
       "19       -11.853828        -11.859461   \n",
       "20       -11.859083        -11.864573   \n",
       "21       -11.860023        -11.866594   \n",
       "22       -11.982361        -12.000326   \n",
       "23       -12.083403        -12.097649   \n",
       "24       -13.469525        -13.493168   \n",
       "25       -13.469741        -13.494154   \n",
       "26       -13.560747        -13.592401   \n",
       "27       -15.861583        -15.909418   \n",
       "28       -15.863965        -15.907130   \n",
       "29       -15.865016        -15.907285   \n",
       "30       -15.866414        -15.905134   \n",
       "31       -15.869226        -15.904129   \n",
       "32       -15.869298        -15.904108   \n",
       "33       -15.870720        -15.904073   \n",
       "34       -15.871346        -15.906183   \n",
       "35       -15.871356        -15.903893   \n",
       "36       -15.875791        -15.903729   \n",
       "37       -15.876847        -15.903709   \n",
       "38       -15.876948        -15.903708   \n",
       "39       -15.876958        -15.903708   \n",
       "40       -15.877389        -15.903705   \n",
       "41       -15.879467        -15.903696   \n",
       "42       -15.879732        -15.903696   \n",
       "43       -15.879759        -15.903696   \n",
       "44       -15.879762        -15.903696   \n",
       "45       -15.879762        -15.903696   \n",
       "46       -15.879762        -15.903696   \n",
       "47       -15.879762        -15.903696   \n",
       "48       -15.879762        -15.903696   \n",
       "49       -15.879762        -15.903696   \n",
       "50       -15.879762        -15.903696   \n",
       "51       -15.879762        -15.903696   \n",
       "52       -15.879762        -15.903696   \n",
       "53       -15.891806        -15.942337   \n",
       "54       -16.056461        -16.106140   \n",
       "55       -16.056461        -16.106140   \n",
       "56       -16.056461        -16.106140   \n",
       "57       -16.056461        -16.106140   \n",
       "58       -16.056461        -16.106140   \n",
       "59       -16.056461        -16.106140   \n",
       "\n",
       "                                          param_model param_model__alpha  \\\n",
       "0   Ridge(alpha=1.0, copy_X=True, fit_intercept=Tr...                100   \n",
       "1   Lasso(alpha=0.1, copy_X=True, fit_intercept=Tr...               0.01   \n",
       "2   Ridge(alpha=1.0, copy_X=True, fit_intercept=Tr...                 10   \n",
       "3   Lasso(alpha=0.1, copy_X=True, fit_intercept=Tr...              0.001   \n",
       "4   Ridge(alpha=1.0, copy_X=True, fit_intercept=Tr...                  1   \n",
       "5   Ridge(alpha=1.0, copy_X=True, fit_intercept=Tr...                  1   \n",
       "6   Ridge(alpha=1.0, copy_X=True, fit_intercept=Tr...                 10   \n",
       "7   Ridge(alpha=1.0, copy_X=True, fit_intercept=Tr...                0.1   \n",
       "8   Ridge(alpha=1.0, copy_X=True, fit_intercept=Tr...                0.1   \n",
       "9   Ridge(alpha=1.0, copy_X=True, fit_intercept=Tr...               0.01   \n",
       "10  Ridge(alpha=1.0, copy_X=True, fit_intercept=Tr...               0.01   \n",
       "11  Ridge(alpha=1.0, copy_X=True, fit_intercept=Tr...              0.001   \n",
       "12  Ridge(alpha=1.0, copy_X=True, fit_intercept=Tr...              0.001   \n",
       "13                                 LinearRegression()                 NA   \n",
       "14                                 LinearRegression()                 NA   \n",
       "15  Lasso(alpha=0.1, copy_X=True, fit_intercept=Tr...              0.001   \n",
       "16  Ridge(alpha=1.0, copy_X=True, fit_intercept=Tr...                100   \n",
       "17  Lasso(alpha=0.1, copy_X=True, fit_intercept=Tr...               0.01   \n",
       "18  Lasso(alpha=0.1, copy_X=True, fit_intercept=Tr...                0.1   \n",
       "19  Lasso(alpha=0.1, copy_X=True, fit_intercept=Tr...                0.1   \n",
       "20  Ridge(alpha=1.0, copy_X=True, fit_intercept=Tr...               1000   \n",
       "21  Ridge(alpha=1.0, copy_X=True, fit_intercept=Tr...               1000   \n",
       "22  Lasso(alpha=0.1, copy_X=True, fit_intercept=Tr...                  1   \n",
       "23  Lasso(alpha=0.1, copy_X=True, fit_intercept=Tr...                  1   \n",
       "24  Lasso(alpha=0.1, copy_X=True, fit_intercept=Tr...                 10   \n",
       "25  Lasso(alpha=0.1, copy_X=True, fit_intercept=Tr...                100   \n",
       "26  Lasso(alpha=0.1, copy_X=True, fit_intercept=Tr...               1000   \n",
       "27  Lasso(alpha=0.1, copy_X=True, fit_intercept=Tr...                0.1   \n",
       "28  Ridge(alpha=1.0, copy_X=True, fit_intercept=Tr...               1000   \n",
       "29  Lasso(alpha=0.1, copy_X=True, fit_intercept=Tr...               0.01   \n",
       "30  Ridge(alpha=1.0, copy_X=True, fit_intercept=Tr...                100   \n",
       "31  Lasso(alpha=0.1, copy_X=True, fit_intercept=Tr...                100   \n",
       "32  Lasso(alpha=0.1, copy_X=True, fit_intercept=Tr...                 10   \n",
       "33  Lasso(alpha=0.1, copy_X=True, fit_intercept=Tr...              0.001   \n",
       "34  Lasso(alpha=0.1, copy_X=True, fit_intercept=Tr...               1000   \n",
       "35  Ridge(alpha=1.0, copy_X=True, fit_intercept=Tr...                 10   \n",
       "36  Lasso(alpha=0.1, copy_X=True, fit_intercept=Tr...                  1   \n",
       "37  Lasso(alpha=0.1, copy_X=True, fit_intercept=Tr...                0.1   \n",
       "38  Lasso(alpha=0.1, copy_X=True, fit_intercept=Tr...               0.01   \n",
       "39  Lasso(alpha=0.1, copy_X=True, fit_intercept=Tr...              0.001   \n",
       "40  Ridge(alpha=1.0, copy_X=True, fit_intercept=Tr...                  1   \n",
       "41  Ridge(alpha=1.0, copy_X=True, fit_intercept=Tr...                0.1   \n",
       "42  Ridge(alpha=1.0, copy_X=True, fit_intercept=Tr...               0.01   \n",
       "43  Ridge(alpha=1.0, copy_X=True, fit_intercept=Tr...              0.001   \n",
       "44  Ridge(alpha=1.0, copy_X=True, fit_intercept=Tr...               1000   \n",
       "45  Ridge(alpha=1.0, copy_X=True, fit_intercept=Tr...                100   \n",
       "46  Ridge(alpha=1.0, copy_X=True, fit_intercept=Tr...                 10   \n",
       "47  Ridge(alpha=1.0, copy_X=True, fit_intercept=Tr...                  1   \n",
       "48  Ridge(alpha=1.0, copy_X=True, fit_intercept=Tr...                0.1   \n",
       "49  Ridge(alpha=1.0, copy_X=True, fit_intercept=Tr...               0.01   \n",
       "50  Ridge(alpha=1.0, copy_X=True, fit_intercept=Tr...              0.001   \n",
       "51                                 LinearRegression()                 NA   \n",
       "52                                 LinearRegression()                 NA   \n",
       "53  Lasso(alpha=0.1, copy_X=True, fit_intercept=Tr...                  1   \n",
       "54  Lasso(alpha=0.1, copy_X=True, fit_intercept=Tr...               1000   \n",
       "55  Lasso(alpha=0.1, copy_X=True, fit_intercept=Tr...                100   \n",
       "56  Lasso(alpha=0.1, copy_X=True, fit_intercept=Tr...                 10   \n",
       "57  Lasso(alpha=0.1, copy_X=True, fit_intercept=Tr...                 10   \n",
       "58  Lasso(alpha=0.1, copy_X=True, fit_intercept=Tr...                100   \n",
       "59  Lasso(alpha=0.1, copy_X=True, fit_intercept=Tr...               1000   \n",
       "\n",
       "    Standardize   Feature Selection  \n",
       "0         False            F Scores  \n",
       "1         False            F Scores  \n",
       "2         False            F Scores  \n",
       "3         False            F Scores  \n",
       "4         False            F Scores  \n",
       "5          True            F Scores  \n",
       "6          True            F Scores  \n",
       "7         False            F Scores  \n",
       "8          True            F Scores  \n",
       "9         False            F Scores  \n",
       "10         True            F Scores  \n",
       "11        False            F Scores  \n",
       "12         True            F Scores  \n",
       "13        False            F Scores  \n",
       "14         True            F Scores  \n",
       "15         True            F Scores  \n",
       "16         True            F Scores  \n",
       "17         True            F Scores  \n",
       "18         True            F Scores  \n",
       "19        False            F Scores  \n",
       "20         True            F Scores  \n",
       "21        False            F Scores  \n",
       "22         True            F Scores  \n",
       "23        False            F Scores  \n",
       "24        False            F Scores  \n",
       "25        False            F Scores  \n",
       "26        False            F Scores  \n",
       "27         True  Mutual Information  \n",
       "28         True  Mutual Information  \n",
       "29         True  Mutual Information  \n",
       "30         True  Mutual Information  \n",
       "31        False  Mutual Information  \n",
       "32        False  Mutual Information  \n",
       "33         True  Mutual Information  \n",
       "34        False  Mutual Information  \n",
       "35         True  Mutual Information  \n",
       "36        False  Mutual Information  \n",
       "37        False  Mutual Information  \n",
       "38        False  Mutual Information  \n",
       "39        False  Mutual Information  \n",
       "40         True  Mutual Information  \n",
       "41         True  Mutual Information  \n",
       "42         True  Mutual Information  \n",
       "43         True  Mutual Information  \n",
       "44        False  Mutual Information  \n",
       "45        False  Mutual Information  \n",
       "46        False  Mutual Information  \n",
       "47        False  Mutual Information  \n",
       "48        False  Mutual Information  \n",
       "49        False  Mutual Information  \n",
       "50        False  Mutual Information  \n",
       "51         True  Mutual Information  \n",
       "52        False  Mutual Information  \n",
       "53         True  Mutual Information  \n",
       "54         True  Mutual Information  \n",
       "55         True  Mutual Information  \n",
       "56         True  Mutual Information  \n",
       "57         True            F Scores  \n",
       "58         True            F Scores  \n",
       "59         True            F Scores  "
      ]
     },
     "execution_count": 24,
     "metadata": {},
     "output_type": "execute_result"
    }
   ],
   "source": [
    "results = pd.concat([lr_results, lr_reg_result1, lr_reg_result2, lr_reg_result3, lr_reg_result4])\n",
    "results = results.sort_values(by=['mean_test_score'], ascending=False).reset_index(drop=True)\n",
    "results"
   ]
  },
  {
   "cell_type": "markdown",
   "metadata": {},
   "source": [
    "<font size=4> **Question 12**: Some linear regression packages return $p$-values for different features. What is the meaning of them and how can you infer the most significant features? </font>"
   ]
  },
  {
   "cell_type": "code",
   "execution_count": 25,
   "metadata": {},
   "outputs": [
    {
     "name": "stdout",
     "output_type": "stream",
     "text": [
      "                            OLS Regression Results                            \n",
      "==============================================================================\n",
      "Dep. Variable:                  utime   R-squared:                       0.534\n",
      "Model:                            OLS   Adj. R-squared:                  0.533\n",
      "Method:                 Least Squares   F-statistic:                     3745.\n",
      "Date:                Fri, 06 Mar 2020   Prob (F-statistic):               0.00\n",
      "Time:                        21:11:01   Log-Likelihood:            -2.6254e+05\n",
      "No. Observations:               68784   AIC:                         5.251e+05\n",
      "Df Residuals:                   68762   BIC:                         5.253e+05\n",
      "Df Model:                          21                                         \n",
      "Covariance Type:            nonrobust                                         \n",
      "=================================================================================\n",
      "                    coef    std err          t      P>|t|      [0.025      0.975]\n",
      "---------------------------------------------------------------------------------\n",
      "const           -16.9810      0.363    -46.797      0.000     -17.692     -16.270\n",
      "duration          0.0009      0.000      1.986      0.047    1.15e-05       0.002\n",
      "width             0.0051      0.001      5.433      0.000       0.003       0.007\n",
      "height           -0.0107      0.002     -5.744      0.000      -0.014      -0.007\n",
      "bitrate        2.232e-06   9.31e-08     23.981      0.000    2.05e-06    2.41e-06\n",
      "framerate         0.0732      0.012      6.285      0.000       0.050       0.096\n",
      "i                -0.0061      0.001     -5.362      0.000      -0.008      -0.004\n",
      "p                 0.0016      0.000      3.869      0.000       0.001       0.002\n",
      "b                 0.0030      0.001      4.492      0.000       0.002       0.004\n",
      "frames           -0.0015      0.000     -3.696      0.000      -0.002      -0.001\n",
      "i_size          6.67e-07   9.19e-07      0.725      0.468   -1.14e-06    2.47e-06\n",
      "p_size         8.027e-07   9.19e-07      0.874      0.382   -9.98e-07     2.6e-06\n",
      "size          -7.984e-07   9.18e-07     -0.869      0.385    -2.6e-06       1e-06\n",
      "o_bitrate      1.429e-06    2.4e-08     59.578      0.000    1.38e-06    1.48e-06\n",
      "o_framerate       0.2507      0.006     39.849      0.000       0.238       0.263\n",
      "o_width           0.0160      0.001     24.312      0.000       0.015       0.017\n",
      "o_height         -0.0041      0.001     -3.262      0.001      -0.007      -0.002\n",
      "codec_h264        0.0306      0.178      0.172      0.864      -0.319       0.380\n",
      "codec_mpeg4      -1.9047      0.199     -9.595      0.000      -2.294      -1.516\n",
      "codec_vp8        -0.8544      0.214     -3.992      0.000      -1.274      -0.435\n",
      "o_codec_h264     18.6779      0.119    156.994      0.000      18.445      18.911\n",
      "o_codec_mpeg4     2.7087      0.119     22.834      0.000       2.476       2.941\n",
      "o_codec_vp8       8.6282      0.119     72.721      0.000       8.396       8.861\n",
      "==============================================================================\n",
      "Omnibus:                    62397.529   Durbin-Watson:                   1.352\n",
      "Prob(Omnibus):                  0.000   Jarque-Bera (JB):          3593268.359\n",
      "Skew:                           4.221   Prob(JB):                         0.00\n",
      "Kurtosis:                      37.388   Cond. No.                     1.43e+19\n",
      "==============================================================================\n",
      "\n",
      "Warnings:\n",
      "[1] Standard Errors assume that the covariance matrix of the errors is correctly specified.\n",
      "[2] The smallest eigenvalue is 2.23e-18. This might indicate that there are\n",
      "strong multicollinearity problems or that the design matrix is singular.\n"
     ]
    },
    {
     "name": "stderr",
     "output_type": "stream",
     "text": [
      "/usr/local/lib/python3.7/site-packages/numpy/core/fromnumeric.py:2389: FutureWarning: Method .ptp is deprecated and will be removed in a future version. Use numpy.ptp instead.\n",
      "  return ptp(axis=axis, out=out, **kwargs)\n"
     ]
    }
   ],
   "source": [
    "import statsmodels.api as sm\n",
    " \n",
    "lm_fit = sm.OLS(ys, sm.add_constant(xs_onehot)).fit()\n",
    "print(lm_fit.summary())"
   ]
  },
  {
   "cell_type": "code",
   "execution_count": 26,
   "metadata": {},
   "outputs": [
    {
     "data": {
      "text/plain": [
       "const             0.000000e+00\n",
       "o_codec_h264      0.000000e+00\n",
       "o_framerate       0.000000e+00\n",
       "o_bitrate         0.000000e+00\n",
       "o_codec_vp8       0.000000e+00\n",
       "o_width          5.218535e-130\n",
       "bitrate          1.456482e-126\n",
       "o_codec_mpeg4    5.645564e-115\n",
       "codec_mpeg4       8.638936e-22\n",
       "framerate         3.292809e-10\n",
       "height            9.271988e-09\n",
       "width             5.568883e-08\n",
       "i                 8.259889e-08\n",
       "b                 7.069403e-06\n",
       "codec_vp8         6.559773e-05\n",
       "p                 1.094798e-04\n",
       "frames            2.192188e-04\n",
       "o_height          1.108057e-03\n",
       "duration          4.709001e-02\n",
       "p_size            3.821872e-01\n",
       "size              3.846849e-01\n",
       "i_size            4.681481e-01\n",
       "codec_h264        8.636200e-01\n",
       "dtype: float64"
      ]
     },
     "execution_count": 26,
     "metadata": {},
     "output_type": "execute_result"
    }
   ],
   "source": [
    "lm_fit.pvalues.sort_values(ascending=True)"
   ]
  },
  {
   "cell_type": "markdown",
   "metadata": {},
   "source": [
    "## Polynomial Regression"
   ]
  },
  {
   "cell_type": "markdown",
   "metadata": {},
   "source": [
    "<font size=4> **Question 13-14**: Perform polynomial regression by crafting products of raw features up to a certain degree and applying linear regression on the compound features. </font>"
   ]
  },
  {
   "cell_type": "code",
   "execution_count": 27,
   "metadata": {},
   "outputs": [],
   "source": [
    "from sklearn.pipeline import Pipeline\n",
    "from sklearn.model_selection import GridSearchCV\n",
    "from sklearn.preprocessing import PolynomialFeatures, StandardScaler\n",
    "from sklearn.linear_model import Ridge\n",
    "\n",
    "pipe_poly = Pipeline([\n",
    "    ('poly_transform', PolynomialFeatures()),\n",
    "    ('standardize', StandardScaler()),\n",
    "    ('model', Ridge(alpha=100, random_state=42, max_iter=10000))\n",
    "])\n",
    "\n",
    "param_grid = {\n",
    "    'poly_transform__degree': np.arange(1,11,1)\n",
    "}"
   ]
  },
  {
   "cell_type": "code",
   "execution_count": 28,
   "metadata": {},
   "outputs": [
    {
     "name": "stderr",
     "output_type": "stream",
     "text": [
      "[Parallel(n_jobs=-1)]: Using backend LokyBackend with 4 concurrent workers.\n"
     ]
    },
    {
     "name": "stdout",
     "output_type": "stream",
     "text": [
      "Fitting 10 folds for each of 10 candidates, totalling 100 fits\n"
     ]
    },
    {
     "name": "stderr",
     "output_type": "stream",
     "text": [
      "[Parallel(n_jobs=-1)]: Done  93 tasks      | elapsed:  6.1min\n",
      "[Parallel(n_jobs=-1)]: Done 100 out of 100 | elapsed:  9.7min finished\n"
     ]
    }
   ],
   "source": [
    "grid_poly = GridSearchCV(pipe_poly, param_grid=param_grid, cv=10, n_jobs=-1, verbose=1, \n",
    "                         scoring='neg_root_mean_squared_error', return_train_score=True).fit(xs_top5_FS, ys)"
   ]
  },
  {
   "cell_type": "code",
   "execution_count": 29,
   "metadata": {},
   "outputs": [
    {
     "data": {
      "text/html": [
       "<div>\n",
       "<style scoped>\n",
       "    .dataframe tbody tr th:only-of-type {\n",
       "        vertical-align: middle;\n",
       "    }\n",
       "\n",
       "    .dataframe tbody tr th {\n",
       "        vertical-align: top;\n",
       "    }\n",
       "\n",
       "    .dataframe thead th {\n",
       "        text-align: right;\n",
       "    }\n",
       "</style>\n",
       "<table border=\"1\" class=\"dataframe\">\n",
       "  <thead>\n",
       "    <tr style=\"text-align: right;\">\n",
       "      <th></th>\n",
       "      <th>mean_test_score</th>\n",
       "      <th>mean_train_score</th>\n",
       "      <th>param_poly_transform__degree</th>\n",
       "    </tr>\n",
       "  </thead>\n",
       "  <tbody>\n",
       "    <tr>\n",
       "      <th>0</th>\n",
       "      <td>-11.852156</td>\n",
       "      <td>-11.856813</td>\n",
       "      <td>1</td>\n",
       "    </tr>\n",
       "    <tr>\n",
       "      <th>1</th>\n",
       "      <td>-8.924676</td>\n",
       "      <td>-8.907624</td>\n",
       "      <td>2</td>\n",
       "    </tr>\n",
       "    <tr>\n",
       "      <th>2</th>\n",
       "      <td>-8.013462</td>\n",
       "      <td>-8.003398</td>\n",
       "      <td>3</td>\n",
       "    </tr>\n",
       "    <tr>\n",
       "      <th>3</th>\n",
       "      <td>-7.929144</td>\n",
       "      <td>-7.920152</td>\n",
       "      <td>4</td>\n",
       "    </tr>\n",
       "    <tr>\n",
       "      <th>4</th>\n",
       "      <td>-7.915096</td>\n",
       "      <td>-7.906203</td>\n",
       "      <td>5</td>\n",
       "    </tr>\n",
       "    <tr>\n",
       "      <th>5</th>\n",
       "      <td>-7.909923</td>\n",
       "      <td>-7.901036</td>\n",
       "      <td>6</td>\n",
       "    </tr>\n",
       "    <tr>\n",
       "      <th>6</th>\n",
       "      <td>-7.908991</td>\n",
       "      <td>-7.900079</td>\n",
       "      <td>7</td>\n",
       "    </tr>\n",
       "    <tr>\n",
       "      <th>7</th>\n",
       "      <td>-7.908751</td>\n",
       "      <td>-7.899819</td>\n",
       "      <td>8</td>\n",
       "    </tr>\n",
       "    <tr>\n",
       "      <th>8</th>\n",
       "      <td>-7.908420</td>\n",
       "      <td>-7.899479</td>\n",
       "      <td>9</td>\n",
       "    </tr>\n",
       "    <tr>\n",
       "      <th>9</th>\n",
       "      <td>-7.908049</td>\n",
       "      <td>-7.899105</td>\n",
       "      <td>10</td>\n",
       "    </tr>\n",
       "  </tbody>\n",
       "</table>\n",
       "</div>"
      ],
      "text/plain": [
       "   mean_test_score  mean_train_score param_poly_transform__degree\n",
       "0       -11.852156        -11.856813                            1\n",
       "1        -8.924676         -8.907624                            2\n",
       "2        -8.013462         -8.003398                            3\n",
       "3        -7.929144         -7.920152                            4\n",
       "4        -7.915096         -7.906203                            5\n",
       "5        -7.909923         -7.901036                            6\n",
       "6        -7.908991         -7.900079                            7\n",
       "7        -7.908751         -7.899819                            8\n",
       "8        -7.908420         -7.899479                            9\n",
       "9        -7.908049         -7.899105                           10"
      ]
     },
     "execution_count": 29,
     "metadata": {},
     "output_type": "execute_result"
    }
   ],
   "source": [
    "poly_result = pd.DataFrame(grid_poly.cv_results_)[['mean_test_score', 'mean_train_score', 'param_poly_transform__degree']]\n",
    "poly_result"
   ]
  },
  {
   "cell_type": "code",
   "execution_count": 30,
   "metadata": {},
   "outputs": [
    {
     "data": {
      "image/png": "[encoded data removed]",
      "text/plain": [
       "<Figure size 576x288 with 2 Axes>"
      ]
     },
     "metadata": {
      "needs_background": "light"
     },
     "output_type": "display_data"
    }
   ],
   "source": [
    "import matplotlib.pyplot as plt\n",
    "\n",
    "plt.figure(figsize=(8,4))\n",
    "\n",
    "plt.subplot(1,2,1)\n",
    "plt.plot(poly_result['param_poly_transform__degree'], -poly_result['mean_train_score'], linewidth=2, color='r')\n",
    "plt.xticks(np.arange(1,11))\n",
    "plt.xlabel('Polynomial Degree k')\n",
    "plt.ylabel('RMSE')\n",
    "plt.title('Train')\n",
    "\n",
    "plt.subplot(1,2,2)\n",
    "plt.plot(poly_result['param_poly_transform__degree'], -poly_result['mean_test_score'], linewidth=2, color='b')\n",
    "plt.title('Validation')\n",
    "plt.xticks(np.arange(1,11))\n",
    "plt.xlabel('Polynomial Degree k')\n",
    "plt.ylabel('RMSE')\n",
    "\n",
    "plt.tight_layout()\n",
    "plt.show()"
   ]
  },
  {
   "cell_type": "code",
   "execution_count": 31,
   "metadata": {},
   "outputs": [],
   "source": [
    "xs_standard_top5_FS = xs_standard[:, top5_FS]\n",
    "poly_optimal = Ridge(alpha=100, random_state=42, max_iter=1000).fit(PolynomialFeatures(3).fit_transform(xs_standard_top5_FS), ys)"
   ]
  },
  {
   "cell_type": "code",
   "execution_count": 32,
   "metadata": {},
   "outputs": [
    {
     "data": {
      "text/plain": [
       "array([32, 48, 30, 10, 46, 17,  1, 40,  2, 14, 15, 55,  3, 37,  6, 33,  8,\n",
       "        7,  5, 11, 43, 39, 44, 49, 21, 27, 54, 29, 22, 12, 41, 38,  0, 23,\n",
       "       25,  4, 18, 26, 28, 52, 42, 53, 24, 36, 31, 16, 45, 47, 35, 19, 34,\n",
       "       50,  9, 13, 51, 20])"
      ]
     },
     "execution_count": 32,
     "metadata": {},
     "output_type": "execute_result"
    }
   ],
   "source": [
    "np.argsort(poly_optimal.coef_)[::-1]"
   ]
  },
  {
   "cell_type": "markdown",
   "metadata": {},
   "source": [
    "<font size=4> **Question 15**: For the transcoding dataset it might make sense to craft inverse of certain features\n",
    "such that you get features such as $\\frac{x_ix_j}{x_k}$, etc. Explain why this might make sense and check if doing so will boost accuracy. </font>"
   ]
  },
  {
   "cell_type": "code",
   "execution_count": 34,
   "metadata": {},
   "outputs": [],
   "source": [
    "from sklearn import preprocessing \n",
    "\n",
    "x_inverse_feature = np.divide(np.prod(xs_onehot[['o_height', 'o_width']], axis=1), xs_onehot['o_bitrate'])\n",
    "x_inverse_feature = preprocessing.scale(x_inverse_feature)"
   ]
  },
  {
   "cell_type": "code",
   "execution_count": 35,
   "metadata": {},
   "outputs": [],
   "source": [
    "xs_inverse_concat = np.concatenate((xs_standard_top5_FS, x_inverse_feature.reshape(-1,1)), axis=1)"
   ]
  },
  {
   "cell_type": "code",
   "execution_count": 36,
   "metadata": {},
   "outputs": [
    {
     "data": {
      "text/plain": [
       "11.709974856431229"
      ]
     },
     "execution_count": 36,
     "metadata": {},
     "output_type": "execute_result"
    }
   ],
   "source": [
    "lm_inverse_concat = cross_validate(Ridge(alpha=100, random_state=42, max_iter=1000), \n",
    "                                   xs_inverse_concat, ys, scoring='neg_root_mean_squared_error', cv=10)\n",
    "rmse_inverse_concat = np.mean(-lm_inverse_concat['test_score'])\n",
    "rmse_inverse_concat"
   ]
  },
  {
   "cell_type": "markdown",
   "metadata": {},
   "source": [
    "## Neural Network"
   ]
  },
  {
   "cell_type": "markdown",
   "metadata": {},
   "source": [
    "<font size=4> **Question 17**: Adjust your network size (number of hidden neurons and depth), and weight decay as regularization. Find a good hyper-parameter set systematically. </font>"
   ]
  },
  {
   "cell_type": "code",
   "execution_count": 37,
   "metadata": {},
   "outputs": [
    {
     "name": "stdout",
     "output_type": "stream",
     "text": [
      "Fitting 10 folds for each of 50 candidates, totalling 500 fits\n"
     ]
    },
    {
     "name": "stderr",
     "output_type": "stream",
     "text": [
      "[Parallel(n_jobs=-1)]: Using backend LokyBackend with 4 concurrent workers.\n",
      "[Parallel(n_jobs=-1)]: Done  42 tasks      | elapsed:  7.1min\n",
      "[Parallel(n_jobs=-1)]: Done 192 tasks      | elapsed: 57.5min\n",
      "[Parallel(n_jobs=-1)]: Done 442 tasks      | elapsed: 132.6min\n",
      "[Parallel(n_jobs=-1)]: Done 500 out of 500 | elapsed: 149.1min finished\n"
     ]
    }
   ],
   "source": [
    "from sklearn.pipeline import Pipeline\n",
    "from sklearn.model_selection import GridSearchCV\n",
    "from sklearn.preprocessing import StandardScaler\n",
    "from sklearn.neural_network import MLPRegressor\n",
    "\n",
    "# tune the number of neurons for the first hidden layer\n",
    "pipe_hidden_layer1 = Pipeline([\n",
    "    ('standardize', StandardScaler()),\n",
    "    ('model', MLPRegressor(random_state=42, max_iter=2000))\n",
    "])\n",
    "\n",
    "param_grid = {\n",
    "    'model__hidden_layer_sizes': [(x,) for x in np.arange(1, 51)]\n",
    "}\n",
    "\n",
    "\n",
    "grid_hidden_layer1 = GridSearchCV(pipe_hidden_layer1, param_grid=param_grid, cv=10, n_jobs=-1, verbose=1, \n",
    "                                  scoring='neg_root_mean_squared_error', return_train_score=True).fit(xs_onehot, ys)"
   ]
  },
  {
   "cell_type": "code",
   "execution_count": 38,
   "metadata": {},
   "outputs": [
    {
     "data": {
      "text/html": [
       "<div>\n",
       "<style scoped>\n",
       "    .dataframe tbody tr th:only-of-type {\n",
       "        vertical-align: middle;\n",
       "    }\n",
       "\n",
       "    .dataframe tbody tr th {\n",
       "        vertical-align: top;\n",
       "    }\n",
       "\n",
       "    .dataframe thead th {\n",
       "        text-align: right;\n",
       "    }\n",
       "</style>\n",
       "<table border=\"1\" class=\"dataframe\">\n",
       "  <thead>\n",
       "    <tr style=\"text-align: right;\">\n",
       "      <th></th>\n",
       "      <th>mean_test_score</th>\n",
       "      <th>mean_train_score</th>\n",
       "      <th>param_model__hidden_layer_sizes</th>\n",
       "    </tr>\n",
       "  </thead>\n",
       "  <tbody>\n",
       "    <tr>\n",
       "      <th>0</th>\n",
       "      <td>-5.385672</td>\n",
       "      <td>-3.401571</td>\n",
       "      <td>(16,)</td>\n",
       "    </tr>\n",
       "    <tr>\n",
       "      <th>1</th>\n",
       "      <td>-5.452794</td>\n",
       "      <td>-4.168752</td>\n",
       "      <td>(9,)</td>\n",
       "    </tr>\n",
       "    <tr>\n",
       "      <th>2</th>\n",
       "      <td>-5.589281</td>\n",
       "      <td>-3.090332</td>\n",
       "      <td>(27,)</td>\n",
       "    </tr>\n",
       "    <tr>\n",
       "      <th>3</th>\n",
       "      <td>-5.627421</td>\n",
       "      <td>-2.972313</td>\n",
       "      <td>(37,)</td>\n",
       "    </tr>\n",
       "    <tr>\n",
       "      <th>4</th>\n",
       "      <td>-5.777354</td>\n",
       "      <td>-5.170853</td>\n",
       "      <td>(4,)</td>\n",
       "    </tr>\n",
       "  </tbody>\n",
       "</table>\n",
       "</div>"
      ],
      "text/plain": [
       "   mean_test_score  mean_train_score param_model__hidden_layer_sizes\n",
       "0        -5.385672         -3.401571                           (16,)\n",
       "1        -5.452794         -4.168752                            (9,)\n",
       "2        -5.589281         -3.090332                           (27,)\n",
       "3        -5.627421         -2.972313                           (37,)\n",
       "4        -5.777354         -5.170853                            (4,)"
      ]
     },
     "execution_count": 38,
     "metadata": {},
     "output_type": "execute_result"
    }
   ],
   "source": [
    "nn1_results = pd.DataFrame(grid_hidden_layer1.cv_results_)[['mean_test_score', 'mean_train_score', 'param_model__hidden_layer_sizes']]\n",
    "nn1_results = nn1_results.sort_values(by=['mean_test_score'], ascending=False).reset_index(drop=True)\n",
    "nn1_results.head()"
   ]
  },
  {
   "cell_type": "code",
   "execution_count": 39,
   "metadata": {},
   "outputs": [
    {
     "name": "stdout",
     "output_type": "stream",
     "text": [
      "Fitting 10 folds for each of 50 candidates, totalling 500 fits\n"
     ]
    },
    {
     "name": "stderr",
     "output_type": "stream",
     "text": [
      "[Parallel(n_jobs=-1)]: Using backend LokyBackend with 4 concurrent workers.\n",
      "[Parallel(n_jobs=-1)]: Done  42 tasks      | elapsed: 12.1min\n",
      "[Parallel(n_jobs=-1)]: Done 192 tasks      | elapsed: 57.6min\n",
      "[Parallel(n_jobs=-1)]: Done 442 tasks      | elapsed: 147.8min\n",
      "[Parallel(n_jobs=-1)]: Done 500 out of 500 | elapsed: 170.9min finished\n"
     ]
    }
   ],
   "source": [
    "# tune the number of neurons for the second hidden layer\n",
    "pipe_hidden_layer2 = Pipeline([\n",
    "    ('standardize', StandardScaler()),\n",
    "    ('model', MLPRegressor(random_state=42, max_iter=2000))\n",
    "])\n",
    "\n",
    "param_grid = {\n",
    "    'model__hidden_layer_sizes': [(16,x) for x in np.arange(1, 51)]\n",
    "}\n",
    "\n",
    "\n",
    "grid_hidden_layer2 = GridSearchCV(pipe_hidden_layer2, param_grid=param_grid, cv=10, n_jobs=-1, verbose=1, \n",
    "                                  scoring='neg_root_mean_squared_error', return_train_score=True).fit(xs_onehot, ys)"
   ]
  },
  {
   "cell_type": "code",
   "execution_count": 40,
   "metadata": {},
   "outputs": [
    {
     "data": {
      "text/html": [
       "<div>\n",
       "<style scoped>\n",
       "    .dataframe tbody tr th:only-of-type {\n",
       "        vertical-align: middle;\n",
       "    }\n",
       "\n",
       "    .dataframe tbody tr th {\n",
       "        vertical-align: top;\n",
       "    }\n",
       "\n",
       "    .dataframe thead th {\n",
       "        text-align: right;\n",
       "    }\n",
       "</style>\n",
       "<table border=\"1\" class=\"dataframe\">\n",
       "  <thead>\n",
       "    <tr style=\"text-align: right;\">\n",
       "      <th></th>\n",
       "      <th>mean_test_score</th>\n",
       "      <th>mean_train_score</th>\n",
       "      <th>param_model__hidden_layer_sizes</th>\n",
       "    </tr>\n",
       "  </thead>\n",
       "  <tbody>\n",
       "    <tr>\n",
       "      <th>0</th>\n",
       "      <td>-5.102473</td>\n",
       "      <td>-2.167312</td>\n",
       "      <td>(16, 40)</td>\n",
       "    </tr>\n",
       "    <tr>\n",
       "      <th>1</th>\n",
       "      <td>-5.268498</td>\n",
       "      <td>-2.463570</td>\n",
       "      <td>(16, 14)</td>\n",
       "    </tr>\n",
       "    <tr>\n",
       "      <th>2</th>\n",
       "      <td>-5.341222</td>\n",
       "      <td>-2.264786</td>\n",
       "      <td>(16, 18)</td>\n",
       "    </tr>\n",
       "    <tr>\n",
       "      <th>3</th>\n",
       "      <td>-5.373464</td>\n",
       "      <td>-2.063771</td>\n",
       "      <td>(16, 45)</td>\n",
       "    </tr>\n",
       "    <tr>\n",
       "      <th>4</th>\n",
       "      <td>-5.388831</td>\n",
       "      <td>-2.175561</td>\n",
       "      <td>(16, 36)</td>\n",
       "    </tr>\n",
       "  </tbody>\n",
       "</table>\n",
       "</div>"
      ],
      "text/plain": [
       "   mean_test_score  mean_train_score param_model__hidden_layer_sizes\n",
       "0        -5.102473         -2.167312                        (16, 40)\n",
       "1        -5.268498         -2.463570                        (16, 14)\n",
       "2        -5.341222         -2.264786                        (16, 18)\n",
       "3        -5.373464         -2.063771                        (16, 45)\n",
       "4        -5.388831         -2.175561                        (16, 36)"
      ]
     },
     "execution_count": 40,
     "metadata": {},
     "output_type": "execute_result"
    }
   ],
   "source": [
    "nn2_results = pd.DataFrame(grid_hidden_layer2.cv_results_)[['mean_test_score', 'mean_train_score', 'param_model__hidden_layer_sizes']]\n",
    "nn2_results = nn2_results.sort_values(by=['mean_test_score'], ascending=False).reset_index(drop=True)\n",
    "nn2_results.head()"
   ]
  },
  {
   "cell_type": "code",
   "execution_count": 41,
   "metadata": {},
   "outputs": [
    {
     "name": "stdout",
     "output_type": "stream",
     "text": [
      "Fitting 10 folds for each of 7 candidates, totalling 70 fits\n"
     ]
    },
    {
     "name": "stderr",
     "output_type": "stream",
     "text": [
      "[Parallel(n_jobs=-1)]: Using backend LokyBackend with 4 concurrent workers.\n",
      "[Parallel(n_jobs=-1)]: Done  42 tasks      | elapsed: 15.6min\n",
      "[Parallel(n_jobs=-1)]: Done  70 out of  70 | elapsed: 18.6min finished\n"
     ]
    }
   ],
   "source": [
    "# tune the regularization term\n",
    "pipe_reg = Pipeline([\n",
    "    ('standardize', StandardScaler()),\n",
    "    ('model', MLPRegressor(hidden_layer_sizes=(16,40), random_state=42, max_iter=2000))\n",
    "])\n",
    "\n",
    "param_grid = {\n",
    "    'model__alpha': [10.0**x for x in np.arange(-3,4)]\n",
    "}\n",
    "\n",
    "\n",
    "grid_reg = GridSearchCV(pipe_reg, param_grid=param_grid, cv=10, n_jobs=-1, verbose=1, \n",
    "                        scoring='neg_root_mean_squared_error', return_train_score=True).fit(xs_onehot, ys)"
   ]
  },
  {
   "cell_type": "code",
   "execution_count": 42,
   "metadata": {},
   "outputs": [
    {
     "data": {
      "text/html": [
       "<div>\n",
       "<style scoped>\n",
       "    .dataframe tbody tr th:only-of-type {\n",
       "        vertical-align: middle;\n",
       "    }\n",
       "\n",
       "    .dataframe tbody tr th {\n",
       "        vertical-align: top;\n",
       "    }\n",
       "\n",
       "    .dataframe thead th {\n",
       "        text-align: right;\n",
       "    }\n",
       "</style>\n",
       "<table border=\"1\" class=\"dataframe\">\n",
       "  <thead>\n",
       "    <tr style=\"text-align: right;\">\n",
       "      <th></th>\n",
       "      <th>mean_test_score</th>\n",
       "      <th>mean_train_score</th>\n",
       "      <th>param_model__alpha</th>\n",
       "    </tr>\n",
       "  </thead>\n",
       "  <tbody>\n",
       "    <tr>\n",
       "      <th>0</th>\n",
       "      <td>-4.928593</td>\n",
       "      <td>-3.121369</td>\n",
       "      <td>10</td>\n",
       "    </tr>\n",
       "    <tr>\n",
       "      <th>1</th>\n",
       "      <td>-5.165881</td>\n",
       "      <td>-2.123665</td>\n",
       "      <td>0.1</td>\n",
       "    </tr>\n",
       "    <tr>\n",
       "      <th>2</th>\n",
       "      <td>-5.217628</td>\n",
       "      <td>-2.292360</td>\n",
       "      <td>1</td>\n",
       "    </tr>\n",
       "    <tr>\n",
       "      <th>3</th>\n",
       "      <td>-5.390772</td>\n",
       "      <td>-4.970383</td>\n",
       "      <td>100</td>\n",
       "    </tr>\n",
       "    <tr>\n",
       "      <th>4</th>\n",
       "      <td>-5.479199</td>\n",
       "      <td>-2.130981</td>\n",
       "      <td>0.01</td>\n",
       "    </tr>\n",
       "    <tr>\n",
       "      <th>5</th>\n",
       "      <td>-5.660842</td>\n",
       "      <td>-2.121107</td>\n",
       "      <td>0.001</td>\n",
       "    </tr>\n",
       "    <tr>\n",
       "      <th>6</th>\n",
       "      <td>-9.376949</td>\n",
       "      <td>-9.321985</td>\n",
       "      <td>1000</td>\n",
       "    </tr>\n",
       "  </tbody>\n",
       "</table>\n",
       "</div>"
      ],
      "text/plain": [
       "   mean_test_score  mean_train_score param_model__alpha\n",
       "0        -4.928593         -3.121369                 10\n",
       "1        -5.165881         -2.123665                0.1\n",
       "2        -5.217628         -2.292360                  1\n",
       "3        -5.390772         -4.970383                100\n",
       "4        -5.479199         -2.130981               0.01\n",
       "5        -5.660842         -2.121107              0.001\n",
       "6        -9.376949         -9.321985               1000"
      ]
     },
     "execution_count": 42,
     "metadata": {},
     "output_type": "execute_result"
    }
   ],
   "source": [
    "nnreg_results = pd.DataFrame(grid_reg.cv_results_)[['mean_test_score', 'mean_train_score', 'param_model__alpha']]\n",
    "nnreg_results = nnreg_results.sort_values(by=['mean_test_score'], ascending=False).reset_index(drop=True)\n",
    "nnreg_results"
   ]
  },
  {
   "cell_type": "markdown",
   "metadata": {},
   "source": [
    "## Random Forest"
   ]
  },
  {
   "cell_type": "markdown",
   "metadata": {},
   "source": [
    "<font size=4> **Question 20**: Fine-tune your model. Explain how these hyperparameters affect the overall performance? Do some of them have regularization effect?</font>"
   ]
  },
  {
   "cell_type": "code",
   "execution_count": 43,
   "metadata": {},
   "outputs": [
    {
     "name": "stdout",
     "output_type": "stream",
     "text": [
      "Fitting 10 folds for each of 10 candidates, totalling 100 fits\n"
     ]
    },
    {
     "name": "stderr",
     "output_type": "stream",
     "text": [
      "[Parallel(n_jobs=-1)]: Using backend LokyBackend with 4 concurrent workers.\n",
      "[Parallel(n_jobs=-1)]: Done  42 tasks      | elapsed:  2.5min\n",
      "[Parallel(n_jobs=-1)]: Done 100 out of 100 | elapsed:  9.3min finished\n"
     ]
    }
   ],
   "source": [
    "from sklearn.pipeline import Pipeline\n",
    "from sklearn.model_selection import GridSearchCV\n",
    "from sklearn.preprocessing import StandardScaler\n",
    "from sklearn.ensemble import RandomForestRegressor\n",
    "\n",
    "pipe_num_features = Pipeline([\n",
    "    ('standardize', StandardScaler()),\n",
    "    ('model', RandomForestRegressor(random_state=42))\n",
    "])\n",
    "\n",
    "param_grid = {\n",
    "    'model__max_features': np.arange(0.1,1.1,0.1)\n",
    "}\n",
    "\n",
    "grid_num_features = GridSearchCV(pipe_num_features, param_grid=param_grid, cv=10, n_jobs=-1, verbose=1, \n",
    "                                 scoring='neg_root_mean_squared_error', \n",
    "                                 return_train_score=True).fit(xs_onehot, ys)"
   ]
  },
  {
   "cell_type": "code",
   "execution_count": 44,
   "metadata": {},
   "outputs": [
    {
     "data": {
      "text/html": [
       "<div>\n",
       "<style scoped>\n",
       "    .dataframe tbody tr th:only-of-type {\n",
       "        vertical-align: middle;\n",
       "    }\n",
       "\n",
       "    .dataframe tbody tr th {\n",
       "        vertical-align: top;\n",
       "    }\n",
       "\n",
       "    .dataframe thead th {\n",
       "        text-align: right;\n",
       "    }\n",
       "</style>\n",
       "<table border=\"1\" class=\"dataframe\">\n",
       "  <thead>\n",
       "    <tr style=\"text-align: right;\">\n",
       "      <th></th>\n",
       "      <th>mean_test_score</th>\n",
       "      <th>mean_train_score</th>\n",
       "      <th>param_model__max_features</th>\n",
       "    </tr>\n",
       "  </thead>\n",
       "  <tbody>\n",
       "    <tr>\n",
       "      <th>0</th>\n",
       "      <td>-4.003611</td>\n",
       "      <td>-0.490112</td>\n",
       "      <td>0.4</td>\n",
       "    </tr>\n",
       "    <tr>\n",
       "      <th>1</th>\n",
       "      <td>-4.020560</td>\n",
       "      <td>-0.536344</td>\n",
       "      <td>0.3</td>\n",
       "    </tr>\n",
       "    <tr>\n",
       "      <th>2</th>\n",
       "      <td>-4.052779</td>\n",
       "      <td>-0.472784</td>\n",
       "      <td>0.5</td>\n",
       "    </tr>\n",
       "    <tr>\n",
       "      <th>3</th>\n",
       "      <td>-4.074514</td>\n",
       "      <td>-0.470835</td>\n",
       "      <td>0.6</td>\n",
       "    </tr>\n",
       "    <tr>\n",
       "      <th>4</th>\n",
       "      <td>-4.110641</td>\n",
       "      <td>-0.472294</td>\n",
       "      <td>0.7</td>\n",
       "    </tr>\n",
       "  </tbody>\n",
       "</table>\n",
       "</div>"
      ],
      "text/plain": [
       "   mean_test_score  mean_train_score param_model__max_features\n",
       "0        -4.003611         -0.490112                       0.4\n",
       "1        -4.020560         -0.536344                       0.3\n",
       "2        -4.052779         -0.472784                       0.5\n",
       "3        -4.074514         -0.470835                       0.6\n",
       "4        -4.110641         -0.472294                       0.7"
      ]
     },
     "execution_count": 44,
     "metadata": {},
     "output_type": "execute_result"
    }
   ],
   "source": [
    "rf_features_results = pd.DataFrame(grid_num_features.cv_results_)[['mean_test_score', 'mean_train_score', 'param_model__max_features']]\n",
    "rf_features_results = rf_features_results.sort_values(by=['mean_test_score'], ascending=False).reset_index(drop=True)\n",
    "rf_features_results.head()"
   ]
  },
  {
   "cell_type": "code",
   "execution_count": 45,
   "metadata": {},
   "outputs": [
    {
     "name": "stdout",
     "output_type": "stream",
     "text": [
      "Fitting 10 folds for each of 20 candidates, totalling 200 fits\n"
     ]
    },
    {
     "name": "stderr",
     "output_type": "stream",
     "text": [
      "[Parallel(n_jobs=-1)]: Using backend LokyBackend with 4 concurrent workers.\n",
      "[Parallel(n_jobs=-1)]: Done  42 tasks      | elapsed:   50.2s\n",
      "[Parallel(n_jobs=-1)]: Done 192 tasks      | elapsed: 14.0min\n",
      "[Parallel(n_jobs=-1)]: Done 200 out of 200 | elapsed: 15.0min finished\n"
     ]
    }
   ],
   "source": [
    "pipe_num_trees = Pipeline([\n",
    "    ('standardize', StandardScaler()),\n",
    "    ('model', RandomForestRegressor(max_features=0.4, random_state=42))\n",
    "])\n",
    "\n",
    "param_grid = {\n",
    "    'model__n_estimators': np.arange(10, 210, 10)\n",
    "}\n",
    "\n",
    "grid_num_trees = GridSearchCV(pipe_num_trees, param_grid=param_grid, cv=10, n_jobs=-1, verbose=1, \n",
    "                                 scoring='neg_root_mean_squared_error', \n",
    "                                 return_train_score=True).fit(xs_onehot, ys)"
   ]
  },
  {
   "cell_type": "code",
   "execution_count": 46,
   "metadata": {},
   "outputs": [
    {
     "data": {
      "text/html": [
       "<div>\n",
       "<style scoped>\n",
       "    .dataframe tbody tr th:only-of-type {\n",
       "        vertical-align: middle;\n",
       "    }\n",
       "\n",
       "    .dataframe tbody tr th {\n",
       "        vertical-align: top;\n",
       "    }\n",
       "\n",
       "    .dataframe thead th {\n",
       "        text-align: right;\n",
       "    }\n",
       "</style>\n",
       "<table border=\"1\" class=\"dataframe\">\n",
       "  <thead>\n",
       "    <tr style=\"text-align: right;\">\n",
       "      <th></th>\n",
       "      <th>mean_test_score</th>\n",
       "      <th>mean_train_score</th>\n",
       "      <th>param_model__n_estimators</th>\n",
       "    </tr>\n",
       "  </thead>\n",
       "  <tbody>\n",
       "    <tr>\n",
       "      <th>0</th>\n",
       "      <td>-4.000007</td>\n",
       "      <td>-0.475046</td>\n",
       "      <td>190</td>\n",
       "    </tr>\n",
       "    <tr>\n",
       "      <th>1</th>\n",
       "      <td>-4.001542</td>\n",
       "      <td>-0.474579</td>\n",
       "      <td>200</td>\n",
       "    </tr>\n",
       "    <tr>\n",
       "      <th>2</th>\n",
       "      <td>-4.003611</td>\n",
       "      <td>-0.490112</td>\n",
       "      <td>100</td>\n",
       "    </tr>\n",
       "    <tr>\n",
       "      <th>3</th>\n",
       "      <td>-4.004236</td>\n",
       "      <td>-0.475088</td>\n",
       "      <td>180</td>\n",
       "    </tr>\n",
       "    <tr>\n",
       "      <th>4</th>\n",
       "      <td>-4.005290</td>\n",
       "      <td>-0.478765</td>\n",
       "      <td>150</td>\n",
       "    </tr>\n",
       "    <tr>\n",
       "      <th>5</th>\n",
       "      <td>-4.006078</td>\n",
       "      <td>-0.491290</td>\n",
       "      <td>90</td>\n",
       "    </tr>\n",
       "    <tr>\n",
       "      <th>6</th>\n",
       "      <td>-4.007602</td>\n",
       "      <td>-0.477265</td>\n",
       "      <td>160</td>\n",
       "    </tr>\n",
       "    <tr>\n",
       "      <th>7</th>\n",
       "      <td>-4.008424</td>\n",
       "      <td>-0.487370</td>\n",
       "      <td>110</td>\n",
       "    </tr>\n",
       "    <tr>\n",
       "      <th>8</th>\n",
       "      <td>-4.008454</td>\n",
       "      <td>-0.479836</td>\n",
       "      <td>140</td>\n",
       "    </tr>\n",
       "    <tr>\n",
       "      <th>9</th>\n",
       "      <td>-4.008634</td>\n",
       "      <td>-0.476551</td>\n",
       "      <td>170</td>\n",
       "    </tr>\n",
       "    <tr>\n",
       "      <th>10</th>\n",
       "      <td>-4.009776</td>\n",
       "      <td>-0.482108</td>\n",
       "      <td>130</td>\n",
       "    </tr>\n",
       "    <tr>\n",
       "      <th>11</th>\n",
       "      <td>-4.009947</td>\n",
       "      <td>-0.484863</td>\n",
       "      <td>120</td>\n",
       "    </tr>\n",
       "    <tr>\n",
       "      <th>12</th>\n",
       "      <td>-4.016661</td>\n",
       "      <td>-0.496058</td>\n",
       "      <td>80</td>\n",
       "    </tr>\n",
       "    <tr>\n",
       "      <th>13</th>\n",
       "      <td>-4.018888</td>\n",
       "      <td>-0.505084</td>\n",
       "      <td>60</td>\n",
       "    </tr>\n",
       "    <tr>\n",
       "      <th>14</th>\n",
       "      <td>-4.022882</td>\n",
       "      <td>-0.511265</td>\n",
       "      <td>50</td>\n",
       "    </tr>\n",
       "    <tr>\n",
       "      <th>15</th>\n",
       "      <td>-4.024680</td>\n",
       "      <td>-0.500026</td>\n",
       "      <td>70</td>\n",
       "    </tr>\n",
       "    <tr>\n",
       "      <th>16</th>\n",
       "      <td>-4.037039</td>\n",
       "      <td>-0.520145</td>\n",
       "      <td>40</td>\n",
       "    </tr>\n",
       "    <tr>\n",
       "      <th>17</th>\n",
       "      <td>-4.040908</td>\n",
       "      <td>-0.540053</td>\n",
       "      <td>30</td>\n",
       "    </tr>\n",
       "    <tr>\n",
       "      <th>18</th>\n",
       "      <td>-4.045295</td>\n",
       "      <td>-0.579210</td>\n",
       "      <td>20</td>\n",
       "    </tr>\n",
       "    <tr>\n",
       "      <th>19</th>\n",
       "      <td>-4.183646</td>\n",
       "      <td>-0.667349</td>\n",
       "      <td>10</td>\n",
       "    </tr>\n",
       "  </tbody>\n",
       "</table>\n",
       "</div>"
      ],
      "text/plain": [
       "    mean_test_score  mean_train_score param_model__n_estimators\n",
       "0         -4.000007         -0.475046                       190\n",
       "1         -4.001542         -0.474579                       200\n",
       "2         -4.003611         -0.490112                       100\n",
       "3         -4.004236         -0.475088                       180\n",
       "4         -4.005290         -0.478765                       150\n",
       "5         -4.006078         -0.491290                        90\n",
       "6         -4.007602         -0.477265                       160\n",
       "7         -4.008424         -0.487370                       110\n",
       "8         -4.008454         -0.479836                       140\n",
       "9         -4.008634         -0.476551                       170\n",
       "10        -4.009776         -0.482108                       130\n",
       "11        -4.009947         -0.484863                       120\n",
       "12        -4.016661         -0.496058                        80\n",
       "13        -4.018888         -0.505084                        60\n",
       "14        -4.022882         -0.511265                        50\n",
       "15        -4.024680         -0.500026                        70\n",
       "16        -4.037039         -0.520145                        40\n",
       "17        -4.040908         -0.540053                        30\n",
       "18        -4.045295         -0.579210                        20\n",
       "19        -4.183646         -0.667349                        10"
      ]
     },
     "execution_count": 46,
     "metadata": {},
     "output_type": "execute_result"
    }
   ],
   "source": [
    "rf_trees_results = pd.DataFrame(grid_num_trees.cv_results_)[['mean_test_score', 'mean_train_score', 'param_model__n_estimators']]\n",
    "rf_trees_results = rf_trees_results.sort_values(by=['mean_test_score'], ascending=False).reset_index(drop=True)\n",
    "rf_trees_results"
   ]
  },
  {
   "cell_type": "code",
   "execution_count": 47,
   "metadata": {},
   "outputs": [
    {
     "name": "stdout",
     "output_type": "stream",
     "text": [
      "Fitting 10 folds for each of 30 candidates, totalling 300 fits\n"
     ]
    },
    {
     "name": "stderr",
     "output_type": "stream",
     "text": [
      "[Parallel(n_jobs=-1)]: Using backend LokyBackend with 4 concurrent workers.\n",
      "[Parallel(n_jobs=-1)]: Done  42 tasks      | elapsed:   51.9s\n",
      "[Parallel(n_jobs=-1)]: Done 192 tasks      | elapsed: 13.1min\n",
      "[Parallel(n_jobs=-1)]: Done 300 out of 300 | elapsed: 27.4min finished\n"
     ]
    }
   ],
   "source": [
    "pipe_tree_depth = Pipeline([\n",
    "    ('standardize', StandardScaler()),\n",
    "    ('model', RandomForestRegressor(n_estimators=190, max_features=0.4, random_state=42))\n",
    "])\n",
    "\n",
    "param_grid = {\n",
    "    'model__max_depth': np.arange(1, 31, 1)\n",
    "}\n",
    "\n",
    "grid_tree_depth = GridSearchCV(pipe_tree_depth, param_grid=param_grid, cv=10, n_jobs=-1, \n",
    "                               verbose=1, scoring='neg_root_mean_squared_error', \n",
    "                               return_train_score=True).fit(xs_onehot, ys)"
   ]
  },
  {
   "cell_type": "code",
   "execution_count": 48,
   "metadata": {},
   "outputs": [
    {
     "data": {
      "text/html": [
       "<div>\n",
       "<style scoped>\n",
       "    .dataframe tbody tr th:only-of-type {\n",
       "        vertical-align: middle;\n",
       "    }\n",
       "\n",
       "    .dataframe tbody tr th {\n",
       "        vertical-align: top;\n",
       "    }\n",
       "\n",
       "    .dataframe thead th {\n",
       "        text-align: right;\n",
       "    }\n",
       "</style>\n",
       "<table border=\"1\" class=\"dataframe\">\n",
       "  <thead>\n",
       "    <tr style=\"text-align: right;\">\n",
       "      <th></th>\n",
       "      <th>mean_test_score</th>\n",
       "      <th>mean_train_score</th>\n",
       "      <th>param_model__max_depth</th>\n",
       "    </tr>\n",
       "  </thead>\n",
       "  <tbody>\n",
       "    <tr>\n",
       "      <th>0</th>\n",
       "      <td>-3.976728</td>\n",
       "      <td>-0.473854</td>\n",
       "      <td>26</td>\n",
       "    </tr>\n",
       "    <tr>\n",
       "      <th>1</th>\n",
       "      <td>-3.987141</td>\n",
       "      <td>-0.492813</td>\n",
       "      <td>20</td>\n",
       "    </tr>\n",
       "    <tr>\n",
       "      <th>2</th>\n",
       "      <td>-3.988526</td>\n",
       "      <td>-0.474543</td>\n",
       "      <td>25</td>\n",
       "    </tr>\n",
       "    <tr>\n",
       "      <th>3</th>\n",
       "      <td>-3.991103</td>\n",
       "      <td>-0.475772</td>\n",
       "      <td>23</td>\n",
       "    </tr>\n",
       "    <tr>\n",
       "      <th>4</th>\n",
       "      <td>-3.992635</td>\n",
       "      <td>-0.514833</td>\n",
       "      <td>19</td>\n",
       "    </tr>\n",
       "  </tbody>\n",
       "</table>\n",
       "</div>"
      ],
      "text/plain": [
       "   mean_test_score  mean_train_score param_model__max_depth\n",
       "0        -3.976728         -0.473854                     26\n",
       "1        -3.987141         -0.492813                     20\n",
       "2        -3.988526         -0.474543                     25\n",
       "3        -3.991103         -0.475772                     23\n",
       "4        -3.992635         -0.514833                     19"
      ]
     },
     "execution_count": 48,
     "metadata": {},
     "output_type": "execute_result"
    }
   ],
   "source": [
    "rf_depth_results = pd.DataFrame(grid_tree_depth.cv_results_)[['mean_test_score', 'mean_train_score', 'param_model__max_depth']]\n",
    "rf_depth_results = rf_depth_results.sort_values(by=['mean_test_score'], ascending=False).reset_index(drop=True)\n",
    "rf_depth_results.head()"
   ]
  },
  {
   "cell_type": "markdown",
   "metadata": {},
   "source": [
    "<font size=4> **Question 22:** Randomly pick a tree in your random forest model (with maximum depth of 4) and plot its structure. Which feature is selected for branching at the root node? What can you infer about the importance of features? </font>"
   ]
  },
  {
   "cell_type": "code",
   "execution_count": 49,
   "metadata": {},
   "outputs": [
    {
     "data": {
      "text/plain": [
       "RandomForestRegressor(bootstrap=True, ccp_alpha=0.0, criterion='mse',\n",
       "                      max_depth=4, max_features=0.4, max_leaf_nodes=None,\n",
       "                      max_samples=None, min_impurity_decrease=0.0,\n",
       "                      min_impurity_split=None, min_samples_leaf=1,\n",
       "                      min_samples_split=2, min_weight_fraction_leaf=0.0,\n",
       "                      n_estimators=190, n_jobs=None, oob_score=True,\n",
       "                      random_state=42, verbose=0, warm_start=False)"
      ]
     },
     "execution_count": 49,
     "metadata": {},
     "output_type": "execute_result"
    }
   ],
   "source": [
    "rf_viz = RandomForestRegressor(n_estimators=190, max_features=0.4, max_depth=4, random_state=42, oob_score=True)\n",
    "rf_viz.fit(xs_standard, ys)"
   ]
  },
  {
   "cell_type": "code",
   "execution_count": 50,
   "metadata": {},
   "outputs": [
    {
     "data": {
      "image/png": "[encoded data removed]",
      "text/plain": [
       "<IPython.core.display.Image object>"
      ]
     },
     "execution_count": 50,
     "metadata": {},
     "output_type": "execute_result"
    }
   ],
   "source": [
    "from sklearn.tree import export_graphviz\n",
    "import pydot\n",
    "from IPython.display import Image\n",
    "\n",
    "tree = rf_viz.estimators_[1]\n",
    "export_graphviz(tree, out_file = 'tree.dot', feature_names = xs_onehot.columns, rounded = True, precision = 1)\n",
    "(graph, ) = pydot.graph_from_dot_file('tree.dot')\n",
    "Image(graph.create_png())"
   ]
  },
  {
   "cell_type": "markdown",
   "metadata": {},
   "source": [
    "<font size=4> **Question 24:** For random forest model, measure “Out-of-Bag Error” (OOB) as well. Explain what OOB error and R2 score means. </font>"
   ]
  },
  {
   "cell_type": "code",
   "execution_count": 51,
   "metadata": {},
   "outputs": [
    {
     "data": {
      "text/plain": [
       "RandomForestRegressor(bootstrap=True, ccp_alpha=0.0, criterion='mse',\n",
       "                      max_depth=26, max_features=0.4, max_leaf_nodes=None,\n",
       "                      max_samples=None, min_impurity_decrease=0.0,\n",
       "                      min_impurity_split=None, min_samples_leaf=1,\n",
       "                      min_samples_split=2, min_weight_fraction_leaf=0.0,\n",
       "                      n_estimators=190, n_jobs=None, oob_score=True,\n",
       "                      random_state=42, verbose=0, warm_start=False)"
      ]
     },
     "execution_count": 51,
     "metadata": {},
     "output_type": "execute_result"
    }
   ],
   "source": [
    "rf_optim = RandomForestRegressor(n_estimators=190, max_features=0.4, max_depth=26, random_state=42, oob_score=True)\n",
    "rf_optim.fit(xs_standard, ys)"
   ]
  },
  {
   "cell_type": "code",
   "execution_count": 52,
   "metadata": {},
   "outputs": [
    {
     "name": "stdout",
     "output_type": "stream",
     "text": [
      "Optimal Random Forest Regression Model:\n",
      "R^2 score: 0.9991,\n",
      "OOB score: 0.9937.\n"
     ]
    }
   ],
   "source": [
    "print('Optimal Random Forest Regression Model:')\n",
    "print('R^2 score: %.4f,\\nOOB score: %.4f.' %(rf_optim.score(xs_standard, ys), rf_optim.oob_score_))"
   ]
  },
  {
   "cell_type": "code",
   "execution_count": null,
   "metadata": {},
   "outputs": [],
   "source": []
  }
 ],
 "metadata": {
  "kernelspec": {
   "display_name": "Python 3",
   "language": "python",
   "name": "python3"
  },
  "language_info": {
   "codemirror_mode": {
    "name": "ipython",
    "version": 3
   },
   "file_extension": ".py",
   "mimetype": "text/x-python",
   "name": "python",
   "nbconvert_exporter": "python",
   "pygments_lexer": "ipython3",
   "version": "3.7.6"
  }
 },
 "nbformat": 4,
 "nbformat_minor": 2
}
